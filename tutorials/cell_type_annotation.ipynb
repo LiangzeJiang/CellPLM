{
 "cells": [
  {
   "cell_type": "markdown",
   "id": "3b7fdabc",
   "metadata": {},
   "source": [
    "## Import necessary packages"
   ]
  },
  {
   "cell_type": "code",
   "execution_count": 1,
   "id": "adbb9c36",
   "metadata": {},
   "outputs": [
    {
     "name": "stderr",
     "output_type": "stream",
     "text": [
      "/egr/research-dselab/wenhongz/miniconda3/envs/cellplm/lib/python3.9/site-packages/tqdm/auto.py:21: TqdmWarning: IProgress not found. Please update jupyter and ipywidgets. See https://ipywidgets.readthedocs.io/en/stable/user_install.html\n",
      "  from .autonotebook import tqdm as notebook_tqdm\n"
     ]
    }
   ],
   "source": [
    "import sys\n",
    "sys.path.append('../')\n",
    "\n",
    "import hdf5plugin\n",
    "import torch\n",
    "import torch.nn as nn\n",
    "import torch.nn.functional as F\n",
    "import numpy as np\n",
    "import pandas as pd\n",
    "import scanpy as sc\n",
    "import pickle\n",
    "import anndata as ad\n",
    "from sklearn.preprocessing import LabelEncoder, OneHotEncoder\n",
    "from torch.optim.lr_scheduler import _LRScheduler, ReduceLROnPlateau\n",
    "from tqdm import tqdm\n",
    "from copy import deepcopy\n",
    "from dance.utils import set_seed\n",
    "from scipy.sparse import csr_matrix\n",
    "from CellPLM.utils.eval import downstream_eval\n",
    "from CellPLM.utils.data import XDict, clean_batches, stratified_sample_genes_by_sparsity\n",
    "from CellPLM.model import OmicsFormer\n",
    "from CellPLM.head import setup_head\n",
    "\n",
    "def create_sparse_tensor(x):\n",
    "    return torch.sparse_csr_tensor(x.indptr, x.indices, x.data, (x.shape[0], x.shape[1])).to_sparse().float().coalesce()"
   ]
  },
  {
   "cell_type": "markdown",
   "id": "1e8dd717",
   "metadata": {},
   "source": [
    "## Specify important parameters before getting started"
   ]
  },
  {
   "cell_type": "code",
   "execution_count": 2,
   "id": "5669eb8a",
   "metadata": {},
   "outputs": [],
   "source": [
    "DATASET = 'MS' # 'hPancreas'\n",
    "PRETRAIN = '20230926_85M'\n",
    "DEVICE = 'cuda:5'"
   ]
  },
  {
   "cell_type": "markdown",
   "id": "92754885",
   "metadata": {},
   "source": [
    "## Load Downstream Dataset\n",
    "\n",
    "The MS dataset is contributed by [scGPT](https://github.com/bowang-lab/scGPT/blob/main/tutorials/Tutorial_Annotation.ipynb). hPancreas dataset is contributed by [TOSICA](https://github.com/JackieHanLab/TOSICA/blob/main/test/tutorial.ipynb).\n"
   ]
  },
  {
   "cell_type": "code",
   "execution_count": 3,
   "id": "48186165",
   "metadata": {},
   "outputs": [
    {
     "name": "stderr",
     "output_type": "stream",
     "text": [
      "[INFO][2023-10-10 15:31:12,294][dance][set_seed] Setting global random seed to 10\n"
     ]
    },
    {
     "name": "stdout",
     "output_type": "stream",
     "text": [
      "(21312, 2763)\n"
     ]
    },
    {
     "name": "stderr",
     "output_type": "stream",
     "text": [
      "100%|█████████████████████████████████████████████████████████████████████████████████████████████████████████████████████████████| 1/1 [00:00<00:00, 12.65it/s]\n"
     ]
    }
   ],
   "source": [
    "set_seed(10)\n",
    "if DATASET == 'hPancreas':\n",
    "    data_train = ad.read_h5ad(f'../data/demo_train.h5ad')\n",
    "    data_test = ad.read_h5ad(f'../data/demo_test.h5ad')\n",
    "    train_num = data_train.shape[0]\n",
    "    data = ad.concat([data_train, data_test])\n",
    "    data.X = csr_matrix(data.X)\n",
    "    data.obs['celltype'] = data.obs['Celltype']\n",
    "    data.obs['batch'] = 0\n",
    "\n",
    "    import mygene\n",
    "    mg = mygene.MyGeneInfo()\n",
    "    data.var.index = mg.querymany(data.var.index.tolist(), scopes='symbol', fields='ensembl.gene', as_dataframe=True, species='human').reset_index().drop_duplicates(subset='query')['ensembl.gene'].fillna('0').tolist()\n",
    "    data.var_names_make_unique()\n",
    "\n",
    "elif DATASET == 'MS':\n",
    "    data_train = ad.read_h5ad(f'../data/c_data.h5ad')\n",
    "    data_test = ad.read_h5ad(f'../data/filtered_ms_adata.h5ad')\n",
    "    data_train.var = data_train.var.set_index('index_column')\n",
    "    data_test.var = data_test.var.set_index('index_column')\n",
    "    train_num = data_train.shape[0]\n",
    "    data = ad.concat([data_train, data_test])\n",
    "    data.obs['batch'] = 0\n",
    "    data.var_names_make_unique()\n",
    "\n",
    "with (open(f\"../ckpt/{PRETRAIN}.config.pkl\", \"rb\")) as openfile:\n",
    "    config = pickle.load(openfile)\n",
    "pretrain_gene_list = config['gene_list']\n",
    "gene_list = data.var.index.tolist()\n",
    "gene_list = [x for x in gene_list if x in pretrain_gene_list]\n",
    "data = data[:, gene_list]\n",
    "print(data.shape)\n",
    "\n",
    "order = np.arange(data.shape[0])\n",
    "labels = LabelEncoder().fit_transform(data.obs['celltype'])\n",
    "batch_labels = LabelEncoder().fit_transform(data.obs['batch'])\n",
    "out_dim = len(np.unique(labels))\n",
    "\n",
    "train_idx = []\n",
    "valid_idx = []\n",
    "test_idx = []\n",
    "\n",
    "for batch in tqdm(range(batch_labels.max() + 1)):\n",
    "    tr = torch.randperm(train_num).long()\n",
    "    temp = torch.zeros([data[batch_labels == batch].shape[0]])\n",
    "    temp[tr[:int(train_num*0.9)]] = 1\n",
    "    train_idx.append(temp.bool())\n",
    "    temp = torch.zeros([data[batch_labels == batch].shape[0]])\n",
    "    temp[tr[int(train_num*0.9):train_num]] = 1\n",
    "    valid_idx.append(temp.bool())\n",
    "    temp = torch.zeros([data[batch_labels == batch].shape[0]])\n",
    "    temp[train_num:] = 1\n",
    "    test_idx.append(temp.bool())\n"
   ]
  },
  {
   "cell_type": "markdown",
   "id": "8bbdd494",
   "metadata": {},
   "source": [
    "## Overwrite parts of the pretrain config for fine-tuning\n",
    "These hyperparameters are recommended for general purpose. We did not tune it for individual datasets."
   ]
  },
  {
   "cell_type": "code",
   "execution_count": 4,
   "id": "d9775415",
   "metadata": {},
   "outputs": [],
   "source": [
    "config['es'] = 200\n",
    "config['lr'] = 5e-3\n",
    "config['wd'] = 1e-7\n",
    "config['scheduler'] = 'plat'\n",
    "config['drop_node_rate'] = 0.3\n",
    "config['dec_layers'] = 1\n",
    "config['model_dropout'] = 0.5\n",
    "config['mask_node_rate'] = 0.75\n",
    "config['mask_feature_rate'] = 0.25\n",
    "config['dec_mod'] = 'mlp'\n",
    "config['latent_mod'] = 'ae'\n",
    "config['epochs'] = 2000\n",
    "config['head_type'] = 'annotation'\n",
    "config['out_dim'] = out_dim\n",
    "config['max_batch_size'] = 70000\n",
    "config['hvg'] = 3000\n",
    "config['batch_num'] = batch_labels.max() + 1\n",
    "config['patience'] = 25"
   ]
  },
  {
   "cell_type": "markdown",
   "id": "e855671f",
   "metadata": {},
   "source": [
    "## Fine-tuning"
   ]
  },
  {
   "cell_type": "markdown",
   "id": "4a446ded",
   "metadata": {},
   "source": [
    "Preprocess data for CellPLM."
   ]
  },
  {
   "cell_type": "code",
   "execution_count": 5,
   "id": "7dcb1064",
   "metadata": {},
   "outputs": [
    {
     "name": "stderr",
     "output_type": "stream",
     "text": [
      "  0%|                                                                                                                                     | 0/1 [00:00<?, ?it/s]/tmp/ipykernel_933360/2882960297.py:25: UserWarning: Sparse CSR tensor support is in beta state. If you miss a functionality in the sparse tensor support, please submit a feature request to https://github.com/pytorch/pytorch/issues. (Triggered internally at ../aten/src/ATen/SparseCsrTensorImpl.cpp:54.)\n",
      "  return torch.sparse_csr_tensor(x.indptr, x.indices, x.data, (x.shape[0], x.shape[1])).to_sparse().float().coalesce()\n",
      "100%|█████████████████████████████████████████████████████████████████████████████████████████████████████████████████████████████| 1/1 [00:00<00:00,  8.40it/s]\n"
     ]
    }
   ],
   "source": [
    "seq_list = []\n",
    "batch_list = []\n",
    "coord_list = []\n",
    "label_list = []\n",
    "data_hvg = data.copy()\n",
    "if config['hvg'] < data_hvg.shape[1]:\n",
    "    sc.pp.highly_variable_genes(data_hvg, n_top_genes=config['hvg'], subset=True, flavor='seurat_v3')\n",
    "gene_list = data_hvg.var.index.tolist()\n",
    "for batch in tqdm(range(batch_labels.max() + 1)):\n",
    "    x = data_hvg[batch_labels == batch].X.astype(float)\n",
    "    seq_list.append(create_sparse_tensor(x))\n",
    "    batch_list.append(torch.from_numpy(batch_labels[batch_labels == batch]))\n",
    "    coord_list.append(torch.zeros(x.shape[0], 2) - 1)\n",
    "    label_list.append(torch.from_numpy(labels[batch_labels == batch]).float())"
   ]
  },
  {
   "cell_type": "markdown",
   "id": "021c3551",
   "metadata": {},
   "source": [
    "Prepare pretrained model."
   ]
  },
  {
   "cell_type": "code",
   "execution_count": 6,
   "id": "5ffae744",
   "metadata": {},
   "outputs": [
    {
     "data": {
      "text/plain": [
       "OmicsFormer(\n",
       "  (embedder): OmicsEmbeddingLayer(\n",
       "    (act): ReLU()\n",
       "    (norm0): GroupNorm(4, 1024, eps=1e-05, affine=True)\n",
       "    (dropout): Dropout(p=0.5, inplace=False)\n",
       "    (extra_linear): Sequential(\n",
       "      (0): Linear(in_features=1024, out_features=1024, bias=True)\n",
       "      (1): ReLU()\n",
       "      (2): Dropout(p=0.5, inplace=False)\n",
       "      (3): GroupNorm(4, 1024, eps=1e-05, affine=True)\n",
       "    )\n",
       "    (pe_enc): Sinusoidal2dPE(\n",
       "      (pe_enc): Embedding(10000, 1024)\n",
       "    )\n",
       "    (feat_enc): OmicsEmbedder()\n",
       "  )\n",
       "  (mask_model): MaskBuilder()\n",
       "  (encoder): TransformerEncoder(\n",
       "    (layers): ModuleList(\n",
       "      (0): FlowformerLayer(\n",
       "        (self_attn): Flow_Attention(\n",
       "          (query_projection): Linear(in_features=1024, out_features=1024, bias=True)\n",
       "          (key_projection): Linear(in_features=1024, out_features=1024, bias=True)\n",
       "          (value_projection): Linear(in_features=1024, out_features=1024, bias=True)\n",
       "          (out_projection): Linear(in_features=1024, out_features=1024, bias=True)\n",
       "          (dropout): Dropout(p=0.01, inplace=False)\n",
       "        )\n",
       "        (_ff_block): Sequential(\n",
       "          (0): Linear(in_features=1024, out_features=2048, bias=True)\n",
       "          (1): GELU(approximate='none')\n",
       "          (2): Dropout(p=0.5, inplace=False)\n",
       "          (3): Linear(in_features=2048, out_features=1024, bias=True)\n",
       "          (4): Dropout(p=0.5, inplace=False)\n",
       "        )\n",
       "        (dropout1): Dropout(p=0.5, inplace=False)\n",
       "        (norm1): LayerNorm((1024,), eps=1e-05, elementwise_affine=True)\n",
       "        (norm2): LayerNorm((1024,), eps=1e-05, elementwise_affine=True)\n",
       "      )\n",
       "      (1): FlowformerLayer(\n",
       "        (self_attn): Flow_Attention(\n",
       "          (query_projection): Linear(in_features=1024, out_features=1024, bias=True)\n",
       "          (key_projection): Linear(in_features=1024, out_features=1024, bias=True)\n",
       "          (value_projection): Linear(in_features=1024, out_features=1024, bias=True)\n",
       "          (out_projection): Linear(in_features=1024, out_features=1024, bias=True)\n",
       "          (dropout): Dropout(p=0.01, inplace=False)\n",
       "        )\n",
       "        (_ff_block): Sequential(\n",
       "          (0): Linear(in_features=1024, out_features=2048, bias=True)\n",
       "          (1): GELU(approximate='none')\n",
       "          (2): Dropout(p=0.5, inplace=False)\n",
       "          (3): Linear(in_features=2048, out_features=1024, bias=True)\n",
       "          (4): Dropout(p=0.5, inplace=False)\n",
       "        )\n",
       "        (dropout1): Dropout(p=0.5, inplace=False)\n",
       "        (norm1): LayerNorm((1024,), eps=1e-05, elementwise_affine=True)\n",
       "        (norm2): LayerNorm((1024,), eps=1e-05, elementwise_affine=True)\n",
       "      )\n",
       "      (2): FlowformerLayer(\n",
       "        (self_attn): Flow_Attention(\n",
       "          (query_projection): Linear(in_features=1024, out_features=1024, bias=True)\n",
       "          (key_projection): Linear(in_features=1024, out_features=1024, bias=True)\n",
       "          (value_projection): Linear(in_features=1024, out_features=1024, bias=True)\n",
       "          (out_projection): Linear(in_features=1024, out_features=1024, bias=True)\n",
       "          (dropout): Dropout(p=0.01, inplace=False)\n",
       "        )\n",
       "        (_ff_block): Sequential(\n",
       "          (0): Linear(in_features=1024, out_features=2048, bias=True)\n",
       "          (1): GELU(approximate='none')\n",
       "          (2): Dropout(p=0.5, inplace=False)\n",
       "          (3): Linear(in_features=2048, out_features=1024, bias=True)\n",
       "          (4): Dropout(p=0.5, inplace=False)\n",
       "        )\n",
       "        (dropout1): Dropout(p=0.5, inplace=False)\n",
       "        (norm1): LayerNorm((1024,), eps=1e-05, elementwise_affine=True)\n",
       "        (norm2): LayerNorm((1024,), eps=1e-05, elementwise_affine=True)\n",
       "      )\n",
       "      (3): FlowformerLayer(\n",
       "        (self_attn): Flow_Attention(\n",
       "          (query_projection): Linear(in_features=1024, out_features=1024, bias=True)\n",
       "          (key_projection): Linear(in_features=1024, out_features=1024, bias=True)\n",
       "          (value_projection): Linear(in_features=1024, out_features=1024, bias=True)\n",
       "          (out_projection): Linear(in_features=1024, out_features=1024, bias=True)\n",
       "          (dropout): Dropout(p=0.01, inplace=False)\n",
       "        )\n",
       "        (_ff_block): Sequential(\n",
       "          (0): Linear(in_features=1024, out_features=2048, bias=True)\n",
       "          (1): GELU(approximate='none')\n",
       "          (2): Dropout(p=0.5, inplace=False)\n",
       "          (3): Linear(in_features=2048, out_features=1024, bias=True)\n",
       "          (4): Dropout(p=0.5, inplace=False)\n",
       "        )\n",
       "        (dropout1): Dropout(p=0.5, inplace=False)\n",
       "        (norm1): LayerNorm((1024,), eps=1e-05, elementwise_affine=True)\n",
       "        (norm2): LayerNorm((1024,), eps=1e-05, elementwise_affine=True)\n",
       "      )\n",
       "    )\n",
       "  )\n",
       "  (latent): LatentModel(\n",
       "    (layers): ModuleList(\n",
       "      (0): PlaceholderLayer()\n",
       "      (1): MergeLatentLayer(\n",
       "        (lat_2lat): Sequential(\n",
       "          (0): Linear(in_features=1024, out_features=512, bias=True)\n",
       "        )\n",
       "      )\n",
       "    )\n",
       "  )\n",
       "  (head): AnnotationHead(\n",
       "    (ce_loss): CrossEntropyLoss()\n",
       "    (mlp): Sequential(\n",
       "      (0): Dropout(p=0.5, inplace=False)\n",
       "      (1): Linear(in_features=512, out_features=18, bias=True)\n",
       "    )\n",
       "  )\n",
       "  (pre_latent_norm): PreLatentNorm(\n",
       "    (norm): LayerNorm((1024,), eps=1e-05, elementwise_affine=True)\n",
       "  )\n",
       ")"
      ]
     },
     "execution_count": 6,
     "metadata": {},
     "output_type": "execute_result"
    }
   ],
   "source": [
    "device = torch.device(DEVICE)\n",
    "model = OmicsFormer(**config)\n",
    "pretrained_file = f'../ckpt/{PRETRAIN}.best.ckpt'\n",
    "pretrained_model_dict = torch.load(pretrained_file)['model_state_dict']\n",
    "model_dict = model.state_dict()\n",
    "pretrained_dict = {\n",
    "    k: v\n",
    "    for k, v in pretrained_model_dict.items()\n",
    "    if k in model_dict and v.shape == model_dict[k].shape\n",
    "}\n",
    "model_dict.update(pretrained_dict)\n",
    "model.load_state_dict(model_dict)\n",
    "model.to(device)"
   ]
  },
  {
   "cell_type": "markdown",
   "id": "e3663370",
   "metadata": {},
   "source": [
    "## Start training\n",
    "Estimated training time is 10 minutes. Estimated early stop epoch is around 500."
   ]
  },
  {
   "cell_type": "code",
   "execution_count": 7,
   "id": "f0c897cd",
   "metadata": {},
   "outputs": [
    {
     "name": "stderr",
     "output_type": "stream",
     "text": [
      "  0%|                                                                                                                        | 1/2000 [00:13<7:22:38, 13.29s/it]"
     ]
    },
    {
     "name": "stdout",
     "output_type": "stream",
     "text": [
      "Epoch 0 | Train loss: 2.9277 | Valid loss: 2.8465\n",
      "Train ACC: 0.0440 | valid ACC: 0.0695 | test ACC: 0.0559\n",
      "Train f1: 0.0237 | valid f1: 0.0139 | test f1: 0.0075\n",
      "Train pre: 0.0429 | valid pre: 0.0095 | test pre: 0.0096\n"
     ]
    },
    {
     "name": "stderr",
     "output_type": "stream",
     "text": [
      "\r",
      "  0%|                                                                                                                        | 2/2000 [00:16<4:00:21,  7.22s/it]"
     ]
    },
    {
     "name": "stdout",
     "output_type": "stream",
     "text": [
      "Epoch 1 | Train loss: 2.8506 | Valid loss: 2.7500\n",
      "Train ACC: 0.0599 | valid ACC: 0.0804 | test ACC: 0.0627\n",
      "Train f1: 0.0451 | valid f1: 0.0498 | test f1: 0.0082\n",
      "Train pre: 0.0606 | valid pre: 0.0412 | test pre: 0.0326\n"
     ]
    },
    {
     "name": "stderr",
     "output_type": "stream",
     "text": [
      "\r",
      "  0%|▏                                                                                                                       | 3/2000 [00:19<2:52:33,  5.18s/it]"
     ]
    },
    {
     "name": "stdout",
     "output_type": "stream",
     "text": [
      "Epoch 2 | Train loss: 2.7208 | Valid loss: 2.6210\n",
      "Train ACC: 0.0702 | valid ACC: 0.0667 | test ACC: 0.0556\n",
      "Train f1: 0.0592 | valid f1: 0.0285 | test f1: 0.0029\n",
      "Train pre: 0.0669 | valid pre: 0.0181 | test pre: 0.0015\n"
     ]
    },
    {
     "name": "stderr",
     "output_type": "stream",
     "text": [
      "\r",
      "  0%|▏                                                                                                                       | 4/2000 [00:20<2:08:54,  3.88s/it]"
     ]
    },
    {
     "name": "stdout",
     "output_type": "stream",
     "text": [
      "Epoch 3 | Train loss: 2.5292 | Valid loss: 2.4955\n",
      "Train ACC: 0.0594 | valid ACC: 0.0667 | test ACC: 0.0556\n",
      "Train f1: 0.0312 | valid f1: 0.0279 | test f1: 0.0025\n",
      "Train pre: 0.0389 | valid pre: 0.0176 | test pre: 0.0013\n"
     ]
    },
    {
     "name": "stderr",
     "output_type": "stream",
     "text": [
      "\r",
      "  0%|▎                                                                                                                       | 5/2000 [00:23<1:54:40,  3.45s/it]"
     ]
    },
    {
     "name": "stdout",
     "output_type": "stream",
     "text": [
      "Epoch 4 | Train loss: 2.2890 | Valid loss: 2.5046\n",
      "Train ACC: 0.0556 | valid ACC: 0.0667 | test ACC: 0.0556\n",
      "Train f1: 0.0228 | valid f1: 0.0279 | test f1: 0.0025\n",
      "Train pre: 0.0154 | valid pre: 0.0176 | test pre: 0.0013\n"
     ]
    },
    {
     "name": "stderr",
     "output_type": "stream",
     "text": [
      "\r",
      "  0%|▎                                                                                                                       | 6/2000 [00:26<1:48:13,  3.26s/it]"
     ]
    },
    {
     "name": "stdout",
     "output_type": "stream",
     "text": [
      "Epoch 5 | Train loss: 2.1382 | Valid loss: 2.3736\n",
      "Train ACC: 0.0555 | valid ACC: 0.0678 | test ACC: 0.0623\n",
      "Train f1: 0.0228 | valid f1: 0.0356 | test f1: 0.0077\n",
      "Train pre: 0.0144 | valid pre: 0.0241 | test pre: 0.0043\n"
     ]
    },
    {
     "name": "stderr",
     "output_type": "stream",
     "text": [
      "\r",
      "  0%|▍                                                                                                                       | 7/2000 [00:29<1:44:26,  3.14s/it]"
     ]
    },
    {
     "name": "stdout",
     "output_type": "stream",
     "text": [
      "Epoch 6 | Train loss: 1.9997 | Valid loss: 2.1714\n",
      "Train ACC: 0.0643 | valid ACC: 0.1539 | test ACC: 0.1107\n",
      "Train f1: 0.0373 | valid f1: 0.1153 | test f1: 0.0748\n",
      "Train pre: 0.0480 | valid pre: 0.1162 | test pre: 0.0714\n"
     ]
    },
    {
     "name": "stderr",
     "output_type": "stream",
     "text": [
      "\r",
      "  0%|▍                                                                                                                       | 8/2000 [00:31<1:29:06,  2.68s/it]"
     ]
    },
    {
     "name": "stdout",
     "output_type": "stream",
     "text": [
      "Epoch 7 | Train loss: 1.9005 | Valid loss: 1.9674\n",
      "Train ACC: 0.0987 | valid ACC: 0.2942 | test ACC: 0.2261\n",
      "Train f1: 0.0839 | valid f1: 0.2502 | test f1: 0.1620\n",
      "Train pre: 0.1060 | valid pre: 0.2441 | test pre: 0.1570\n"
     ]
    },
    {
     "name": "stderr",
     "output_type": "stream",
     "text": [
      "\r",
      "  0%|▌                                                                                                                       | 9/2000 [00:33<1:29:14,  2.69s/it]"
     ]
    },
    {
     "name": "stdout",
     "output_type": "stream",
     "text": [
      "Epoch 8 | Train loss: 1.7298 | Valid loss: 1.9676\n",
      "Train ACC: 0.1887 | valid ACC: 0.2295 | test ACC: 0.1912\n",
      "Train f1: 0.1646 | valid f1: 0.1838 | test f1: 0.1079\n",
      "Train pre: 0.1545 | valid pre: 0.2100 | test pre: 0.1327\n"
     ]
    },
    {
     "name": "stderr",
     "output_type": "stream",
     "text": [
      "\r",
      "  0%|▌                                                                                                                      | 10/2000 [00:36<1:32:44,  2.80s/it]"
     ]
    },
    {
     "name": "stdout",
     "output_type": "stream",
     "text": [
      "Epoch 9 | Train loss: 1.6259 | Valid loss: 1.7038\n",
      "Train ACC: 0.1751 | valid ACC: 0.3007 | test ACC: 0.2488\n",
      "Train f1: 0.1398 | valid f1: 0.2614 | test f1: 0.1737\n",
      "Train pre: 0.2012 | valid pre: 0.2797 | test pre: 0.2165\n"
     ]
    },
    {
     "name": "stderr",
     "output_type": "stream",
     "text": [
      "\r",
      "  1%|▋                                                                                                                      | 11/2000 [00:38<1:21:01,  2.44s/it]"
     ]
    },
    {
     "name": "stdout",
     "output_type": "stream",
     "text": [
      "Epoch 10 | Train loss: 1.4652 | Valid loss: 1.4365\n",
      "Train ACC: 0.2286 | valid ACC: 0.3695 | test ACC: 0.2909\n",
      "Train f1: 0.2054 | valid f1: 0.3139 | test f1: 0.2199\n",
      "Train pre: 0.2260 | valid pre: 0.3308 | test pre: 0.2574\n"
     ]
    },
    {
     "name": "stderr",
     "output_type": "stream",
     "text": [
      "\r",
      "  1%|▋                                                                                                                      | 12/2000 [00:41<1:23:56,  2.53s/it]"
     ]
    },
    {
     "name": "stdout",
     "output_type": "stream",
     "text": [
      "Epoch 11 | Train loss: 1.3538 | Valid loss: 1.2766\n",
      "Train ACC: 0.2804 | valid ACC: 0.3719 | test ACC: 0.2906\n",
      "Train f1: 0.2469 | valid f1: 0.3125 | test f1: 0.2120\n",
      "Train pre: 0.2405 | valid pre: 0.3235 | test pre: 0.2099\n"
     ]
    },
    {
     "name": "stderr",
     "output_type": "stream",
     "text": [
      "\r",
      "  1%|▊                                                                                                                      | 13/2000 [00:42<1:15:24,  2.28s/it]"
     ]
    },
    {
     "name": "stdout",
     "output_type": "stream",
     "text": [
      "Epoch 12 | Train loss: 1.1758 | Valid loss: 1.1781\n",
      "Train ACC: 0.2890 | valid ACC: 0.3764 | test ACC: 0.3129\n",
      "Train f1: 0.2518 | valid f1: 0.3303 | test f1: 0.2421\n",
      "Train pre: 0.2423 | valid pre: 0.2999 | test pre: 0.2669\n"
     ]
    },
    {
     "name": "stderr",
     "output_type": "stream",
     "text": [
      "\r",
      "  1%|▊                                                                                                                      | 14/2000 [00:45<1:19:56,  2.42s/it]"
     ]
    },
    {
     "name": "stdout",
     "output_type": "stream",
     "text": [
      "Epoch 13 | Train loss: 1.1029 | Valid loss: 1.0213\n",
      "Train ACC: 0.3309 | valid ACC: 0.3986 | test ACC: 0.3233\n",
      "Train f1: 0.3090 | valid f1: 0.3517 | test f1: 0.2772\n",
      "Train pre: 0.4216 | valid pre: 0.3734 | test pre: 0.3496\n"
     ]
    },
    {
     "name": "stderr",
     "output_type": "stream",
     "text": [
      "\r",
      "  1%|▉                                                                                                                      | 15/2000 [00:48<1:24:47,  2.56s/it]"
     ]
    },
    {
     "name": "stdout",
     "output_type": "stream",
     "text": [
      "Epoch 14 | Train loss: 1.0232 | Valid loss: 0.9193\n",
      "Train ACC: 0.3417 | valid ACC: 0.5359 | test ACC: 0.4637\n",
      "Train f1: 0.3237 | valid f1: 0.5119 | test f1: 0.4161\n",
      "Train pre: 0.4402 | valid pre: 0.5434 | test pre: 0.4434\n"
     ]
    },
    {
     "name": "stderr",
     "output_type": "stream",
     "text": [
      "\r",
      "  1%|▉                                                                                                                      | 16/2000 [00:51<1:28:38,  2.68s/it]"
     ]
    },
    {
     "name": "stdout",
     "output_type": "stream",
     "text": [
      "Epoch 15 | Train loss: 0.9506 | Valid loss: 0.8482\n",
      "Train ACC: 0.4208 | valid ACC: 0.6430 | test ACC: 0.5464\n",
      "Train f1: 0.4191 | valid f1: 0.6204 | test f1: 0.5181\n",
      "Train pre: 0.5447 | valid pre: 0.6864 | test pre: 0.5604\n"
     ]
    },
    {
     "name": "stderr",
     "output_type": "stream",
     "text": [
      "\r",
      "  1%|█                                                                                                                      | 17/2000 [00:54<1:31:38,  2.77s/it]"
     ]
    },
    {
     "name": "stdout",
     "output_type": "stream",
     "text": [
      "Epoch 16 | Train loss: 0.9361 | Valid loss: 0.7426\n",
      "Train ACC: 0.4771 | valid ACC: 0.6943 | test ACC: 0.5925\n",
      "Train f1: 0.4792 | valid f1: 0.6853 | test f1: 0.5694\n",
      "Train pre: 0.4978 | valid pre: 0.7076 | test pre: 0.5831\n"
     ]
    },
    {
     "name": "stderr",
     "output_type": "stream",
     "text": [
      "\r",
      "  1%|█                                                                                                                      | 18/2000 [00:57<1:31:23,  2.77s/it]"
     ]
    },
    {
     "name": "stdout",
     "output_type": "stream",
     "text": [
      "Epoch 17 | Train loss: 0.8429 | Valid loss: 0.6862\n",
      "Train ACC: 0.5211 | valid ACC: 0.6781 | test ACC: 0.5970\n",
      "Train f1: 0.5215 | valid f1: 0.6508 | test f1: 0.5751\n",
      "Train pre: 0.5552 | valid pre: 0.6400 | test pre: 0.5935\n"
     ]
    },
    {
     "name": "stderr",
     "output_type": "stream",
     "text": [
      "\r",
      "  1%|█▏                                                                                                                     | 19/2000 [00:59<1:22:00,  2.48s/it]"
     ]
    },
    {
     "name": "stdout",
     "output_type": "stream",
     "text": [
      "Epoch 18 | Train loss: 0.8038 | Valid loss: 0.6537\n",
      "Train ACC: 0.5483 | valid ACC: 0.6909 | test ACC: 0.6098\n",
      "Train f1: 0.5455 | valid f1: 0.6646 | test f1: 0.5845\n",
      "Train pre: 0.5620 | valid pre: 0.6539 | test pre: 0.5967\n"
     ]
    },
    {
     "name": "stderr",
     "output_type": "stream",
     "text": [
      "\r",
      "  1%|█▏                                                                                                                     | 20/2000 [01:02<1:26:55,  2.63s/it]"
     ]
    },
    {
     "name": "stdout",
     "output_type": "stream",
     "text": [
      "Epoch 19 | Train loss: 0.7715 | Valid loss: 0.6312\n",
      "Train ACC: 0.5549 | valid ACC: 0.7206 | test ACC: 0.6272\n",
      "Train f1: 0.5507 | valid f1: 0.6955 | test f1: 0.5941\n",
      "Train pre: 0.5653 | valid pre: 0.6833 | test pre: 0.5973\n"
     ]
    },
    {
     "name": "stderr",
     "output_type": "stream",
     "text": [
      "\r",
      "  1%|█▏                                                                                                                     | 21/2000 [01:05<1:30:30,  2.74s/it]"
     ]
    },
    {
     "name": "stdout",
     "output_type": "stream",
     "text": [
      "Epoch 20 | Train loss: 0.7433 | Valid loss: 0.6242\n",
      "Train ACC: 0.5645 | valid ACC: 0.7427 | test ACC: 0.6388\n",
      "Train f1: 0.5589 | valid f1: 0.7247 | test f1: 0.6019\n",
      "Train pre: 0.5622 | valid pre: 0.7567 | test pre: 0.5977\n"
     ]
    },
    {
     "name": "stderr",
     "output_type": "stream",
     "text": [
      "\r",
      "  1%|█▎                                                                                                                     | 22/2000 [01:08<1:32:43,  2.81s/it]"
     ]
    },
    {
     "name": "stdout",
     "output_type": "stream",
     "text": [
      "Epoch 21 | Train loss: 0.7191 | Valid loss: 0.6119\n",
      "Train ACC: 0.5917 | valid ACC: 0.7729 | test ACC: 0.6437\n",
      "Train f1: 0.5821 | valid f1: 0.7639 | test f1: 0.6133\n",
      "Train pre: 0.5912 | valid pre: 0.7696 | test pre: 0.6035\n"
     ]
    },
    {
     "name": "stderr",
     "output_type": "stream",
     "text": [
      "\r",
      "  1%|█▎                                                                                                                     | 23/2000 [01:11<1:35:17,  2.89s/it]"
     ]
    },
    {
     "name": "stdout",
     "output_type": "stream",
     "text": [
      "Epoch 22 | Train loss: 0.6851 | Valid loss: 0.5700\n",
      "Train ACC: 0.6107 | valid ACC: 0.7861 | test ACC: 0.6517\n",
      "Train f1: 0.5900 | valid f1: 0.7844 | test f1: 0.6273\n",
      "Train pre: 0.5820 | valid pre: 0.7874 | test pre: 0.6119\n"
     ]
    },
    {
     "name": "stderr",
     "output_type": "stream",
     "text": [
      "\r",
      "  1%|█▍                                                                                                                     | 24/2000 [01:12<1:23:30,  2.54s/it]"
     ]
    },
    {
     "name": "stdout",
     "output_type": "stream",
     "text": [
      "Epoch 23 | Train loss: 0.6624 | Valid loss: 0.5518\n",
      "Train ACC: 0.6015 | valid ACC: 0.7737 | test ACC: 0.6473\n",
      "Train f1: 0.5943 | valid f1: 0.7662 | test f1: 0.6281\n",
      "Train pre: 0.5933 | valid pre: 0.7655 | test pre: 0.6181\n"
     ]
    },
    {
     "name": "stderr",
     "output_type": "stream",
     "text": [
      "\r",
      "  1%|█▍                                                                                                                     | 25/2000 [01:15<1:25:34,  2.60s/it]"
     ]
    },
    {
     "name": "stdout",
     "output_type": "stream",
     "text": [
      "Epoch 24 | Train loss: 0.6413 | Valid loss: 0.5419\n",
      "Train ACC: 0.6060 | valid ACC: 0.7719 | test ACC: 0.6576\n",
      "Train f1: 0.6057 | valid f1: 0.7650 | test f1: 0.6289\n",
      "Train pre: 0.6145 | valid pre: 0.7606 | test pre: 0.6105\n"
     ]
    },
    {
     "name": "stderr",
     "output_type": "stream",
     "text": [
      "\r",
      "  1%|█▌                                                                                                                     | 26/2000 [01:18<1:29:48,  2.73s/it]"
     ]
    },
    {
     "name": "stdout",
     "output_type": "stream",
     "text": [
      "Epoch 25 | Train loss: 0.6280 | Valid loss: 0.5197\n",
      "Train ACC: 0.5968 | valid ACC: 0.8199 | test ACC: 0.6665\n",
      "Train f1: 0.5960 | valid f1: 0.8085 | test f1: 0.6334\n",
      "Train pre: 0.6023 | valid pre: 0.8004 | test pre: 0.6153\n"
     ]
    },
    {
     "name": "stderr",
     "output_type": "stream",
     "text": [
      "\r",
      "  1%|█▌                                                                                                                     | 27/2000 [01:21<1:33:02,  2.83s/it]"
     ]
    },
    {
     "name": "stdout",
     "output_type": "stream",
     "text": [
      "Epoch 26 | Train loss: 0.6220 | Valid loss: 0.4954\n",
      "Train ACC: 0.6393 | valid ACC: 0.8181 | test ACC: 0.6693\n",
      "Train f1: 0.6284 | valid f1: 0.8101 | test f1: 0.6416\n",
      "Train pre: 0.6233 | valid pre: 0.8050 | test pre: 0.6275\n"
     ]
    },
    {
     "name": "stderr",
     "output_type": "stream",
     "text": [
      "\r",
      "  1%|█▋                                                                                                                     | 28/2000 [01:24<1:33:27,  2.84s/it]"
     ]
    },
    {
     "name": "stdout",
     "output_type": "stream",
     "text": [
      "Epoch 27 | Train loss: 0.5850 | Valid loss: 0.4738\n",
      "Train ACC: 0.6429 | valid ACC: 0.8146 | test ACC: 0.6750\n",
      "Train f1: 0.6337 | valid f1: 0.8240 | test f1: 0.6496\n",
      "Train pre: 0.6293 | valid pre: 0.8488 | test pre: 0.6324\n"
     ]
    },
    {
     "name": "stderr",
     "output_type": "stream",
     "text": [
      "\r",
      "  1%|█▋                                                                                                                     | 29/2000 [01:27<1:34:10,  2.87s/it]"
     ]
    },
    {
     "name": "stdout",
     "output_type": "stream",
     "text": [
      "Epoch 28 | Train loss: 0.5863 | Valid loss: 0.4501\n",
      "Train ACC: 0.6374 | valid ACC: 0.8213 | test ACC: 0.6755\n",
      "Train f1: 0.6318 | valid f1: 0.8134 | test f1: 0.6527\n",
      "Train pre: 0.6323 | valid pre: 0.8071 | test pre: 0.6376\n"
     ]
    },
    {
     "name": "stderr",
     "output_type": "stream",
     "text": [
      "\r",
      "  2%|█▊                                                                                                                     | 30/2000 [01:28<1:20:36,  2.46s/it]"
     ]
    },
    {
     "name": "stdout",
     "output_type": "stream",
     "text": [
      "Epoch 29 | Train loss: 0.5488 | Valid loss: 0.4587\n",
      "Train ACC: 0.6427 | valid ACC: 0.8195 | test ACC: 0.6788\n",
      "Train f1: 0.6407 | valid f1: 0.8023 | test f1: 0.6527\n",
      "Train pre: 0.6426 | valid pre: 0.7902 | test pre: 0.6358\n"
     ]
    },
    {
     "name": "stderr",
     "output_type": "stream",
     "text": [
      "\r",
      "  2%|█▊                                                                                                                     | 31/2000 [01:31<1:25:20,  2.60s/it]"
     ]
    },
    {
     "name": "stdout",
     "output_type": "stream",
     "text": [
      "Epoch 30 | Train loss: 0.5372 | Valid loss: 0.4513\n",
      "Train ACC: 0.6497 | valid ACC: 0.8242 | test ACC: 0.6837\n",
      "Train f1: 0.6449 | valid f1: 0.8052 | test f1: 0.6563\n",
      "Train pre: 0.6472 | valid pre: 0.7912 | test pre: 0.6358\n"
     ]
    },
    {
     "name": "stderr",
     "output_type": "stream",
     "text": [
      "\r",
      "  2%|█▉                                                                                                                     | 32/2000 [01:33<1:17:15,  2.36s/it]"
     ]
    },
    {
     "name": "stdout",
     "output_type": "stream",
     "text": [
      "Epoch 31 | Train loss: 0.5263 | Valid loss: 0.4454\n",
      "Train ACC: 0.6549 | valid ACC: 0.8283 | test ACC: 0.6836\n",
      "Train f1: 0.6505 | valid f1: 0.8077 | test f1: 0.6581\n",
      "Train pre: 0.6476 | valid pre: 0.7920 | test pre: 0.6946\n"
     ]
    },
    {
     "name": "stderr",
     "output_type": "stream",
     "text": [
      "\r",
      "  2%|█▉                                                                                                                     | 33/2000 [01:36<1:20:02,  2.44s/it]"
     ]
    },
    {
     "name": "stdout",
     "output_type": "stream",
     "text": [
      "Epoch 32 | Train loss: 0.5018 | Valid loss: 0.4652\n",
      "Train ACC: 0.6653 | valid ACC: 0.8328 | test ACC: 0.6726\n",
      "Train f1: 0.6572 | valid f1: 0.8119 | test f1: 0.6457\n",
      "Train pre: 0.6502 | valid pre: 0.7952 | test pre: 0.6885\n"
     ]
    },
    {
     "name": "stderr",
     "output_type": "stream",
     "text": [
      "\r",
      "  2%|██                                                                                                                     | 34/2000 [01:39<1:25:18,  2.60s/it]"
     ]
    },
    {
     "name": "stdout",
     "output_type": "stream",
     "text": [
      "Epoch 33 | Train loss: 0.4885 | Valid loss: 0.4531\n",
      "Train ACC: 0.6653 | valid ACC: 0.7983 | test ACC: 0.6805\n",
      "Train f1: 0.6635 | valid f1: 0.7752 | test f1: 0.6568\n",
      "Train pre: 0.6662 | valid pre: 0.7597 | test pre: 0.6940\n"
     ]
    },
    {
     "name": "stderr",
     "output_type": "stream",
     "text": [
      "\r",
      "  2%|██                                                                                                                     | 35/2000 [01:40<1:14:56,  2.29s/it]"
     ]
    },
    {
     "name": "stdout",
     "output_type": "stream",
     "text": [
      "Epoch 34 | Train loss: 0.5010 | Valid loss: 0.4166\n",
      "Train ACC: 0.6705 | valid ACC: 0.8306 | test ACC: 0.6934\n",
      "Train f1: 0.6666 | valid f1: 0.8109 | test f1: 0.6745\n",
      "Train pre: 0.6650 | valid pre: 0.7960 | test pre: 0.7002\n"
     ]
    },
    {
     "name": "stderr",
     "output_type": "stream",
     "text": [
      "\r",
      "  2%|██▏                                                                                                                    | 36/2000 [01:43<1:21:17,  2.48s/it]"
     ]
    },
    {
     "name": "stdout",
     "output_type": "stream",
     "text": [
      "Epoch 35 | Train loss: 0.4708 | Valid loss: 0.3976\n",
      "Train ACC: 0.6824 | valid ACC: 0.8308 | test ACC: 0.6938\n",
      "Train f1: 0.6724 | valid f1: 0.8109 | test f1: 0.6830\n",
      "Train pre: 0.6654 | valid pre: 0.7963 | test pre: 0.7065\n"
     ]
    },
    {
     "name": "stderr",
     "output_type": "stream",
     "text": [
      "\r",
      "  2%|██▏                                                                                                                    | 37/2000 [01:46<1:24:35,  2.59s/it]"
     ]
    },
    {
     "name": "stdout",
     "output_type": "stream",
     "text": [
      "Epoch 36 | Train loss: 0.4659 | Valid loss: 0.3910\n",
      "Train ACC: 0.6885 | valid ACC: 0.8296 | test ACC: 0.7009\n",
      "Train f1: 0.6931 | valid f1: 0.8096 | test f1: 0.6898\n",
      "Train pre: 0.7251 | valid pre: 0.7944 | test pre: 0.7088\n"
     ]
    },
    {
     "name": "stderr",
     "output_type": "stream",
     "text": [
      "\r",
      "  2%|██▎                                                                                                                    | 38/2000 [01:48<1:15:45,  2.32s/it]"
     ]
    },
    {
     "name": "stdout",
     "output_type": "stream",
     "text": [
      "Epoch 37 | Train loss: 0.4471 | Valid loss: 0.3972\n",
      "Train ACC: 0.6772 | valid ACC: 0.8338 | test ACC: 0.7062\n",
      "Train f1: 0.6725 | valid f1: 0.8124 | test f1: 0.6907\n",
      "Train pre: 0.6704 | valid pre: 0.7956 | test pre: 0.7334\n"
     ]
    },
    {
     "name": "stderr",
     "output_type": "stream",
     "text": [
      "\r",
      "  2%|██▎                                                                                                                    | 39/2000 [01:50<1:10:03,  2.14s/it]"
     ]
    },
    {
     "name": "stdout",
     "output_type": "stream",
     "text": [
      "Epoch 38 | Train loss: 0.4326 | Valid loss: 0.4012\n",
      "Train ACC: 0.6983 | valid ACC: 0.8336 | test ACC: 0.7146\n",
      "Train f1: 0.6894 | valid f1: 0.8126 | test f1: 0.6966\n",
      "Train pre: 0.6814 | valid pre: 0.7967 | test pre: 0.7343\n"
     ]
    },
    {
     "name": "stderr",
     "output_type": "stream",
     "text": [
      "\r",
      "  2%|██▍                                                                                                                    | 40/2000 [01:52<1:14:07,  2.27s/it]"
     ]
    },
    {
     "name": "stdout",
     "output_type": "stream",
     "text": [
      "Epoch 39 | Train loss: 0.4287 | Valid loss: 0.3862\n",
      "Train ACC: 0.6937 | valid ACC: 0.8329 | test ACC: 0.7146\n",
      "Train f1: 0.6829 | valid f1: 0.8105 | test f1: 0.7051\n",
      "Train pre: 0.6746 | valid pre: 0.7937 | test pre: 0.7277\n"
     ]
    },
    {
     "name": "stderr",
     "output_type": "stream",
     "text": [
      "\r",
      "  2%|██▍                                                                                                                    | 41/2000 [01:54<1:12:28,  2.22s/it]"
     ]
    },
    {
     "name": "stdout",
     "output_type": "stream",
     "text": [
      "Epoch 40 | Train loss: 0.4205 | Valid loss: 0.3719\n",
      "Train ACC: 0.7358 | valid ACC: 0.8317 | test ACC: 0.7186\n",
      "Train f1: 0.7502 | valid f1: 0.8169 | test f1: 0.7125\n",
      "Train pre: 0.8375 | valid pre: 0.8062 | test pre: 0.7213\n"
     ]
    },
    {
     "name": "stderr",
     "output_type": "stream",
     "text": [
      "\r",
      "  2%|██▍                                                                                                                    | 42/2000 [01:56<1:08:17,  2.09s/it]"
     ]
    },
    {
     "name": "stdout",
     "output_type": "stream",
     "text": [
      "Epoch 41 | Train loss: 0.4124 | Valid loss: 0.3706\n",
      "Train ACC: 0.7042 | valid ACC: 0.8322 | test ACC: 0.7257\n",
      "Train f1: 0.7080 | valid f1: 0.8210 | test f1: 0.7178\n",
      "Train pre: 0.7381 | valid pre: 0.8134 | test pre: 0.7257\n"
     ]
    },
    {
     "name": "stderr",
     "output_type": "stream",
     "text": [
      "\r",
      "  2%|██▌                                                                                                                    | 43/2000 [01:59<1:14:04,  2.27s/it]"
     ]
    },
    {
     "name": "stdout",
     "output_type": "stream",
     "text": [
      "Epoch 42 | Train loss: 0.3984 | Valid loss: 0.3994\n",
      "Train ACC: 0.7199 | valid ACC: 0.8346 | test ACC: 0.7184\n",
      "Train f1: 0.7203 | valid f1: 0.8186 | test f1: 0.7058\n",
      "Train pre: 0.7243 | valid pre: 0.8074 | test pre: 0.7677\n"
     ]
    },
    {
     "name": "stderr",
     "output_type": "stream",
     "text": [
      "\r",
      "  2%|██▌                                                                                                                    | 44/2000 [02:02<1:21:17,  2.49s/it]"
     ]
    },
    {
     "name": "stdout",
     "output_type": "stream",
     "text": [
      "Epoch 43 | Train loss: 0.3950 | Valid loss: 0.3796\n",
      "Train ACC: 0.6991 | valid ACC: 0.8427 | test ACC: 0.7314\n",
      "Train f1: 0.6911 | valid f1: 0.8230 | test f1: 0.7189\n",
      "Train pre: 0.6841 | valid pre: 0.8087 | test pre: 0.7807\n"
     ]
    },
    {
     "name": "stderr",
     "output_type": "stream",
     "text": [
      "\r",
      "  2%|██▋                                                                                                                    | 45/2000 [02:03<1:14:05,  2.27s/it]"
     ]
    },
    {
     "name": "stdout",
     "output_type": "stream",
     "text": [
      "Epoch 44 | Train loss: 0.3686 | Valid loss: 0.3517\n",
      "Train ACC: 0.7775 | valid ACC: 0.8398 | test ACC: 0.7428\n",
      "Train f1: 0.7662 | valid f1: 0.8246 | test f1: 0.7337\n",
      "Train pre: 0.8120 | valid pre: 0.8130 | test pre: 0.7669\n"
     ]
    },
    {
     "name": "stderr",
     "output_type": "stream",
     "text": [
      "\r",
      "  2%|██▋                                                                                                                    | 46/2000 [02:06<1:20:11,  2.46s/it]"
     ]
    },
    {
     "name": "stdout",
     "output_type": "stream",
     "text": [
      "Epoch 45 | Train loss: 0.3610 | Valid loss: 0.3417\n",
      "Train ACC: 0.7843 | valid ACC: 0.8433 | test ACC: 0.7462\n",
      "Train f1: 0.7685 | valid f1: 0.8370 | test f1: 0.7399\n",
      "Train pre: 0.7817 | valid pre: 0.8884 | test pre: 0.7881\n"
     ]
    },
    {
     "name": "stderr",
     "output_type": "stream",
     "text": [
      "\r",
      "  2%|██▊                                                                                                                    | 47/2000 [02:09<1:24:02,  2.58s/it]"
     ]
    },
    {
     "name": "stdout",
     "output_type": "stream",
     "text": [
      "Epoch 46 | Train loss: 0.3650 | Valid loss: 0.3392\n",
      "Train ACC: 0.7542 | valid ACC: 0.8446 | test ACC: 0.7516\n",
      "Train f1: 0.7256 | valid f1: 0.8372 | test f1: 0.7442\n",
      "Train pre: 0.7340 | valid pre: 0.8550 | test pre: 0.7937\n"
     ]
    },
    {
     "name": "stderr",
     "output_type": "stream",
     "text": [
      "\r",
      "  2%|██▊                                                                                                                    | 48/2000 [02:12<1:26:39,  2.66s/it]"
     ]
    },
    {
     "name": "stdout",
     "output_type": "stream",
     "text": [
      "Epoch 47 | Train loss: 0.3472 | Valid loss: 0.3669\n",
      "Train ACC: 0.7348 | valid ACC: 0.8428 | test ACC: 0.7448\n",
      "Train f1: 0.7373 | valid f1: 0.8235 | test f1: 0.7320\n",
      "Train pre: 0.7675 | valid pre: 0.8096 | test pre: 0.7710\n"
     ]
    },
    {
     "name": "stderr",
     "output_type": "stream",
     "text": [
      "\r",
      "  2%|██▉                                                                                                                    | 49/2000 [02:14<1:24:15,  2.59s/it]"
     ]
    },
    {
     "name": "stdout",
     "output_type": "stream",
     "text": [
      "Epoch 48 | Train loss: 0.3364 | Valid loss: 0.3605\n",
      "Train ACC: 0.7459 | valid ACC: 0.8437 | test ACC: 0.7492\n",
      "Train f1: 0.7511 | valid f1: 0.8254 | test f1: 0.7344\n",
      "Train pre: 0.7786 | valid pre: 0.8120 | test pre: 0.7713\n"
     ]
    },
    {
     "name": "stderr",
     "output_type": "stream",
     "text": [
      "\r",
      "  2%|██▉                                                                                                                    | 50/2000 [02:17<1:18:53,  2.43s/it]"
     ]
    },
    {
     "name": "stdout",
     "output_type": "stream",
     "text": [
      "Epoch 49 | Train loss: 0.3460 | Valid loss: 0.3376\n",
      "Train ACC: 0.7527 | valid ACC: 0.8484 | test ACC: 0.7570\n",
      "Train f1: 0.7521 | valid f1: 0.8415 | test f1: 0.7485\n",
      "Train pre: 0.7830 | valid pre: 0.8591 | test pre: 0.8083\n"
     ]
    },
    {
     "name": "stderr",
     "output_type": "stream",
     "text": [
      "\r",
      "  3%|███                                                                                                                    | 51/2000 [02:18<1:12:10,  2.22s/it]"
     ]
    },
    {
     "name": "stdout",
     "output_type": "stream",
     "text": [
      "Epoch 50 | Train loss: 0.3309 | Valid loss: 0.3502\n",
      "Train ACC: 0.7619 | valid ACC: 0.8439 | test ACC: 0.7526\n",
      "Train f1: 0.7679 | valid f1: 0.8375 | test f1: 0.7479\n",
      "Train pre: 0.7994 | valid pre: 0.8582 | test pre: 0.8103\n"
     ]
    },
    {
     "name": "stderr",
     "output_type": "stream",
     "text": [
      "\r",
      "  3%|███                                                                                                                    | 52/2000 [02:21<1:17:45,  2.39s/it]"
     ]
    },
    {
     "name": "stdout",
     "output_type": "stream",
     "text": [
      "Epoch 51 | Train loss: 0.3319 | Valid loss: 0.3492\n",
      "Train ACC: 0.7732 | valid ACC: 0.8442 | test ACC: 0.7548\n",
      "Train f1: 0.7641 | valid f1: 0.8363 | test f1: 0.7469\n",
      "Train pre: 0.7789 | valid pre: 0.8542 | test pre: 0.7949\n"
     ]
    },
    {
     "name": "stderr",
     "output_type": "stream",
     "text": [
      "\r",
      "  3%|███▏                                                                                                                   | 53/2000 [02:24<1:19:59,  2.46s/it]"
     ]
    },
    {
     "name": "stdout",
     "output_type": "stream",
     "text": [
      "Epoch 52 | Train loss: 0.3053 | Valid loss: 0.3595\n",
      "Train ACC: 0.7805 | valid ACC: 0.8462 | test ACC: 0.7572\n",
      "Train f1: 0.7691 | valid f1: 0.8341 | test f1: 0.7437\n",
      "Train pre: 0.7854 | valid pre: 0.8367 | test pre: 0.7791\n"
     ]
    },
    {
     "name": "stderr",
     "output_type": "stream",
     "text": [
      "\r",
      "  3%|███▏                                                                                                                   | 54/2000 [02:25<1:13:24,  2.26s/it]"
     ]
    },
    {
     "name": "stdout",
     "output_type": "stream",
     "text": [
      "Epoch 53 | Train loss: 0.3118 | Valid loss: 0.3595\n",
      "Train ACC: 0.7761 | valid ACC: 0.8483 | test ACC: 0.7581\n",
      "Train f1: 0.7801 | valid f1: 0.8359 | test f1: 0.7454\n",
      "Train pre: 0.8034 | valid pre: 0.8382 | test pre: 0.7790\n"
     ]
    },
    {
     "name": "stderr",
     "output_type": "stream",
     "text": [
      "\r",
      "  3%|███▎                                                                                                                   | 55/2000 [02:28<1:18:13,  2.41s/it]"
     ]
    },
    {
     "name": "stdout",
     "output_type": "stream",
     "text": [
      "Epoch 54 | Train loss: 0.3019 | Valid loss: 0.3548\n",
      "Train ACC: 0.7865 | valid ACC: 0.8463 | test ACC: 0.7563\n",
      "Train f1: 0.7741 | valid f1: 0.8351 | test f1: 0.7492\n",
      "Train pre: 0.7700 | valid pre: 0.8390 | test pre: 0.7817\n"
     ]
    },
    {
     "name": "stderr",
     "output_type": "stream",
     "text": [
      "\r",
      "  3%|███▎                                                                                                                   | 56/2000 [02:30<1:11:23,  2.20s/it]"
     ]
    },
    {
     "name": "stdout",
     "output_type": "stream",
     "text": [
      "Epoch 55 | Train loss: 0.2998 | Valid loss: 0.3288\n",
      "Train ACC: 0.7921 | valid ACC: 0.8507 | test ACC: 0.7631\n",
      "Train f1: 0.8010 | valid f1: 0.8435 | test f1: 0.7572\n",
      "Train pre: 0.8271 | valid pre: 0.8607 | test pre: 0.7896\n"
     ]
    },
    {
     "name": "stderr",
     "output_type": "stream",
     "text": [
      "\r",
      "  3%|███▍                                                                                                                   | 57/2000 [02:33<1:18:51,  2.44s/it]"
     ]
    },
    {
     "name": "stdout",
     "output_type": "stream",
     "text": [
      "Epoch 56 | Train loss: 0.2820 | Valid loss: 0.3256\n",
      "Train ACC: 0.7592 | valid ACC: 0.8503 | test ACC: 0.7640\n",
      "Train f1: 0.7656 | valid f1: 0.8423 | test f1: 0.7547\n",
      "Train pre: 0.7815 | valid pre: 0.8582 | test pre: 0.7842\n"
     ]
    },
    {
     "name": "stderr",
     "output_type": "stream",
     "text": [
      "\r",
      "  3%|███▍                                                                                                                   | 58/2000 [02:35<1:13:03,  2.26s/it]"
     ]
    },
    {
     "name": "stdout",
     "output_type": "stream",
     "text": [
      "Epoch 57 | Train loss: 0.2822 | Valid loss: 0.3384\n",
      "Train ACC: 0.7574 | valid ACC: 0.8491 | test ACC: 0.7603\n",
      "Train f1: 0.7569 | valid f1: 0.8374 | test f1: 0.7486\n",
      "Train pre: 0.7629 | valid pre: 0.8399 | test pre: 0.7922\n"
     ]
    },
    {
     "name": "stderr",
     "output_type": "stream",
     "text": [
      "\r",
      "  3%|███▌                                                                                                                   | 59/2000 [02:37<1:16:41,  2.37s/it]"
     ]
    },
    {
     "name": "stdout",
     "output_type": "stream",
     "text": [
      "Epoch 58 | Train loss: 0.2889 | Valid loss: 0.3521\n",
      "Train ACC: 0.7686 | valid ACC: 0.8506 | test ACC: 0.7539\n",
      "Train f1: 0.7641 | valid f1: 0.8375 | test f1: 0.7441\n",
      "Train pre: 0.7735 | valid pre: 0.8398 | test pre: 0.7806\n"
     ]
    },
    {
     "name": "stderr",
     "output_type": "stream",
     "text": [
      "\r",
      "  3%|███▌                                                                                                                   | 60/2000 [02:39<1:10:54,  2.19s/it]"
     ]
    },
    {
     "name": "stdout",
     "output_type": "stream",
     "text": [
      "Epoch 59 | Train loss: 0.2765 | Valid loss: 0.3425\n",
      "Train ACC: 0.7402 | valid ACC: 0.8466 | test ACC: 0.7601\n",
      "Train f1: 0.7384 | valid f1: 0.8410 | test f1: 0.7522\n",
      "Train pre: 0.7477 | valid pre: 0.8602 | test pre: 0.7811\n"
     ]
    },
    {
     "name": "stderr",
     "output_type": "stream",
     "text": [
      "\r",
      "  3%|███▋                                                                                                                   | 61/2000 [02:42<1:16:43,  2.37s/it]"
     ]
    },
    {
     "name": "stdout",
     "output_type": "stream",
     "text": [
      "Epoch 60 | Train loss: 0.2651 | Valid loss: 0.3280\n",
      "Train ACC: 0.7967 | valid ACC: 0.8489 | test ACC: 0.7613\n",
      "Train f1: 0.8092 | valid f1: 0.8426 | test f1: 0.7562\n",
      "Train pre: 0.8535 | valid pre: 0.8933 | test pre: 0.7876\n"
     ]
    },
    {
     "name": "stderr",
     "output_type": "stream",
     "text": [
      "\r",
      "  3%|███▋                                                                                                                   | 62/2000 [02:44<1:10:35,  2.19s/it]"
     ]
    },
    {
     "name": "stdout",
     "output_type": "stream",
     "text": [
      "Epoch 61 | Train loss: 0.2641 | Valid loss: 0.3312\n",
      "Train ACC: 0.7694 | valid ACC: 0.8476 | test ACC: 0.7637\n",
      "Train f1: 0.7734 | valid f1: 0.8380 | test f1: 0.7589\n",
      "Train pre: 0.7887 | valid pre: 0.8529 | test pre: 0.7974\n"
     ]
    },
    {
     "name": "stderr",
     "output_type": "stream",
     "text": [
      "\r",
      "  3%|███▋                                                                                                                   | 63/2000 [02:46<1:13:26,  2.27s/it]"
     ]
    },
    {
     "name": "stdout",
     "output_type": "stream",
     "text": [
      "Epoch 62 | Train loss: 0.2700 | Valid loss: 0.3454\n",
      "Train ACC: 0.7964 | valid ACC: 0.8500 | test ACC: 0.7663\n",
      "Train f1: 0.8049 | valid f1: 0.8395 | test f1: 0.7607\n",
      "Train pre: 0.8283 | valid pre: 0.8527 | test pre: 0.7873\n"
     ]
    },
    {
     "name": "stderr",
     "output_type": "stream",
     "text": [
      "\r",
      "  3%|███▊                                                                                                                   | 64/2000 [02:48<1:10:11,  2.18s/it]"
     ]
    },
    {
     "name": "stdout",
     "output_type": "stream",
     "text": [
      "Epoch 63 | Train loss: 0.2449 | Valid loss: 0.3732\n",
      "Train ACC: 0.8289 | valid ACC: 0.8501 | test ACC: 0.7609\n",
      "Train f1: 0.8324 | valid f1: 0.8380 | test f1: 0.7536\n",
      "Train pre: 0.8511 | valid pre: 0.8405 | test pre: 0.7754\n"
     ]
    },
    {
     "name": "stderr",
     "output_type": "stream",
     "text": [
      "\r",
      "  3%|███▊                                                                                                                   | 65/2000 [02:51<1:13:59,  2.29s/it]"
     ]
    },
    {
     "name": "stdout",
     "output_type": "stream",
     "text": [
      "Epoch 64 | Train loss: 0.2363 | Valid loss: 0.3657\n",
      "Train ACC: 0.7970 | valid ACC: 0.8489 | test ACC: 0.7573\n",
      "Train f1: 0.8077 | valid f1: 0.8385 | test f1: 0.7513\n",
      "Train pre: 0.8437 | valid pre: 0.8528 | test pre: 0.7727\n"
     ]
    },
    {
     "name": "stderr",
     "output_type": "stream",
     "text": [
      "\r",
      "  3%|███▉                                                                                                                   | 66/2000 [02:52<1:08:47,  2.13s/it]"
     ]
    },
    {
     "name": "stdout",
     "output_type": "stream",
     "text": [
      "Epoch 65 | Train loss: 0.2509 | Valid loss: 0.3334\n",
      "Train ACC: 0.8357 | valid ACC: 0.8512 | test ACC: 0.7621\n",
      "Train f1: 0.8575 | valid f1: 0.8412 | test f1: 0.7562\n",
      "Train pre: 0.9071 | valid pre: 0.8555 | test pre: 0.7804\n"
     ]
    },
    {
     "name": "stderr",
     "output_type": "stream",
     "text": [
      "\r",
      "  3%|███▉                                                                                                                   | 67/2000 [02:54<1:04:14,  1.99s/it]"
     ]
    },
    {
     "name": "stdout",
     "output_type": "stream",
     "text": [
      "Epoch 66 | Train loss: 0.2324 | Valid loss: 0.3234\n",
      "Train ACC: 0.7947 | valid ACC: 0.8524 | test ACC: 0.7652\n",
      "Train f1: 0.8066 | valid f1: 0.8435 | test f1: 0.7583\n",
      "Train pre: 0.8506 | valid pre: 0.8906 | test pre: 0.7811\n"
     ]
    },
    {
     "name": "stderr",
     "output_type": "stream",
     "text": [
      "\r",
      "  3%|████                                                                                                                   | 68/2000 [02:57<1:11:23,  2.22s/it]"
     ]
    },
    {
     "name": "stdout",
     "output_type": "stream",
     "text": [
      "Epoch 67 | Train loss: 0.2501 | Valid loss: 0.3190\n",
      "Train ACC: 0.7992 | valid ACC: 0.8513 | test ACC: 0.7640\n",
      "Train f1: 0.7808 | valid f1: 0.8438 | test f1: 0.7578\n",
      "Train pre: 0.7841 | valid pre: 0.8605 | test pre: 0.7743\n"
     ]
    },
    {
     "name": "stderr",
     "output_type": "stream",
     "text": [
      "\r",
      "  3%|████                                                                                                                   | 69/2000 [03:00<1:17:21,  2.40s/it]"
     ]
    },
    {
     "name": "stdout",
     "output_type": "stream",
     "text": [
      "Epoch 68 | Train loss: 0.2194 | Valid loss: 0.3244\n",
      "Train ACC: 0.8464 | valid ACC: 0.8498 | test ACC: 0.7630\n",
      "Train f1: 0.8572 | valid f1: 0.8416 | test f1: 0.7583\n",
      "Train pre: 0.8788 | valid pre: 0.8579 | test pre: 0.7717\n"
     ]
    },
    {
     "name": "stderr",
     "output_type": "stream",
     "text": [
      "\r",
      "  4%|████▏                                                                                                                  | 70/2000 [03:03<1:20:56,  2.52s/it]"
     ]
    },
    {
     "name": "stdout",
     "output_type": "stream",
     "text": [
      "Epoch 69 | Train loss: 0.2113 | Valid loss: 0.3387\n",
      "Train ACC: 0.8478 | valid ACC: 0.8512 | test ACC: 0.7665\n",
      "Train f1: 0.8278 | valid f1: 0.8418 | test f1: 0.7622\n",
      "Train pre: 0.8273 | valid pre: 0.8571 | test pre: 0.7730\n"
     ]
    },
    {
     "name": "stderr",
     "output_type": "stream",
     "text": [
      "\r",
      "  4%|████▏                                                                                                                  | 71/2000 [03:04<1:12:44,  2.26s/it]"
     ]
    },
    {
     "name": "stdout",
     "output_type": "stream",
     "text": [
      "Epoch 70 | Train loss: 0.2306 | Valid loss: 0.3329\n",
      "Train ACC: 0.7801 | valid ACC: 0.8496 | test ACC: 0.7728\n",
      "Train f1: 0.7926 | valid f1: 0.8386 | test f1: 0.7661\n",
      "Train pre: 0.8202 | valid pre: 0.8373 | test pre: 0.7768\n"
     ]
    },
    {
     "name": "stderr",
     "output_type": "stream",
     "text": [
      "\r",
      "  4%|████▎                                                                                                                  | 72/2000 [03:07<1:19:29,  2.47s/it]"
     ]
    },
    {
     "name": "stdout",
     "output_type": "stream",
     "text": [
      "Epoch 71 | Train loss: 0.2039 | Valid loss: 0.3416\n",
      "Train ACC: 0.8750 | valid ACC: 0.8540 | test ACC: 0.7764\n",
      "Train f1: 0.8754 | valid f1: 0.8435 | test f1: 0.7717\n",
      "Train pre: 0.8788 | valid pre: 0.8569 | test pre: 0.7883\n"
     ]
    },
    {
     "name": "stderr",
     "output_type": "stream",
     "text": [
      "\r",
      "  4%|████▎                                                                                                                  | 73/2000 [03:10<1:18:27,  2.44s/it]"
     ]
    },
    {
     "name": "stdout",
     "output_type": "stream",
     "text": [
      "Epoch 72 | Train loss: 0.2155 | Valid loss: 0.3174\n",
      "Train ACC: 0.8529 | valid ACC: 0.8559 | test ACC: 0.7774\n",
      "Train f1: 0.8508 | valid f1: 0.8472 | test f1: 0.7743\n",
      "Train pre: 0.8597 | valid pre: 0.8945 | test pre: 0.8017\n"
     ]
    },
    {
     "name": "stderr",
     "output_type": "stream",
     "text": [
      "\r",
      "  4%|████▍                                                                                                                  | 74/2000 [03:12<1:15:44,  2.36s/it]"
     ]
    },
    {
     "name": "stdout",
     "output_type": "stream",
     "text": [
      "Epoch 73 | Train loss: 0.2093 | Valid loss: 0.3193\n",
      "Train ACC: 0.8401 | valid ACC: 0.8524 | test ACC: 0.7738\n",
      "Train f1: 0.8522 | valid f1: 0.8438 | test f1: 0.7730\n",
      "Train pre: 0.8818 | valid pre: 0.8927 | test pre: 0.8042\n"
     ]
    },
    {
     "name": "stderr",
     "output_type": "stream",
     "text": [
      "\r",
      "  4%|████▍                                                                                                                  | 75/2000 [03:15<1:21:04,  2.53s/it]"
     ]
    },
    {
     "name": "stdout",
     "output_type": "stream",
     "text": [
      "Epoch 74 | Train loss: 0.2117 | Valid loss: 0.3293\n",
      "Train ACC: 0.8108 | valid ACC: 0.8539 | test ACC: 0.7735\n",
      "Train f1: 0.8150 | valid f1: 0.8453 | test f1: 0.7689\n",
      "Train pre: 0.8256 | valid pre: 0.8619 | test pre: 0.7961\n"
     ]
    },
    {
     "name": "stderr",
     "output_type": "stream",
     "text": [
      "\r",
      "  4%|████▌                                                                                                                  | 76/2000 [03:17<1:24:01,  2.62s/it]"
     ]
    },
    {
     "name": "stdout",
     "output_type": "stream",
     "text": [
      "Epoch 75 | Train loss: 0.2092 | Valid loss: 0.3400\n",
      "Train ACC: 0.7805 | valid ACC: 0.8537 | test ACC: 0.7748\n",
      "Train f1: 0.7934 | valid f1: 0.8444 | test f1: 0.7647\n",
      "Train pre: 0.8262 | valid pre: 0.8498 | test pre: 0.7952\n"
     ]
    },
    {
     "name": "stderr",
     "output_type": "stream",
     "text": [
      "\r",
      "  4%|████▌                                                                                                                  | 77/2000 [03:19<1:14:35,  2.33s/it]"
     ]
    },
    {
     "name": "stdout",
     "output_type": "stream",
     "text": [
      "Epoch 76 | Train loss: 0.1975 | Valid loss: 0.3394\n",
      "Train ACC: 0.8027 | valid ACC: 0.8539 | test ACC: 0.7715\n",
      "Train f1: 0.8014 | valid f1: 0.8437 | test f1: 0.7589\n",
      "Train pre: 0.8061 | valid pre: 0.8475 | test pre: 0.7898\n"
     ]
    },
    {
     "name": "stderr",
     "output_type": "stream",
     "text": [
      "\r",
      "  4%|████▋                                                                                                                  | 78/2000 [03:22<1:19:38,  2.49s/it]"
     ]
    },
    {
     "name": "stdout",
     "output_type": "stream",
     "text": [
      "Epoch 77 | Train loss: 0.1952 | Valid loss: 0.3283\n",
      "Train ACC: 0.8492 | valid ACC: 0.8526 | test ACC: 0.7675\n",
      "Train f1: 0.8551 | valid f1: 0.8417 | test f1: 0.7612\n",
      "Train pre: 0.8737 | valid pre: 0.8872 | test pre: 0.7812\n"
     ]
    },
    {
     "name": "stderr",
     "output_type": "stream",
     "text": [
      "\r",
      "  4%|████▋                                                                                                                  | 79/2000 [03:25<1:23:58,  2.62s/it]"
     ]
    },
    {
     "name": "stdout",
     "output_type": "stream",
     "text": [
      "Epoch 78 | Train loss: 0.1879 | Valid loss: 0.3320\n",
      "Train ACC: 0.9088 | valid ACC: 0.8505 | test ACC: 0.7649\n",
      "Train f1: 0.9120 | valid f1: 0.8429 | test f1: 0.7622\n",
      "Train pre: 0.9199 | valid pre: 0.8917 | test pre: 0.7837\n"
     ]
    },
    {
     "name": "stderr",
     "output_type": "stream",
     "text": [
      "\r",
      "  4%|████▊                                                                                                                  | 80/2000 [03:27<1:15:57,  2.37s/it]"
     ]
    },
    {
     "name": "stdout",
     "output_type": "stream",
     "text": [
      "Epoch 79 | Train loss: 0.1925 | Valid loss: 0.3353\n",
      "Train ACC: 0.8135 | valid ACC: 0.8509 | test ACC: 0.7642\n",
      "Train f1: 0.8292 | valid f1: 0.8432 | test f1: 0.7641\n",
      "Train pre: 0.8733 | valid pre: 0.8930 | test pre: 0.8101\n"
     ]
    },
    {
     "name": "stderr",
     "output_type": "stream",
     "text": [
      "\r",
      "  4%|████▊                                                                                                                  | 81/2000 [03:29<1:19:08,  2.47s/it]"
     ]
    },
    {
     "name": "stdout",
     "output_type": "stream",
     "text": [
      "Epoch 80 | Train loss: 0.1836 | Valid loss: 0.3349\n",
      "Train ACC: 0.8365 | valid ACC: 0.8517 | test ACC: 0.7667\n",
      "Train f1: 0.8414 | valid f1: 0.8423 | test f1: 0.7639\n",
      "Train pre: 0.8748 | valid pre: 0.8902 | test pre: 0.8058\n"
     ]
    },
    {
     "name": "stderr",
     "output_type": "stream",
     "text": [
      "\r",
      "  4%|████▉                                                                                                                  | 82/2000 [03:32<1:23:09,  2.60s/it]"
     ]
    },
    {
     "name": "stdout",
     "output_type": "stream",
     "text": [
      "Epoch 81 | Train loss: 0.1964 | Valid loss: 0.3367\n",
      "Train ACC: 0.8143 | valid ACC: 0.8487 | test ACC: 0.7723\n",
      "Train f1: 0.8184 | valid f1: 0.8324 | test f1: 0.7615\n",
      "Train pre: 0.8396 | valid pre: 0.8238 | test pre: 0.7734\n"
     ]
    },
    {
     "name": "stderr",
     "output_type": "stream",
     "text": [
      "\r",
      "  4%|████▉                                                                                                                  | 83/2000 [03:35<1:25:37,  2.68s/it]"
     ]
    },
    {
     "name": "stdout",
     "output_type": "stream",
     "text": [
      "Epoch 82 | Train loss: 0.1958 | Valid loss: 0.3342\n",
      "Train ACC: 0.8502 | valid ACC: 0.8509 | test ACC: 0.7737\n",
      "Train f1: 0.8569 | valid f1: 0.8396 | test f1: 0.7625\n",
      "Train pre: 0.8777 | valid pre: 0.8376 | test pre: 0.7740\n"
     ]
    },
    {
     "name": "stderr",
     "output_type": "stream",
     "text": [
      "\r",
      "  4%|████▉                                                                                                                  | 84/2000 [03:37<1:15:33,  2.37s/it]"
     ]
    },
    {
     "name": "stdout",
     "output_type": "stream",
     "text": [
      "Epoch 83 | Train loss: 0.1707 | Valid loss: 0.3212\n",
      "Train ACC: 0.8262 | valid ACC: 0.8524 | test ACC: 0.7687\n",
      "Train f1: 0.8319 | valid f1: 0.8431 | test f1: 0.7684\n",
      "Train pre: 0.8488 | valid pre: 0.8443 | test pre: 0.7887\n"
     ]
    },
    {
     "name": "stderr",
     "output_type": "stream",
     "text": [
      "\r",
      "  4%|█████                                                                                                                  | 85/2000 [03:38<1:08:30,  2.15s/it]"
     ]
    },
    {
     "name": "stdout",
     "output_type": "stream",
     "text": [
      "Epoch 84 | Train loss: 0.1761 | Valid loss: 0.3252\n",
      "Train ACC: 0.8283 | valid ACC: 0.8483 | test ACC: 0.7689\n",
      "Train f1: 0.8487 | valid f1: 0.8408 | test f1: 0.7707\n",
      "Train pre: 0.8861 | valid pre: 0.8601 | test pre: 0.7908\n"
     ]
    },
    {
     "name": "stderr",
     "output_type": "stream",
     "text": [
      "\r",
      "  4%|█████                                                                                                                  | 86/2000 [03:41<1:14:27,  2.33s/it]"
     ]
    },
    {
     "name": "stdout",
     "output_type": "stream",
     "text": [
      "Epoch 85 | Train loss: 0.1735 | Valid loss: 0.3238\n",
      "Train ACC: 0.8649 | valid ACC: 0.8541 | test ACC: 0.7803\n",
      "Train f1: 0.8776 | valid f1: 0.8457 | test f1: 0.7773\n",
      "Train pre: 0.9268 | valid pre: 0.8514 | test pre: 0.8176\n"
     ]
    },
    {
     "name": "stderr",
     "output_type": "stream",
     "text": [
      "\r",
      "  4%|█████▏                                                                                                                 | 87/2000 [03:44<1:19:48,  2.50s/it]"
     ]
    },
    {
     "name": "stdout",
     "output_type": "stream",
     "text": [
      "Epoch 86 | Train loss: 0.1593 | Valid loss: 0.3245\n",
      "Train ACC: 0.8968 | valid ACC: 0.8514 | test ACC: 0.7827\n",
      "Train f1: 0.9079 | valid f1: 0.8406 | test f1: 0.7768\n",
      "Train pre: 0.9390 | valid pre: 0.8392 | test pre: 0.8155\n"
     ]
    },
    {
     "name": "stderr",
     "output_type": "stream",
     "text": [
      "\r",
      "  4%|█████▏                                                                                                                 | 88/2000 [03:47<1:23:27,  2.62s/it]"
     ]
    },
    {
     "name": "stdout",
     "output_type": "stream",
     "text": [
      "Epoch 87 | Train loss: 0.1726 | Valid loss: 0.3219\n",
      "Train ACC: 0.8950 | valid ACC: 0.8517 | test ACC: 0.7788\n",
      "Train f1: 0.9130 | valid f1: 0.8398 | test f1: 0.7747\n",
      "Train pre: 0.9493 | valid pre: 0.8353 | test pre: 0.8155\n"
     ]
    },
    {
     "name": "stderr",
     "output_type": "stream",
     "text": [
      "\r",
      "  4%|█████▎                                                                                                                 | 89/2000 [03:50<1:26:53,  2.73s/it]"
     ]
    },
    {
     "name": "stdout",
     "output_type": "stream",
     "text": [
      "Epoch 88 | Train loss: 0.1610 | Valid loss: 0.3251\n",
      "Train ACC: 0.9056 | valid ACC: 0.8532 | test ACC: 0.7790\n",
      "Train f1: 0.9159 | valid f1: 0.8438 | test f1: 0.7779\n",
      "Train pre: 0.9404 | valid pre: 0.8458 | test pre: 0.8240\n"
     ]
    },
    {
     "name": "stderr",
     "output_type": "stream",
     "text": [
      "\r",
      "  4%|█████▎                                                                                                                 | 90/2000 [03:53<1:29:41,  2.82s/it]"
     ]
    },
    {
     "name": "stdout",
     "output_type": "stream",
     "text": [
      "Epoch 89 | Train loss: 0.1519 | Valid loss: 0.3348\n",
      "Train ACC: 0.8918 | valid ACC: 0.8476 | test ACC: 0.7725\n",
      "Train f1: 0.8952 | valid f1: 0.8412 | test f1: 0.7746\n",
      "Train pre: 0.9009 | valid pre: 0.8507 | test pre: 0.8221\n"
     ]
    },
    {
     "name": "stderr",
     "output_type": "stream",
     "text": [
      "\r",
      "  5%|█████▍                                                                                                                 | 91/2000 [03:56<1:28:51,  2.79s/it]"
     ]
    },
    {
     "name": "stdout",
     "output_type": "stream",
     "text": [
      "Epoch 90 | Train loss: 0.1652 | Valid loss: 0.3418\n",
      "Train ACC: 0.9154 | valid ACC: 0.8534 | test ACC: 0.7736\n",
      "Train f1: 0.9298 | valid f1: 0.8457 | test f1: 0.7716\n",
      "Train pre: 0.9506 | valid pre: 0.8455 | test pre: 0.8055\n"
     ]
    },
    {
     "name": "stderr",
     "output_type": "stream",
     "text": [
      "\r",
      "  5%|█████▍                                                                                                                 | 92/2000 [03:58<1:19:47,  2.51s/it]"
     ]
    },
    {
     "name": "stdout",
     "output_type": "stream",
     "text": [
      "Epoch 91 | Train loss: 0.1596 | Valid loss: 0.3352\n",
      "Train ACC: 0.8700 | valid ACC: 0.8541 | test ACC: 0.7742\n",
      "Train f1: 0.8759 | valid f1: 0.8440 | test f1: 0.7708\n",
      "Train pre: 0.8885 | valid pre: 0.8437 | test pre: 0.7939\n"
     ]
    },
    {
     "name": "stderr",
     "output_type": "stream",
     "text": [
      "\r",
      "  5%|█████▌                                                                                                                 | 93/2000 [04:00<1:17:26,  2.44s/it]"
     ]
    },
    {
     "name": "stdout",
     "output_type": "stream",
     "text": [
      "Epoch 92 | Train loss: 0.1474 | Valid loss: 0.3369\n",
      "Train ACC: 0.9156 | valid ACC: 0.8505 | test ACC: 0.7731\n",
      "Train f1: 0.9264 | valid f1: 0.8377 | test f1: 0.7730\n",
      "Train pre: 0.9474 | valid pre: 0.8404 | test pre: 0.8013\n"
     ]
    },
    {
     "name": "stderr",
     "output_type": "stream",
     "text": [
      "\r",
      "  5%|█████▌                                                                                                                 | 94/2000 [04:02<1:13:48,  2.32s/it]"
     ]
    },
    {
     "name": "stdout",
     "output_type": "stream",
     "text": [
      "Epoch 93 | Train loss: 0.1489 | Valid loss: 0.3368\n",
      "Train ACC: 0.9156 | valid ACC: 0.8540 | test ACC: 0.7772\n",
      "Train f1: 0.9256 | valid f1: 0.8425 | test f1: 0.7767\n",
      "Train pre: 0.9422 | valid pre: 0.8564 | test pre: 0.8050\n"
     ]
    },
    {
     "name": "stderr",
     "output_type": "stream",
     "text": [
      "\r",
      "  5%|█████▋                                                                                                                 | 95/2000 [04:05<1:18:13,  2.46s/it]"
     ]
    },
    {
     "name": "stdout",
     "output_type": "stream",
     "text": [
      "Epoch 94 | Train loss: 0.1429 | Valid loss: 0.3467\n",
      "Train ACC: 0.9206 | valid ACC: 0.8551 | test ACC: 0.7751\n",
      "Train f1: 0.9232 | valid f1: 0.8471 | test f1: 0.7708\n",
      "Train pre: 0.9416 | valid pre: 0.8638 | test pre: 0.7950\n"
     ]
    },
    {
     "name": "stderr",
     "output_type": "stream",
     "text": [
      "\r",
      "  5%|█████▋                                                                                                                 | 96/2000 [04:06<1:10:22,  2.22s/it]"
     ]
    },
    {
     "name": "stdout",
     "output_type": "stream",
     "text": [
      "Epoch 95 | Train loss: 0.1517 | Valid loss: 0.3451\n",
      "Train ACC: 0.8833 | valid ACC: 0.8572 | test ACC: 0.7734\n",
      "Train f1: 0.8879 | valid f1: 0.8492 | test f1: 0.7725\n",
      "Train pre: 0.8942 | valid pre: 0.8567 | test pre: 0.7975\n"
     ]
    },
    {
     "name": "stderr",
     "output_type": "stream",
     "text": [
      "\r",
      "  5%|█████▊                                                                                                                 | 97/2000 [04:09<1:16:34,  2.41s/it]"
     ]
    },
    {
     "name": "stdout",
     "output_type": "stream",
     "text": [
      "Epoch 96 | Train loss: 0.1536 | Valid loss: 0.3400\n",
      "Train ACC: 0.9035 | valid ACC: 0.8538 | test ACC: 0.7718\n",
      "Train f1: 0.9243 | valid f1: 0.8433 | test f1: 0.7719\n",
      "Train pre: 0.9558 | valid pre: 0.8423 | test pre: 0.7930\n"
     ]
    },
    {
     "name": "stderr",
     "output_type": "stream",
     "text": [
      "\r",
      "  5%|█████▊                                                                                                                 | 98/2000 [04:12<1:20:06,  2.53s/it]"
     ]
    },
    {
     "name": "stdout",
     "output_type": "stream",
     "text": [
      "Epoch 97 | Train loss: 0.1395 | Valid loss: 0.3386\n",
      "Train ACC: 0.9239 | valid ACC: 0.8487 | test ACC: 0.7748\n",
      "Train f1: 0.9171 | valid f1: 0.8375 | test f1: 0.7750\n",
      "Train pre: 0.9298 | valid pre: 0.8378 | test pre: 0.7981\n"
     ]
    },
    {
     "name": "stderr",
     "output_type": "stream",
     "text": [
      "\r",
      "  5%|█████▉                                                                                                                 | 99/2000 [04:14<1:12:41,  2.29s/it]"
     ]
    },
    {
     "name": "stdout",
     "output_type": "stream",
     "text": [
      "Epoch 98 | Train loss: 0.1457 | Valid loss: 0.3410\n",
      "Train ACC: 0.8939 | valid ACC: 0.8494 | test ACC: 0.7769\n",
      "Train f1: 0.8965 | valid f1: 0.8397 | test f1: 0.7743\n",
      "Train pre: 0.9002 | valid pre: 0.8444 | test pre: 0.8071\n"
     ]
    },
    {
     "name": "stderr",
     "output_type": "stream",
     "text": [
      "\r",
      "  5%|█████▉                                                                                                                | 100/2000 [04:17<1:17:52,  2.46s/it]"
     ]
    },
    {
     "name": "stdout",
     "output_type": "stream",
     "text": [
      "Epoch 99 | Train loss: 0.1412 | Valid loss: 0.3476\n",
      "Train ACC: 0.9269 | valid ACC: 0.8562 | test ACC: 0.7773\n",
      "Train f1: 0.9396 | valid f1: 0.8456 | test f1: 0.7727\n",
      "Train pre: 0.9603 | valid pre: 0.8493 | test pre: 0.7977\n"
     ]
    },
    {
     "name": "stderr",
     "output_type": "stream",
     "text": [
      "\r",
      "  5%|█████▉                                                                                                                | 101/2000 [04:19<1:21:01,  2.56s/it]"
     ]
    },
    {
     "name": "stdout",
     "output_type": "stream",
     "text": [
      "Epoch 100 | Train loss: 0.1324 | Valid loss: 0.3537\n",
      "Train ACC: 0.9231 | valid ACC: 0.8517 | test ACC: 0.7762\n",
      "Train f1: 0.9268 | valid f1: 0.8349 | test f1: 0.7742\n",
      "Train pre: 0.9353 | valid pre: 0.8439 | test pre: 0.7970\n"
     ]
    },
    {
     "name": "stderr",
     "output_type": "stream",
     "text": [
      "\r",
      "  5%|██████                                                                                                                | 102/2000 [04:21<1:12:30,  2.29s/it]"
     ]
    },
    {
     "name": "stdout",
     "output_type": "stream",
     "text": [
      "Epoch 101 | Train loss: 0.1421 | Valid loss: 0.3514\n",
      "Train ACC: 0.9212 | valid ACC: 0.8507 | test ACC: 0.7754\n",
      "Train f1: 0.9159 | valid f1: 0.8328 | test f1: 0.7734\n",
      "Train pre: 0.9278 | valid pre: 0.8319 | test pre: 0.7913\n"
     ]
    },
    {
     "name": "stderr",
     "output_type": "stream",
     "text": [
      "\r",
      "  5%|██████                                                                                                                | 103/2000 [04:24<1:16:21,  2.42s/it]"
     ]
    },
    {
     "name": "stdout",
     "output_type": "stream",
     "text": [
      "Epoch 102 | Train loss: 0.1345 | Valid loss: 0.3408\n",
      "Train ACC: 0.9274 | valid ACC: 0.8545 | test ACC: 0.7790\n",
      "Train f1: 0.9375 | valid f1: 0.8370 | test f1: 0.7762\n",
      "Train pre: 0.9578 | valid pre: 0.8289 | test pre: 0.8091\n"
     ]
    },
    {
     "name": "stderr",
     "output_type": "stream",
     "text": [
      "\r",
      "  5%|██████▏                                                                                                               | 104/2000 [04:26<1:10:41,  2.24s/it]"
     ]
    },
    {
     "name": "stdout",
     "output_type": "stream",
     "text": [
      "Epoch 103 | Train loss: 0.1285 | Valid loss: 0.3417\n",
      "Train ACC: 0.9394 | valid ACC: 0.8518 | test ACC: 0.7786\n",
      "Train f1: 0.9468 | valid f1: 0.8360 | test f1: 0.7745\n",
      "Train pre: 0.9578 | valid pre: 0.8266 | test pre: 0.8062\n"
     ]
    },
    {
     "name": "stderr",
     "output_type": "stream",
     "text": [
      "\r",
      "  5%|██████▏                                                                                                               | 105/2000 [04:28<1:11:48,  2.27s/it]"
     ]
    },
    {
     "name": "stdout",
     "output_type": "stream",
     "text": [
      "Epoch 104 | Train loss: 0.1303 | Valid loss: 0.3394\n",
      "Train ACC: 0.8974 | valid ACC: 0.8533 | test ACC: 0.7762\n",
      "Train f1: 0.9035 | valid f1: 0.8372 | test f1: 0.7747\n",
      "Train pre: 0.9135 | valid pre: 0.8277 | test pre: 0.8151\n"
     ]
    },
    {
     "name": "stderr",
     "output_type": "stream",
     "text": [
      "\r",
      "  5%|██████▎                                                                                                               | 106/2000 [04:30<1:12:31,  2.30s/it]"
     ]
    },
    {
     "name": "stdout",
     "output_type": "stream",
     "text": [
      "Epoch 105 | Train loss: 0.1271 | Valid loss: 0.3408\n",
      "Train ACC: 0.9012 | valid ACC: 0.8532 | test ACC: 0.7737\n",
      "Train f1: 0.9010 | valid f1: 0.8434 | test f1: 0.7758\n",
      "Train pre: 0.9011 | valid pre: 0.8442 | test pre: 0.8144\n"
     ]
    },
    {
     "name": "stderr",
     "output_type": "stream",
     "text": [
      "\r",
      "  5%|██████▎                                                                                                               | 107/2000 [04:33<1:18:00,  2.47s/it]"
     ]
    },
    {
     "name": "stdout",
     "output_type": "stream",
     "text": [
      "Epoch 106 | Train loss: 0.1272 | Valid loss: 0.3510\n",
      "Train ACC: 0.8836 | valid ACC: 0.8529 | test ACC: 0.7641\n",
      "Train f1: 0.8763 | valid f1: 0.8458 | test f1: 0.7687\n",
      "Train pre: 0.8832 | valid pre: 0.8539 | test pre: 0.8111\n"
     ]
    },
    {
     "name": "stderr",
     "output_type": "stream",
     "text": [
      "\r",
      "  5%|██████▎                                                                                                               | 108/2000 [04:35<1:09:48,  2.21s/it]"
     ]
    },
    {
     "name": "stdout",
     "output_type": "stream",
     "text": [
      "Epoch 107 | Train loss: 0.1278 | Valid loss: 0.3610\n",
      "Train ACC: 0.8682 | valid ACC: 0.8525 | test ACC: 0.7536\n",
      "Train f1: 0.8754 | valid f1: 0.8446 | test f1: 0.7560\n",
      "Train pre: 0.8884 | valid pre: 0.8519 | test pre: 0.7889\n"
     ]
    },
    {
     "name": "stderr",
     "output_type": "stream",
     "text": [
      "\r",
      "  5%|██████▍                                                                                                               | 109/2000 [04:37<1:09:28,  2.20s/it]"
     ]
    },
    {
     "name": "stdout",
     "output_type": "stream",
     "text": [
      "Epoch 108 | Train loss: 0.1216 | Valid loss: 0.3732\n",
      "Train ACC: 0.8837 | valid ACC: 0.8543 | test ACC: 0.7583\n",
      "Train f1: 0.8897 | valid f1: 0.8427 | test f1: 0.7580\n",
      "Train pre: 0.9456 | valid pre: 0.8388 | test pre: 0.7804\n"
     ]
    },
    {
     "name": "stderr",
     "output_type": "stream",
     "text": [
      "\r",
      "  6%|██████▍                                                                                                               | 110/2000 [04:39<1:08:06,  2.16s/it]"
     ]
    },
    {
     "name": "stdout",
     "output_type": "stream",
     "text": [
      "Epoch 109 | Train loss: 0.1237 | Valid loss: 0.3823\n",
      "Train ACC: 0.9362 | valid ACC: 0.8543 | test ACC: 0.7595\n",
      "Train f1: 0.9272 | valid f1: 0.8354 | test f1: 0.7580\n",
      "Train pre: 0.9327 | valid pre: 0.8231 | test pre: 0.7793\n"
     ]
    },
    {
     "name": "stderr",
     "output_type": "stream",
     "text": [
      "\r",
      "  6%|██████▌                                                                                                               | 111/2000 [04:42<1:12:18,  2.30s/it]"
     ]
    },
    {
     "name": "stdout",
     "output_type": "stream",
     "text": [
      "Epoch 110 | Train loss: 0.1162 | Valid loss: 0.3827\n",
      "Train ACC: 0.9368 | valid ACC: 0.8507 | test ACC: 0.7643\n",
      "Train f1: 0.9369 | valid f1: 0.8330 | test f1: 0.7628\n",
      "Train pre: 0.9384 | valid pre: 0.8229 | test pre: 0.7762\n"
     ]
    },
    {
     "name": "stderr",
     "output_type": "stream",
     "text": [
      "\r",
      "  6%|██████▌                                                                                                               | 112/2000 [04:43<1:07:38,  2.15s/it]"
     ]
    },
    {
     "name": "stdout",
     "output_type": "stream",
     "text": [
      "Epoch 111 | Train loss: 0.1164 | Valid loss: 0.3734\n",
      "Train ACC: 0.9580 | valid ACC: 0.8546 | test ACC: 0.7666\n",
      "Train f1: 0.9588 | valid f1: 0.8451 | test f1: 0.7686\n",
      "Train pre: 0.9603 | valid pre: 0.8472 | test pre: 0.7812\n"
     ]
    },
    {
     "name": "stderr",
     "output_type": "stream",
     "text": [
      "\r",
      "  6%|██████▋                                                                                                               | 113/2000 [04:46<1:11:53,  2.29s/it]"
     ]
    },
    {
     "name": "stdout",
     "output_type": "stream",
     "text": [
      "Epoch 112 | Train loss: 0.1136 | Valid loss: 0.3755\n",
      "Train ACC: 0.9029 | valid ACC: 0.8554 | test ACC: 0.7678\n",
      "Train f1: 0.8884 | valid f1: 0.8461 | test f1: 0.7719\n",
      "Train pre: 0.8840 | valid pre: 0.8482 | test pre: 0.7868\n"
     ]
    },
    {
     "name": "stderr",
     "output_type": "stream",
     "text": [
      "\r",
      "  6%|██████▋                                                                                                               | 114/2000 [04:48<1:07:11,  2.14s/it]"
     ]
    },
    {
     "name": "stdout",
     "output_type": "stream",
     "text": [
      "Epoch 113 | Train loss: 0.1009 | Valid loss: 0.3837\n",
      "Train ACC: 0.9417 | valid ACC: 0.8550 | test ACC: 0.7684\n",
      "Train f1: 0.9519 | valid f1: 0.8458 | test f1: 0.7718\n",
      "Train pre: 0.9662 | valid pre: 0.8527 | test pre: 0.7890\n"
     ]
    },
    {
     "name": "stderr",
     "output_type": "stream",
     "text": [
      "\r",
      "  6%|██████▊                                                                                                               | 115/2000 [04:50<1:07:56,  2.16s/it]"
     ]
    },
    {
     "name": "stdout",
     "output_type": "stream",
     "text": [
      "Epoch 114 | Train loss: 0.1117 | Valid loss: 0.3815\n",
      "Train ACC: 0.9115 | valid ACC: 0.8526 | test ACC: 0.7742\n",
      "Train f1: 0.9296 | valid f1: 0.8420 | test f1: 0.7761\n",
      "Train pre: 0.9625 | valid pre: 0.8470 | test pre: 0.7941\n"
     ]
    },
    {
     "name": "stderr",
     "output_type": "stream",
     "text": [
      "\r",
      "  6%|██████▊                                                                                                               | 116/2000 [04:52<1:08:06,  2.17s/it]"
     ]
    },
    {
     "name": "stdout",
     "output_type": "stream",
     "text": [
      "Epoch 115 | Train loss: 0.1082 | Valid loss: 0.3752\n",
      "Train ACC: 0.9176 | valid ACC: 0.8545 | test ACC: 0.7790\n",
      "Train f1: 0.9364 | valid f1: 0.8441 | test f1: 0.7782\n",
      "Train pre: 0.9699 | valid pre: 0.8490 | test pre: 0.7951\n"
     ]
    },
    {
     "name": "stderr",
     "output_type": "stream",
     "text": [
      "\r",
      "  6%|██████▉                                                                                                               | 117/2000 [04:55<1:14:41,  2.38s/it]"
     ]
    },
    {
     "name": "stdout",
     "output_type": "stream",
     "text": [
      "Epoch 116 | Train loss: 0.1177 | Valid loss: 0.3692\n",
      "Train ACC: 0.9069 | valid ACC: 0.8525 | test ACC: 0.7807\n",
      "Train f1: 0.9098 | valid f1: 0.8405 | test f1: 0.7783\n",
      "Train pre: 0.9140 | valid pre: 0.8353 | test pre: 0.7987\n"
     ]
    },
    {
     "name": "stderr",
     "output_type": "stream",
     "text": [
      "\r",
      "  6%|██████▉                                                                                                               | 118/2000 [04:58<1:19:44,  2.54s/it]"
     ]
    },
    {
     "name": "stdout",
     "output_type": "stream",
     "text": [
      "Epoch 117 | Train loss: 0.1013 | Valid loss: 0.3670\n",
      "Train ACC: 0.8963 | valid ACC: 0.8507 | test ACC: 0.7801\n",
      "Train f1: 0.8888 | valid f1: 0.8389 | test f1: 0.7771\n",
      "Train pre: 0.8889 | valid pre: 0.8345 | test pre: 0.7977\n"
     ]
    },
    {
     "name": "stderr",
     "output_type": "stream",
     "text": [
      "\r",
      "  6%|███████                                                                                                               | 119/2000 [05:01<1:23:18,  2.66s/it]"
     ]
    },
    {
     "name": "stdout",
     "output_type": "stream",
     "text": [
      "Epoch 118 | Train loss: 0.0916 | Valid loss: 0.3675\n",
      "Train ACC: 0.9272 | valid ACC: 0.8564 | test ACC: 0.7753\n",
      "Train f1: 0.9372 | valid f1: 0.8468 | test f1: 0.7755\n",
      "Train pre: 0.9614 | valid pre: 0.8519 | test pre: 0.7996\n"
     ]
    },
    {
     "name": "stderr",
     "output_type": "stream",
     "text": [
      "\r",
      "  6%|███████                                                                                                               | 120/2000 [05:04<1:27:00,  2.78s/it]"
     ]
    },
    {
     "name": "stdout",
     "output_type": "stream",
     "text": [
      "Epoch 119 | Train loss: 0.1014 | Valid loss: 0.3676\n",
      "Train ACC: 0.9601 | valid ACC: 0.8503 | test ACC: 0.7741\n",
      "Train f1: 0.9674 | valid f1: 0.8436 | test f1: 0.7760\n",
      "Train pre: 0.9777 | valid pre: 0.8645 | test pre: 0.8015\n"
     ]
    },
    {
     "name": "stderr",
     "output_type": "stream",
     "text": [
      "\r",
      "  6%|███████▏                                                                                                              | 121/2000 [05:07<1:28:57,  2.84s/it]"
     ]
    },
    {
     "name": "stdout",
     "output_type": "stream",
     "text": [
      "Epoch 120 | Train loss: 0.1056 | Valid loss: 0.3714\n",
      "Train ACC: 0.9404 | valid ACC: 0.8473 | test ACC: 0.7754\n",
      "Train f1: 0.9530 | valid f1: 0.8395 | test f1: 0.7758\n",
      "Train pre: 0.9727 | valid pre: 0.8443 | test pre: 0.7957\n"
     ]
    },
    {
     "name": "stderr",
     "output_type": "stream",
     "text": [
      "\r",
      "  6%|███████▏                                                                                                              | 122/2000 [05:10<1:29:27,  2.86s/it]"
     ]
    },
    {
     "name": "stdout",
     "output_type": "stream",
     "text": [
      "Epoch 121 | Train loss: 0.0995 | Valid loss: 0.3851\n",
      "Train ACC: 0.9320 | valid ACC: 0.8572 | test ACC: 0.7787\n",
      "Train f1: 0.9396 | valid f1: 0.8512 | test f1: 0.7751\n",
      "Train pre: 0.9611 | valid pre: 0.8549 | test pre: 0.7912\n"
     ]
    },
    {
     "name": "stderr",
     "output_type": "stream",
     "text": [
      "\r",
      "  6%|███████▎                                                                                                              | 123/2000 [05:13<1:29:35,  2.86s/it]"
     ]
    },
    {
     "name": "stdout",
     "output_type": "stream",
     "text": [
      "Epoch 122 | Train loss: 0.0951 | Valid loss: 0.3817\n",
      "Train ACC: 0.9654 | valid ACC: 0.8612 | test ACC: 0.7791\n",
      "Train f1: 0.9692 | valid f1: 0.8517 | test f1: 0.7734\n",
      "Train pre: 0.9742 | valid pre: 0.8492 | test pre: 0.7876\n"
     ]
    },
    {
     "name": "stderr",
     "output_type": "stream",
     "text": [
      "\r",
      "  6%|███████▎                                                                                                              | 124/2000 [05:16<1:32:05,  2.95s/it]"
     ]
    },
    {
     "name": "stdout",
     "output_type": "stream",
     "text": [
      "Epoch 123 | Train loss: 0.0883 | Valid loss: 0.3907\n",
      "Train ACC: 0.9517 | valid ACC: 0.8559 | test ACC: 0.7780\n",
      "Train f1: 0.9322 | valid f1: 0.8431 | test f1: 0.7711\n",
      "Train pre: 0.9223 | valid pre: 0.8350 | test pre: 0.7837\n"
     ]
    },
    {
     "name": "stderr",
     "output_type": "stream",
     "text": [
      "\r",
      "  6%|███████▍                                                                                                              | 125/2000 [05:19<1:32:06,  2.95s/it]"
     ]
    },
    {
     "name": "stdout",
     "output_type": "stream",
     "text": [
      "Epoch 124 | Train loss: 0.0957 | Valid loss: 0.3999\n",
      "Train ACC: 0.9694 | valid ACC: 0.8565 | test ACC: 0.7806\n",
      "Train f1: 0.9672 | valid f1: 0.8452 | test f1: 0.7747\n",
      "Train pre: 0.9651 | valid pre: 0.8484 | test pre: 0.7892\n"
     ]
    },
    {
     "name": "stderr",
     "output_type": "stream",
     "text": [
      "\r",
      "  6%|███████▍                                                                                                              | 126/2000 [05:21<1:28:18,  2.83s/it]"
     ]
    },
    {
     "name": "stdout",
     "output_type": "stream",
     "text": [
      "Epoch 125 | Train loss: 0.0870 | Valid loss: 0.4002\n",
      "Train ACC: 0.9447 | valid ACC: 0.8538 | test ACC: 0.7774\n",
      "Train f1: 0.9519 | valid f1: 0.8436 | test f1: 0.7761\n",
      "Train pre: 0.9688 | valid pre: 0.8483 | test pre: 0.7955\n"
     ]
    },
    {
     "name": "stderr",
     "output_type": "stream",
     "text": [
      "\r",
      "  6%|███████▍                                                                                                              | 127/2000 [05:23<1:19:26,  2.55s/it]"
     ]
    },
    {
     "name": "stdout",
     "output_type": "stream",
     "text": [
      "Epoch 126 | Train loss: 0.0963 | Valid loss: 0.3894\n",
      "Train ACC: 0.9685 | valid ACC: 0.8554 | test ACC: 0.7738\n",
      "Train f1: 0.9700 | valid f1: 0.8472 | test f1: 0.7785\n",
      "Train pre: 0.9722 | valid pre: 0.8547 | test pre: 0.8035\n"
     ]
    },
    {
     "name": "stderr",
     "output_type": "stream",
     "text": [
      "\r",
      "  6%|███████▌                                                                                                              | 128/2000 [05:26<1:19:17,  2.54s/it]"
     ]
    },
    {
     "name": "stdout",
     "output_type": "stream",
     "text": [
      "Epoch 127 | Train loss: 0.0953 | Valid loss: 0.3818\n",
      "Train ACC: 0.9624 | valid ACC: 0.8511 | test ACC: 0.7724\n",
      "Train f1: 0.9671 | valid f1: 0.8441 | test f1: 0.7809\n",
      "Train pre: 0.9735 | valid pre: 0.8970 | test pre: 0.8073\n"
     ]
    },
    {
     "name": "stderr",
     "output_type": "stream",
     "text": [
      "\r",
      "  6%|███████▌                                                                                                              | 129/2000 [05:28<1:14:12,  2.38s/it]"
     ]
    },
    {
     "name": "stdout",
     "output_type": "stream",
     "text": [
      "Epoch 128 | Train loss: 0.0835 | Valid loss: 0.3852\n",
      "Train ACC: 0.9389 | valid ACC: 0.8526 | test ACC: 0.7754\n",
      "Train f1: 0.9549 | valid f1: 0.8416 | test f1: 0.7819\n",
      "Train pre: 0.9823 | valid pre: 0.8468 | test pre: 0.8076\n"
     ]
    },
    {
     "name": "stderr",
     "output_type": "stream",
     "text": [
      "\r",
      "  6%|███████▋                                                                                                              | 130/2000 [05:31<1:19:08,  2.54s/it]"
     ]
    },
    {
     "name": "stdout",
     "output_type": "stream",
     "text": [
      "Epoch 129 | Train loss: 0.0870 | Valid loss: 0.3992\n",
      "Train ACC: 0.9419 | valid ACC: 0.8529 | test ACC: 0.7779\n",
      "Train f1: 0.9570 | valid f1: 0.8401 | test f1: 0.7784\n",
      "Train pre: 0.9791 | valid pre: 0.8373 | test pre: 0.8015\n"
     ]
    },
    {
     "name": "stderr",
     "output_type": "stream",
     "text": [
      "\r",
      "  7%|███████▋                                                                                                              | 131/2000 [05:34<1:23:21,  2.68s/it]"
     ]
    },
    {
     "name": "stdout",
     "output_type": "stream",
     "text": [
      "Epoch 130 | Train loss: 0.0930 | Valid loss: 0.4045\n",
      "Train ACC: 0.9626 | valid ACC: 0.8509 | test ACC: 0.7773\n",
      "Train f1: 0.9631 | valid f1: 0.8380 | test f1: 0.7753\n",
      "Train pre: 0.9638 | valid pre: 0.8352 | test pre: 0.7917\n"
     ]
    },
    {
     "name": "stderr",
     "output_type": "stream",
     "text": [
      "\r",
      "  7%|███████▊                                                                                                              | 132/2000 [05:37<1:25:57,  2.76s/it]"
     ]
    },
    {
     "name": "stdout",
     "output_type": "stream",
     "text": [
      "Epoch 131 | Train loss: 0.0890 | Valid loss: 0.4009\n",
      "Train ACC: 0.9365 | valid ACC: 0.8579 | test ACC: 0.7775\n",
      "Train f1: 0.9501 | valid f1: 0.8486 | test f1: 0.7765\n",
      "Train pre: 0.9737 | valid pre: 0.8513 | test pre: 0.7957\n"
     ]
    },
    {
     "name": "stderr",
     "output_type": "stream",
     "text": [
      "\r",
      "  7%|███████▊                                                                                                              | 133/2000 [05:40<1:27:35,  2.81s/it]"
     ]
    },
    {
     "name": "stdout",
     "output_type": "stream",
     "text": [
      "Epoch 132 | Train loss: 0.0845 | Valid loss: 0.3965\n",
      "Train ACC: 0.9294 | valid ACC: 0.8586 | test ACC: 0.7745\n",
      "Train f1: 0.9363 | valid f1: 0.8488 | test f1: 0.7764\n",
      "Train pre: 0.9601 | valid pre: 0.8515 | test pre: 0.7931\n"
     ]
    },
    {
     "name": "stderr",
     "output_type": "stream",
     "text": [
      "\r",
      "  7%|███████▉                                                                                                              | 134/2000 [05:43<1:29:20,  2.87s/it]"
     ]
    },
    {
     "name": "stdout",
     "output_type": "stream",
     "text": [
      "Epoch 133 | Train loss: 0.0885 | Valid loss: 0.3905\n",
      "Train ACC: 0.9287 | valid ACC: 0.8564 | test ACC: 0.7693\n",
      "Train f1: 0.9288 | valid f1: 0.8395 | test f1: 0.7728\n",
      "Train pre: 0.9378 | valid pre: 0.8390 | test pre: 0.7906\n"
     ]
    },
    {
     "name": "stderr",
     "output_type": "stream",
     "text": [
      "\r",
      "  7%|███████▉                                                                                                              | 135/2000 [05:46<1:29:30,  2.88s/it]"
     ]
    },
    {
     "name": "stdout",
     "output_type": "stream",
     "text": [
      "Epoch 134 | Train loss: 0.0788 | Valid loss: 0.4082\n",
      "Train ACC: 0.9472 | valid ACC: 0.8539 | test ACC: 0.7705\n",
      "Train f1: 0.9478 | valid f1: 0.8374 | test f1: 0.7698\n",
      "Train pre: 0.9567 | valid pre: 0.8361 | test pre: 0.7864\n"
     ]
    },
    {
     "name": "stderr",
     "output_type": "stream",
     "text": [
      "\r",
      "  8%|██████████                                                                                                            | 170/2000 [07:17<1:25:53,  2.82s/it]"
     ]
    },
    {
     "name": "stdout",
     "output_type": "stream",
     "text": [
      "Epoch 169 | Train loss: 0.0751 | Valid loss: 0.4259\n",
      "Train ACC: 0.9789 | valid ACC: 0.8519 | test ACC: 0.7821\n",
      "Train f1: 0.9794 | valid f1: 0.8406 | test f1: 0.7887\n",
      "Train pre: 0.9799 | valid pre: 0.8378 | test pre: 0.8153\n"
     ]
    },
    {
     "name": "stderr",
     "output_type": "stream",
     "text": [
      "\r",
      "  9%|██████████                                                                                                            | 171/2000 [07:19<1:26:53,  2.85s/it]"
     ]
    },
    {
     "name": "stdout",
     "output_type": "stream",
     "text": [
      "Epoch 170 | Train loss: 0.0573 | Valid loss: 0.4304\n",
      "Train ACC: 0.9639 | valid ACC: 0.8537 | test ACC: 0.7819\n",
      "Train f1: 0.9724 | valid f1: 0.8419 | test f1: 0.7864\n",
      "Train pre: 0.9847 | valid pre: 0.8383 | test pre: 0.8087\n"
     ]
    },
    {
     "name": "stderr",
     "output_type": "stream",
     "text": [
      "\r",
      "  9%|██████████▏                                                                                                           | 172/2000 [07:22<1:26:12,  2.83s/it]"
     ]
    },
    {
     "name": "stdout",
     "output_type": "stream",
     "text": [
      "Epoch 171 | Train loss: 0.0592 | Valid loss: 0.4372\n",
      "Train ACC: 0.9666 | valid ACC: 0.8548 | test ACC: 0.7830\n",
      "Train f1: 0.9652 | valid f1: 0.8440 | test f1: 0.7864\n",
      "Train pre: 0.9640 | valid pre: 0.8442 | test pre: 0.8076\n"
     ]
    },
    {
     "name": "stderr",
     "output_type": "stream",
     "text": [
      "\r",
      "  9%|██████████▏                                                                                                           | 173/2000 [07:25<1:26:01,  2.83s/it]"
     ]
    },
    {
     "name": "stdout",
     "output_type": "stream",
     "text": [
      "Epoch 172 | Train loss: 0.0497 | Valid loss: 0.4456\n",
      "Train ACC: 0.9311 | valid ACC: 0.8544 | test ACC: 0.7796\n",
      "Train f1: 0.9317 | valid f1: 0.8435 | test f1: 0.7822\n",
      "Train pre: 0.9324 | valid pre: 0.8436 | test pre: 0.8040\n"
     ]
    },
    {
     "name": "stderr",
     "output_type": "stream",
     "text": [
      "\r",
      "  9%|██████████▎                                                                                                           | 174/2000 [07:27<1:15:22,  2.48s/it]"
     ]
    },
    {
     "name": "stdout",
     "output_type": "stream",
     "text": [
      "Epoch 173 | Train loss: 0.0609 | Valid loss: 0.4417\n",
      "Train ACC: 0.9839 | valid ACC: 0.8564 | test ACC: 0.7802\n",
      "Train f1: 0.9844 | valid f1: 0.8452 | test f1: 0.7827\n",
      "Train pre: 0.9852 | valid pre: 0.8490 | test pre: 0.8029\n"
     ]
    },
    {
     "name": "stderr",
     "output_type": "stream",
     "text": [
      "\r",
      "  9%|██████████▎                                                                                                           | 175/2000 [07:30<1:18:37,  2.58s/it]"
     ]
    },
    {
     "name": "stdout",
     "output_type": "stream",
     "text": [
      "Epoch 174 | Train loss: 0.0477 | Valid loss: 0.4445\n",
      "Train ACC: 0.9880 | valid ACC: 0.8548 | test ACC: 0.7792\n",
      "Train f1: 0.9889 | valid f1: 0.8371 | test f1: 0.7812\n",
      "Train pre: 0.9898 | valid pre: 0.8350 | test pre: 0.8005\n"
     ]
    },
    {
     "name": "stderr",
     "output_type": "stream",
     "text": [
      "\r",
      "  9%|██████████▍                                                                                                           | 176/2000 [07:32<1:21:00,  2.66s/it]"
     ]
    },
    {
     "name": "stdout",
     "output_type": "stream",
     "text": [
      "Epoch 175 | Train loss: 0.0601 | Valid loss: 0.4441\n",
      "Train ACC: 0.9817 | valid ACC: 0.8522 | test ACC: 0.7789\n",
      "Train f1: 0.9841 | valid f1: 0.8330 | test f1: 0.7797\n",
      "Train pre: 0.9870 | valid pre: 0.8214 | test pre: 0.7980\n"
     ]
    },
    {
     "name": "stderr",
     "output_type": "stream",
     "text": [
      "\r",
      "  9%|██████████▍                                                                                                           | 177/2000 [07:35<1:22:45,  2.72s/it]"
     ]
    },
    {
     "name": "stdout",
     "output_type": "stream",
     "text": [
      "Epoch 176 | Train loss: 0.0544 | Valid loss: 0.4422\n",
      "Train ACC: 0.9853 | valid ACC: 0.8524 | test ACC: 0.7802\n",
      "Train f1: 0.9869 | valid f1: 0.8338 | test f1: 0.7813\n",
      "Train pre: 0.9887 | valid pre: 0.8246 | test pre: 0.8014\n"
     ]
    },
    {
     "name": "stderr",
     "output_type": "stream",
     "text": [
      "\r",
      "  9%|██████████▌                                                                                                           | 178/2000 [07:37<1:13:51,  2.43s/it]"
     ]
    },
    {
     "name": "stdout",
     "output_type": "stream",
     "text": [
      "Epoch 177 | Train loss: 0.0562 | Valid loss: 0.4445\n",
      "Train ACC: 0.9837 | valid ACC: 0.8485 | test ACC: 0.7796\n",
      "Train f1: 0.9828 | valid f1: 0.8316 | test f1: 0.7811\n",
      "Train pre: 0.9820 | valid pre: 0.8243 | test pre: 0.8021\n"
     ]
    },
    {
     "name": "stderr",
     "output_type": "stream",
     "text": [
      "\r",
      "  9%|██████████▌                                                                                                           | 179/2000 [07:40<1:16:05,  2.51s/it]"
     ]
    },
    {
     "name": "stdout",
     "output_type": "stream",
     "text": [
      "Epoch 178 | Train loss: 0.0546 | Valid loss: 0.4525\n",
      "Train ACC: 0.9856 | valid ACC: 0.8536 | test ACC: 0.7778\n",
      "Train f1: 0.9846 | valid f1: 0.8384 | test f1: 0.7789\n",
      "Train pre: 0.9838 | valid pre: 0.8326 | test pre: 0.8004\n"
     ]
    },
    {
     "name": "stderr",
     "output_type": "stream",
     "text": [
      "\r",
      "  9%|██████████▌                                                                                                           | 180/2000 [07:43<1:19:12,  2.61s/it]"
     ]
    },
    {
     "name": "stdout",
     "output_type": "stream",
     "text": [
      "Epoch 179 | Train loss: 0.0549 | Valid loss: 0.4535\n",
      "Train ACC: 0.9840 | valid ACC: 0.8542 | test ACC: 0.7780\n",
      "Train f1: 0.9845 | valid f1: 0.8385 | test f1: 0.7803\n",
      "Train pre: 0.9850 | valid pre: 0.8387 | test pre: 0.8070\n"
     ]
    },
    {
     "name": "stderr",
     "output_type": "stream",
     "text": [
      "\r",
      "  9%|██████████▋                                                                                                           | 181/2000 [07:46<1:22:16,  2.71s/it]"
     ]
    },
    {
     "name": "stdout",
     "output_type": "stream",
     "text": [
      "Epoch 180 | Train loss: 0.0649 | Valid loss: 0.4391\n",
      "Train ACC: 0.9823 | valid ACC: 0.8515 | test ACC: 0.7781\n",
      "Train f1: 0.9823 | valid f1: 0.8342 | test f1: 0.7818\n",
      "Train pre: 0.9825 | valid pre: 0.8328 | test pre: 0.8150\n"
     ]
    },
    {
     "name": "stderr",
     "output_type": "stream",
     "text": [
      "\r",
      "  9%|██████████▋                                                                                                           | 182/2000 [07:47<1:12:49,  2.40s/it]"
     ]
    },
    {
     "name": "stdout",
     "output_type": "stream",
     "text": [
      "Epoch 181 | Train loss: 0.0537 | Valid loss: 0.4252\n",
      "Train ACC: 0.9873 | valid ACC: 0.8494 | test ACC: 0.7832\n",
      "Train f1: 0.9891 | valid f1: 0.8310 | test f1: 0.7874\n",
      "Train pre: 0.9911 | valid pre: 0.8208 | test pre: 0.8208\n"
     ]
    },
    {
     "name": "stderr",
     "output_type": "stream",
     "text": [
      "\r",
      "  9%|██████████▊                                                                                                           | 183/2000 [07:50<1:17:24,  2.56s/it]"
     ]
    },
    {
     "name": "stdout",
     "output_type": "stream",
     "text": [
      "Epoch 182 | Train loss: 0.0504 | Valid loss: 0.4247\n",
      "Train ACC: 0.9859 | valid ACC: 0.8535 | test ACC: 0.7821\n",
      "Train f1: 0.9842 | valid f1: 0.8409 | test f1: 0.7864\n",
      "Train pre: 0.9827 | valid pre: 0.8356 | test pre: 0.8190\n"
     ]
    },
    {
     "name": "stderr",
     "output_type": "stream",
     "text": [
      "\r",
      "  9%|██████████▊                                                                                                           | 184/2000 [07:52<1:09:10,  2.29s/it]"
     ]
    },
    {
     "name": "stdout",
     "output_type": "stream",
     "text": [
      "Epoch 183 | Train loss: 0.0568 | Valid loss: 0.4297\n",
      "Train ACC: 0.9878 | valid ACC: 0.8544 | test ACC: 0.7850\n",
      "Train f1: 0.9885 | valid f1: 0.8424 | test f1: 0.7858\n",
      "Train pre: 0.9894 | valid pre: 0.8412 | test pre: 0.8147\n"
     ]
    },
    {
     "name": "stderr",
     "output_type": "stream",
     "text": [
      "\r",
      "  9%|██████████▉                                                                                                           | 185/2000 [07:55<1:14:08,  2.45s/it]"
     ]
    },
    {
     "name": "stdout",
     "output_type": "stream",
     "text": [
      "Epoch 184 | Train loss: 0.0505 | Valid loss: 0.4446\n",
      "Train ACC: 0.9851 | valid ACC: 0.8571 | test ACC: 0.7893\n",
      "Train f1: 0.9872 | valid f1: 0.8464 | test f1: 0.7881\n",
      "Train pre: 0.9895 | valid pre: 0.8605 | test pre: 0.8173\n"
     ]
    },
    {
     "name": "stderr",
     "output_type": "stream",
     "text": [
      "\r",
      "  9%|██████████▉                                                                                                           | 186/2000 [07:58<1:18:10,  2.59s/it]"
     ]
    },
    {
     "name": "stdout",
     "output_type": "stream",
     "text": [
      "Epoch 185 | Train loss: 0.0575 | Valid loss: 0.4542\n",
      "Train ACC: 0.9807 | valid ACC: 0.8588 | test ACC: 0.7880\n",
      "Train f1: 0.9834 | valid f1: 0.8485 | test f1: 0.7881\n",
      "Train pre: 0.9863 | valid pre: 0.8630 | test pre: 0.8185\n"
     ]
    },
    {
     "name": "stderr",
     "output_type": "stream",
     "text": [
      "\r",
      "  9%|███████████                                                                                                           | 187/2000 [07:59<1:09:14,  2.29s/it]"
     ]
    },
    {
     "name": "stdout",
     "output_type": "stream",
     "text": [
      "Epoch 186 | Train loss: 0.0543 | Valid loss: 0.4450\n",
      "Train ACC: 0.9648 | valid ACC: 0.8568 | test ACC: 0.7827\n",
      "Train f1: 0.9658 | valid f1: 0.8446 | test f1: 0.7847\n",
      "Train pre: 0.9727 | valid pre: 0.8477 | test pre: 0.8096\n"
     ]
    },
    {
     "name": "stderr",
     "output_type": "stream",
     "text": [
      "\r",
      "  9%|███████████                                                                                                           | 188/2000 [08:02<1:15:05,  2.49s/it]"
     ]
    },
    {
     "name": "stdout",
     "output_type": "stream",
     "text": [
      "Epoch 187 | Train loss: 0.0424 | Valid loss: 0.4471\n",
      "Train ACC: 0.9880 | valid ACC: 0.8552 | test ACC: 0.7789\n",
      "Train f1: 0.9891 | valid f1: 0.8423 | test f1: 0.7826\n",
      "Train pre: 0.9903 | valid pre: 0.8384 | test pre: 0.8031\n"
     ]
    },
    {
     "name": "stderr",
     "output_type": "stream",
     "text": [
      "\r",
      "  9%|███████████▏                                                                                                          | 189/2000 [08:05<1:18:35,  2.60s/it]"
     ]
    },
    {
     "name": "stdout",
     "output_type": "stream",
     "text": [
      "Epoch 188 | Train loss: 0.0490 | Valid loss: 0.4559\n",
      "Train ACC: 0.9352 | valid ACC: 0.8559 | test ACC: 0.7778\n",
      "Train f1: 0.9515 | valid f1: 0.8438 | test f1: 0.7813\n",
      "Train pre: 0.9864 | valid pre: 0.8401 | test pre: 0.7986\n"
     ]
    },
    {
     "name": "stderr",
     "output_type": "stream",
     "text": [
      "\r",
      " 10%|███████████▏                                                                                                          | 190/2000 [08:08<1:20:38,  2.67s/it]"
     ]
    },
    {
     "name": "stdout",
     "output_type": "stream",
     "text": [
      "Epoch 189 | Train loss: 0.0590 | Valid loss: 0.4695\n",
      "Train ACC: 0.9324 | valid ACC: 0.8573 | test ACC: 0.7801\n",
      "Train f1: 0.9313 | valid f1: 0.8458 | test f1: 0.7814\n",
      "Train pre: 0.9303 | valid pre: 0.8448 | test pre: 0.7942\n"
     ]
    },
    {
     "name": "stderr",
     "output_type": "stream",
     "text": [
      "\r",
      " 10%|███████████▎                                                                                                          | 191/2000 [08:09<1:11:09,  2.36s/it]"
     ]
    },
    {
     "name": "stdout",
     "output_type": "stream",
     "text": [
      "Epoch 190 | Train loss: 0.0490 | Valid loss: 0.4871\n",
      "Train ACC: 0.9863 | valid ACC: 0.8519 | test ACC: 0.7803\n",
      "Train f1: 0.9863 | valid f1: 0.8412 | test f1: 0.7808\n",
      "Train pre: 0.9864 | valid pre: 0.8410 | test pre: 0.7925\n"
     ]
    },
    {
     "name": "stderr",
     "output_type": "stream",
     "text": [
      "\r",
      " 10%|███████████▎                                                                                                          | 192/2000 [08:12<1:13:50,  2.45s/it]"
     ]
    },
    {
     "name": "stdout",
     "output_type": "stream",
     "text": [
      "Epoch 191 | Train loss: 0.0476 | Valid loss: 0.4847\n",
      "Train ACC: 0.9672 | valid ACC: 0.8510 | test ACC: 0.7825\n",
      "Train f1: 0.9665 | valid f1: 0.8408 | test f1: 0.7829\n",
      "Train pre: 0.9716 | valid pre: 0.8457 | test pre: 0.7955\n"
     ]
    },
    {
     "name": "stderr",
     "output_type": "stream",
     "text": [
      "\r",
      " 10%|███████████▍                                                                                                          | 193/2000 [08:14<1:07:45,  2.25s/it]"
     ]
    },
    {
     "name": "stdout",
     "output_type": "stream",
     "text": [
      "Epoch 192 | Train loss: 0.0501 | Valid loss: 0.4630\n",
      "Train ACC: 0.9702 | valid ACC: 0.8503 | test ACC: 0.7842\n",
      "Train f1: 0.9714 | valid f1: 0.8389 | test f1: 0.7855\n",
      "Train pre: 0.9727 | valid pre: 0.8429 | test pre: 0.7978\n"
     ]
    },
    {
     "name": "stderr",
     "output_type": "stream",
     "text": [
      "\r",
      " 10%|███████████▍                                                                                                          | 194/2000 [08:17<1:12:27,  2.41s/it]"
     ]
    },
    {
     "name": "stdout",
     "output_type": "stream",
     "text": [
      "Epoch 193 | Train loss: 0.0483 | Valid loss: 0.4497\n",
      "Train ACC: 0.9844 | valid ACC: 0.8517 | test ACC: 0.7843\n",
      "Train f1: 0.9875 | valid f1: 0.8344 | test f1: 0.7858\n",
      "Train pre: 0.9912 | valid pre: 0.8334 | test pre: 0.7978\n"
     ]
    },
    {
     "name": "stderr",
     "output_type": "stream",
     "text": [
      "\r",
      " 10%|███████████▌                                                                                                          | 195/2000 [08:18<1:06:58,  2.23s/it]"
     ]
    },
    {
     "name": "stdout",
     "output_type": "stream",
     "text": [
      "Epoch 194 | Train loss: 0.0513 | Valid loss: 0.4465\n",
      "Train ACC: 0.9581 | valid ACC: 0.8543 | test ACC: 0.7851\n",
      "Train f1: 0.9678 | valid f1: 0.8367 | test f1: 0.7856\n",
      "Train pre: 0.9869 | valid pre: 0.8307 | test pre: 0.7967\n"
     ]
    },
    {
     "name": "stderr",
     "output_type": "stream",
     "text": [
      "\r",
      " 10%|███████████▌                                                                                                          | 196/2000 [08:21<1:11:08,  2.37s/it]"
     ]
    },
    {
     "name": "stdout",
     "output_type": "stream",
     "text": [
      "Epoch 195 | Train loss: 0.0587 | Valid loss: 0.4486\n",
      "Train ACC: 0.9650 | valid ACC: 0.8565 | test ACC: 0.7838\n",
      "Train f1: 0.9712 | valid f1: 0.8398 | test f1: 0.7826\n",
      "Train pre: 0.9814 | valid pre: 0.8340 | test pre: 0.7947\n"
     ]
    },
    {
     "name": "stderr",
     "output_type": "stream",
     "text": [
      "\r",
      " 10%|███████████▌                                                                                                          | 197/2000 [08:24<1:15:52,  2.53s/it]"
     ]
    },
    {
     "name": "stdout",
     "output_type": "stream",
     "text": [
      "Epoch 196 | Train loss: 0.0558 | Valid loss: 0.4474\n",
      "Train ACC: 0.9853 | valid ACC: 0.8549 | test ACC: 0.7863\n",
      "Train f1: 0.9842 | valid f1: 0.8379 | test f1: 0.7865\n",
      "Train pre: 0.9839 | valid pre: 0.8320 | test pre: 0.8027\n"
     ]
    },
    {
     "name": "stderr",
     "output_type": "stream",
     "text": [
      "\r",
      " 10%|███████████▋                                                                                                          | 198/2000 [08:27<1:17:57,  2.60s/it]"
     ]
    },
    {
     "name": "stdout",
     "output_type": "stream",
     "text": [
      "Epoch 197 | Train loss: 0.0425 | Valid loss: 0.4429\n",
      "Train ACC: 0.9839 | valid ACC: 0.8540 | test ACC: 0.7840\n",
      "Train f1: 0.9753 | valid f1: 0.8367 | test f1: 0.7856\n",
      "Train pre: 0.9706 | valid pre: 0.8309 | test pre: 0.8028\n"
     ]
    },
    {
     "name": "stderr",
     "output_type": "stream",
     "text": [
      "\r",
      " 10%|███████████▋                                                                                                          | 199/2000 [08:28<1:09:47,  2.33s/it]"
     ]
    },
    {
     "name": "stdout",
     "output_type": "stream",
     "text": [
      "Epoch 198 | Train loss: 0.0420 | Valid loss: 0.4394\n",
      "Train ACC: 0.9875 | valid ACC: 0.8529 | test ACC: 0.7848\n",
      "Train f1: 0.9876 | valid f1: 0.8347 | test f1: 0.7894\n",
      "Train pre: 0.9879 | valid pre: 0.8257 | test pre: 0.8079\n"
     ]
    },
    {
     "name": "stderr",
     "output_type": "stream",
     "text": [
      "\r",
      " 10%|███████████▊                                                                                                          | 200/2000 [08:31<1:12:31,  2.42s/it]"
     ]
    },
    {
     "name": "stdout",
     "output_type": "stream",
     "text": [
      "Epoch 199 | Train loss: 0.0555 | Valid loss: 0.4381\n",
      "Train ACC: 0.9316 | valid ACC: 0.8532 | test ACC: 0.7890\n",
      "Train f1: 0.9304 | valid f1: 0.8345 | test f1: 0.7948\n",
      "Train pre: 0.9293 | valid pre: 0.8320 | test pre: 0.8186\n"
     ]
    },
    {
     "name": "stderr",
     "output_type": "stream",
     "text": [
      "\r",
      " 10%|███████████▊                                                                                                          | 201/2000 [08:33<1:07:10,  2.24s/it]"
     ]
    },
    {
     "name": "stdout",
     "output_type": "stream",
     "text": [
      "Epoch 200 | Train loss: 0.0485 | Valid loss: 0.4420\n",
      "Train ACC: 0.9916 | valid ACC: 0.8558 | test ACC: 0.7877\n",
      "Train f1: 0.9913 | valid f1: 0.8374 | test f1: 0.7928\n",
      "Train pre: 0.9909 | valid pre: 0.8445 | test pre: 0.8184\n"
     ]
    },
    {
     "name": "stderr",
     "output_type": "stream",
     "text": [
      "\r",
      " 10%|███████████▉                                                                                                          | 202/2000 [08:36<1:13:13,  2.44s/it]"
     ]
    },
    {
     "name": "stdout",
     "output_type": "stream",
     "text": [
      "Epoch 201 | Train loss: 0.0496 | Valid loss: 0.4411\n",
      "Train ACC: 0.9853 | valid ACC: 0.8558 | test ACC: 0.7863\n",
      "Train f1: 0.9761 | valid f1: 0.8446 | test f1: 0.7911\n",
      "Train pre: 0.9708 | valid pre: 0.8580 | test pre: 0.8204\n"
     ]
    },
    {
     "name": "stderr",
     "output_type": "stream",
     "text": [
      "\r",
      " 10%|███████████▉                                                                                                          | 203/2000 [08:39<1:16:13,  2.55s/it]"
     ]
    },
    {
     "name": "stdout",
     "output_type": "stream",
     "text": [
      "Epoch 202 | Train loss: 0.0477 | Valid loss: 0.4426\n",
      "Train ACC: 0.9894 | valid ACC: 0.8540 | test ACC: 0.7836\n",
      "Train f1: 0.9760 | valid f1: 0.8434 | test f1: 0.7878\n",
      "Train pre: 0.9664 | valid pre: 0.8578 | test pre: 0.8207\n"
     ]
    },
    {
     "name": "stderr",
     "output_type": "stream",
     "text": [
      "\r",
      " 10%|████████████                                                                                                          | 204/2000 [08:41<1:10:24,  2.35s/it]"
     ]
    },
    {
     "name": "stdout",
     "output_type": "stream",
     "text": [
      "Epoch 203 | Train loss: 0.0472 | Valid loss: 0.4413\n",
      "Train ACC: 0.9850 | valid ACC: 0.8545 | test ACC: 0.7831\n",
      "Train f1: 0.9875 | valid f1: 0.8446 | test f1: 0.7883\n",
      "Train pre: 0.9903 | valid pre: 0.8501 | test pre: 0.8222\n"
     ]
    },
    {
     "name": "stderr",
     "output_type": "stream",
     "text": [
      "\r",
      " 10%|████████████                                                                                                          | 205/2000 [08:43<1:14:11,  2.48s/it]"
     ]
    },
    {
     "name": "stdout",
     "output_type": "stream",
     "text": [
      "Epoch 204 | Train loss: 0.0460 | Valid loss: 0.4380\n",
      "Train ACC: 0.9836 | valid ACC: 0.8529 | test ACC: 0.7819\n",
      "Train f1: 0.9861 | valid f1: 0.8416 | test f1: 0.7868\n",
      "Train pre: 0.9891 | valid pre: 0.8388 | test pre: 0.8185\n"
     ]
    },
    {
     "name": "stderr",
     "output_type": "stream",
     "text": [
      "\r",
      " 10%|████████████▏                                                                                                         | 206/2000 [08:45<1:07:07,  2.25s/it]"
     ]
    },
    {
     "name": "stdout",
     "output_type": "stream",
     "text": [
      "Epoch 205 | Train loss: 0.0417 | Valid loss: 0.4462\n",
      "Train ACC: 0.9879 | valid ACC: 0.8535 | test ACC: 0.7773\n",
      "Train f1: 0.9878 | valid f1: 0.8422 | test f1: 0.7803\n",
      "Train pre: 0.9877 | valid pre: 0.8414 | test pre: 0.8086\n"
     ]
    },
    {
     "name": "stderr",
     "output_type": "stream",
     "text": [
      "\r",
      " 10%|████████████▏                                                                                                         | 207/2000 [08:48<1:12:12,  2.42s/it]"
     ]
    },
    {
     "name": "stdout",
     "output_type": "stream",
     "text": [
      "Epoch 206 | Train loss: 0.0459 | Valid loss: 0.4657\n",
      "Train ACC: 0.9886 | valid ACC: 0.8543 | test ACC: 0.7782\n",
      "Train f1: 0.9894 | valid f1: 0.8425 | test f1: 0.7789\n",
      "Train pre: 0.9902 | valid pre: 0.8380 | test pre: 0.8078\n"
     ]
    },
    {
     "name": "stderr",
     "output_type": "stream",
     "text": [
      "\r",
      " 10%|████████████▎                                                                                                         | 208/2000 [08:49<1:05:05,  2.18s/it]"
     ]
    },
    {
     "name": "stdout",
     "output_type": "stream",
     "text": [
      "Epoch 207 | Train loss: 0.0513 | Valid loss: 0.4630\n",
      "Train ACC: 0.9308 | valid ACC: 0.8513 | test ACC: 0.7799\n",
      "Train f1: 0.9308 | valid f1: 0.8401 | test f1: 0.7792\n",
      "Train pre: 0.9309 | valid pre: 0.8347 | test pre: 0.8075\n"
     ]
    },
    {
     "name": "stderr",
     "output_type": "stream",
     "text": [
      "\r",
      " 10%|████████████▎                                                                                                         | 209/2000 [08:52<1:12:18,  2.42s/it]"
     ]
    },
    {
     "name": "stdout",
     "output_type": "stream",
     "text": [
      "Epoch 208 | Train loss: 0.0440 | Valid loss: 0.4621\n",
      "Train ACC: 0.9895 | valid ACC: 0.8557 | test ACC: 0.7823\n",
      "Train f1: 0.9893 | valid f1: 0.8437 | test f1: 0.7804\n",
      "Train pre: 0.9892 | valid pre: 0.8381 | test pre: 0.8054\n"
     ]
    },
    {
     "name": "stderr",
     "output_type": "stream",
     "text": [
      "\r",
      " 10%|████████████▍                                                                                                         | 210/2000 [08:55<1:16:33,  2.57s/it]"
     ]
    },
    {
     "name": "stdout",
     "output_type": "stream",
     "text": [
      "Epoch 209 | Train loss: 0.0409 | Valid loss: 0.4619\n",
      "Train ACC: 0.9710 | valid ACC: 0.8532 | test ACC: 0.7829\n",
      "Train f1: 0.9759 | valid f1: 0.8413 | test f1: 0.7822\n",
      "Train pre: 0.9847 | valid pre: 0.8383 | test pre: 0.8051\n"
     ]
    },
    {
     "name": "stderr",
     "output_type": "stream",
     "text": [
      "\r",
      " 11%|████████████▍                                                                                                         | 211/2000 [08:58<1:18:59,  2.65s/it]"
     ]
    },
    {
     "name": "stdout",
     "output_type": "stream",
     "text": [
      "Epoch 210 | Train loss: 0.0538 | Valid loss: 0.4577\n",
      "Train ACC: 0.9898 | valid ACC: 0.8556 | test ACC: 0.7801\n",
      "Train f1: 0.9897 | valid f1: 0.8416 | test f1: 0.7808\n",
      "Train pre: 0.9896 | valid pre: 0.8388 | test pre: 0.8089\n"
     ]
    },
    {
     "name": "stderr",
     "output_type": "stream",
     "text": [
      "\r",
      " 11%|████████████▌                                                                                                         | 212/2000 [09:01<1:18:54,  2.65s/it]"
     ]
    },
    {
     "name": "stdout",
     "output_type": "stream",
     "text": [
      "Epoch 211 | Train loss: 0.0412 | Valid loss: 0.4592\n",
      "Train ACC: 0.9855 | valid ACC: 0.8562 | test ACC: 0.7796\n",
      "Train f1: 0.9874 | valid f1: 0.8415 | test f1: 0.7810\n",
      "Train pre: 0.9899 | valid pre: 0.8420 | test pre: 0.8138\n"
     ]
    },
    {
     "name": "stderr",
     "output_type": "stream",
     "text": [
      "\r",
      " 11%|████████████▌                                                                                                         | 213/2000 [09:03<1:11:29,  2.40s/it]"
     ]
    },
    {
     "name": "stdout",
     "output_type": "stream",
     "text": [
      "Epoch 212 | Train loss: 0.0326 | Valid loss: 0.4654\n",
      "Train ACC: 0.9923 | valid ACC: 0.8520 | test ACC: 0.7771\n",
      "Train f1: 0.9921 | valid f1: 0.8378 | test f1: 0.7782\n",
      "Train pre: 0.9920 | valid pre: 0.8485 | test pre: 0.8084\n"
     ]
    },
    {
     "name": "stderr",
     "output_type": "stream",
     "text": [
      "\r",
      " 11%|████████████▋                                                                                                         | 214/2000 [09:06<1:15:49,  2.55s/it]"
     ]
    },
    {
     "name": "stdout",
     "output_type": "stream",
     "text": [
      "Epoch 213 | Train loss: 0.0442 | Valid loss: 0.4671\n",
      "Train ACC: 0.9849 | valid ACC: 0.8498 | test ACC: 0.7795\n",
      "Train f1: 0.9741 | valid f1: 0.8372 | test f1: 0.7824\n",
      "Train pre: 0.9673 | valid pre: 0.8494 | test pre: 0.8145\n"
     ]
    },
    {
     "name": "stderr",
     "output_type": "stream",
     "text": [
      "\r",
      " 11%|████████████▋                                                                                                         | 215/2000 [09:09<1:19:53,  2.69s/it]"
     ]
    },
    {
     "name": "stdout",
     "output_type": "stream",
     "text": [
      "Epoch 214 | Train loss: 0.0481 | Valid loss: 0.4670\n",
      "Train ACC: 0.9851 | valid ACC: 0.8464 | test ACC: 0.7794\n",
      "Train f1: 0.9853 | valid f1: 0.8371 | test f1: 0.7838\n",
      "Train pre: 0.9856 | valid pre: 0.8524 | test pre: 0.8131\n"
     ]
    },
    {
     "name": "stderr",
     "output_type": "stream",
     "text": [
      "\r",
      " 11%|████████████▋                                                                                                         | 216/2000 [09:11<1:20:37,  2.71s/it]"
     ]
    },
    {
     "name": "stdout",
     "output_type": "stream",
     "text": [
      "Epoch 215 | Train loss: 0.0462 | Valid loss: 0.4644\n",
      "Train ACC: 0.9873 | valid ACC: 0.8439 | test ACC: 0.7793\n",
      "Train f1: 0.9883 | valid f1: 0.8355 | test f1: 0.7861\n",
      "Train pre: 0.9894 | valid pre: 0.8519 | test pre: 0.8168\n"
     ]
    },
    {
     "name": "stderr",
     "output_type": "stream",
     "text": [
      "\r",
      " 11%|████████████▊                                                                                                         | 217/2000 [09:13<1:11:38,  2.41s/it]"
     ]
    },
    {
     "name": "stdout",
     "output_type": "stream",
     "text": [
      "Epoch 216 | Train loss: 0.0419 | Valid loss: 0.4604\n",
      "Train ACC: 0.9859 | valid ACC: 0.8529 | test ACC: 0.7808\n",
      "Train f1: 0.9874 | valid f1: 0.8423 | test f1: 0.7902\n",
      "Train pre: 0.9891 | valid pre: 0.8571 | test pre: 0.8225\n"
     ]
    },
    {
     "name": "stderr",
     "output_type": "stream",
     "text": [
      "\r",
      " 11%|████████████▊                                                                                                         | 218/2000 [09:16<1:16:28,  2.57s/it]"
     ]
    },
    {
     "name": "stdout",
     "output_type": "stream",
     "text": [
      "Epoch 217 | Train loss: 0.0456 | Valid loss: 0.4659\n",
      "Train ACC: 0.9848 | valid ACC: 0.8520 | test ACC: 0.7812\n",
      "Train f1: 0.9880 | valid f1: 0.8413 | test f1: 0.7891\n",
      "Train pre: 0.9915 | valid pre: 0.8461 | test pre: 0.8170\n"
     ]
    },
    {
     "name": "stderr",
     "output_type": "stream",
     "text": [
      "\r",
      " 11%|████████████▉                                                                                                         | 219/2000 [09:19<1:20:12,  2.70s/it]"
     ]
    },
    {
     "name": "stdout",
     "output_type": "stream",
     "text": [
      "Epoch 218 | Train loss: 0.0409 | Valid loss: 0.4755\n",
      "Train ACC: 0.9716 | valid ACC: 0.8512 | test ACC: 0.7831\n",
      "Train f1: 0.9768 | valid f1: 0.8397 | test f1: 0.7886\n",
      "Train pre: 0.9860 | valid pre: 0.8365 | test pre: 0.8168\n"
     ]
    },
    {
     "name": "stderr",
     "output_type": "stream",
     "text": [
      "\r",
      " 11%|████████████▉                                                                                                         | 220/2000 [09:22<1:22:45,  2.79s/it]"
     ]
    },
    {
     "name": "stdout",
     "output_type": "stream",
     "text": [
      "Epoch 219 | Train loss: 0.0436 | Valid loss: 0.4797\n",
      "Train ACC: 0.9888 | valid ACC: 0.8509 | test ACC: 0.7848\n",
      "Train f1: 0.9882 | valid f1: 0.8396 | test f1: 0.7872\n",
      "Train pre: 0.9877 | valid pre: 0.8366 | test pre: 0.8083\n"
     ]
    },
    {
     "name": "stderr",
     "output_type": "stream",
     "text": [
      "\r",
      " 11%|█████████████                                                                                                         | 221/2000 [09:25<1:22:37,  2.79s/it]"
     ]
    },
    {
     "name": "stdout",
     "output_type": "stream",
     "text": [
      "Epoch 220 | Train loss: 0.0373 | Valid loss: 0.4795\n",
      "Train ACC: 0.9897 | valid ACC: 0.8506 | test ACC: 0.7846\n",
      "Train f1: 0.9783 | valid f1: 0.8367 | test f1: 0.7851\n",
      "Train pre: 0.9709 | valid pre: 0.8311 | test pre: 0.8059\n"
     ]
    },
    {
     "name": "stderr",
     "output_type": "stream",
     "text": [
      "\r",
      " 11%|█████████████                                                                                                         | 222/2000 [09:27<1:13:37,  2.48s/it]"
     ]
    },
    {
     "name": "stdout",
     "output_type": "stream",
     "text": [
      "Epoch 221 | Train loss: 0.0336 | Valid loss: 0.4785\n",
      "Train ACC: 0.9882 | valid ACC: 0.8531 | test ACC: 0.7847\n",
      "Train f1: 0.9800 | valid f1: 0.8389 | test f1: 0.7852\n",
      "Train pre: 0.9738 | valid pre: 0.8333 | test pre: 0.8062\n"
     ]
    },
    {
     "name": "stderr",
     "output_type": "stream",
     "text": [
      "\r",
      " 11%|█████████████▏                                                                                                        | 223/2000 [09:29<1:16:35,  2.59s/it]"
     ]
    },
    {
     "name": "stdout",
     "output_type": "stream",
     "text": [
      "Epoch 222 | Train loss: 0.0377 | Valid loss: 0.4758\n",
      "Train ACC: 0.9895 | valid ACC: 0.8557 | test ACC: 0.7804\n",
      "Train f1: 0.9884 | valid f1: 0.8431 | test f1: 0.7834\n",
      "Train pre: 0.9874 | valid pre: 0.8462 | test pre: 0.8049\n"
     ]
    },
    {
     "name": "stderr",
     "output_type": "stream",
     "text": [
      "\r",
      " 11%|█████████████▏                                                                                                        | 224/2000 [09:32<1:20:05,  2.71s/it]"
     ]
    },
    {
     "name": "stdout",
     "output_type": "stream",
     "text": [
      "Epoch 223 | Train loss: 0.0444 | Valid loss: 0.4764\n",
      "Train ACC: 0.9851 | valid ACC: 0.8548 | test ACC: 0.7780\n",
      "Train f1: 0.9783 | valid f1: 0.8425 | test f1: 0.7833\n",
      "Train pre: 0.9737 | valid pre: 0.8458 | test pre: 0.8084\n"
     ]
    },
    {
     "name": "stderr",
     "output_type": "stream",
     "text": [
      "\r",
      " 11%|█████████████▎                                                                                                        | 225/2000 [09:34<1:12:05,  2.44s/it]"
     ]
    },
    {
     "name": "stdout",
     "output_type": "stream",
     "text": [
      "Epoch 224 | Train loss: 0.0327 | Valid loss: 0.4811\n",
      "Train ACC: 0.9899 | valid ACC: 0.8531 | test ACC: 0.7765\n",
      "Train f1: 0.9906 | valid f1: 0.8413 | test f1: 0.7824\n",
      "Train pre: 0.9916 | valid pre: 0.8551 | test pre: 0.8122\n"
     ]
    },
    {
     "name": "stderr",
     "output_type": "stream",
     "text": [
      "\r",
      " 11%|█████████████▎                                                                                                        | 226/2000 [09:37<1:17:04,  2.61s/it]"
     ]
    },
    {
     "name": "stdout",
     "output_type": "stream",
     "text": [
      "Epoch 225 | Train loss: 0.0409 | Valid loss: 0.4901\n",
      "Train ACC: 0.9867 | valid ACC: 0.8536 | test ACC: 0.7757\n",
      "Train f1: 0.9890 | valid f1: 0.8434 | test f1: 0.7783\n",
      "Train pre: 0.9917 | valid pre: 0.8584 | test pre: 0.8069\n"
     ]
    },
    {
     "name": "stderr",
     "output_type": "stream",
     "text": [
      "\r",
      " 11%|█████████████▍                                                                                                        | 227/2000 [09:40<1:19:02,  2.68s/it]"
     ]
    },
    {
     "name": "stdout",
     "output_type": "stream",
     "text": [
      "Epoch 226 | Train loss: 0.0376 | Valid loss: 0.4964\n",
      "Train ACC: 0.9904 | valid ACC: 0.8541 | test ACC: 0.7791\n",
      "Train f1: 0.9908 | valid f1: 0.8433 | test f1: 0.7789\n",
      "Train pre: 0.9912 | valid pre: 0.8474 | test pre: 0.8074\n"
     ]
    },
    {
     "name": "stderr",
     "output_type": "stream",
     "text": [
      "\r",
      " 11%|█████████████▍                                                                                                        | 228/2000 [09:42<1:09:42,  2.36s/it]"
     ]
    },
    {
     "name": "stdout",
     "output_type": "stream",
     "text": [
      "Epoch 227 | Train loss: 0.0399 | Valid loss: 0.5014\n",
      "Train ACC: 0.9585 | valid ACC: 0.8506 | test ACC: 0.7791\n",
      "Train f1: 0.9712 | valid f1: 0.8399 | test f1: 0.7768\n",
      "Train pre: 0.9934 | valid pre: 0.8395 | test pre: 0.8014\n"
     ]
    },
    {
     "name": "stderr",
     "output_type": "stream",
     "text": [
      "\r",
      " 11%|█████████████▌                                                                                                        | 229/2000 [09:44<1:13:51,  2.50s/it]"
     ]
    },
    {
     "name": "stdout",
     "output_type": "stream",
     "text": [
      "Epoch 228 | Train loss: 0.0405 | Valid loss: 0.5004\n",
      "Train ACC: 0.9863 | valid ACC: 0.8501 | test ACC: 0.7798\n",
      "Train f1: 0.9880 | valid f1: 0.8393 | test f1: 0.7780\n",
      "Train pre: 0.9897 | valid pre: 0.8390 | test pre: 0.8023\n"
     ]
    },
    {
     "name": "stderr",
     "output_type": "stream",
     "text": [
      "\r",
      " 12%|█████████████▌                                                                                                        | 230/2000 [09:47<1:16:01,  2.58s/it]"
     ]
    },
    {
     "name": "stdout",
     "output_type": "stream",
     "text": [
      "Epoch 229 | Train loss: 0.0376 | Valid loss: 0.4938\n",
      "Train ACC: 0.9846 | valid ACC: 0.8493 | test ACC: 0.7799\n",
      "Train f1: 0.9857 | valid f1: 0.8385 | test f1: 0.7791\n",
      "Train pre: 0.9870 | valid pre: 0.8385 | test pre: 0.8017\n"
     ]
    },
    {
     "name": "stderr",
     "output_type": "stream",
     "text": [
      "\r",
      " 12%|█████████████▋                                                                                                        | 231/2000 [09:49<1:10:26,  2.39s/it]"
     ]
    },
    {
     "name": "stdout",
     "output_type": "stream",
     "text": [
      "Epoch 230 | Train loss: 0.0406 | Valid loss: 0.4840\n",
      "Train ACC: 0.9915 | valid ACC: 0.8489 | test ACC: 0.7804\n",
      "Train f1: 0.9876 | valid f1: 0.8384 | test f1: 0.7837\n",
      "Train pre: 0.9843 | valid pre: 0.8434 | test pre: 0.8101\n"
     ]
    },
    {
     "name": "stderr",
     "output_type": "stream",
     "text": [
      "\r",
      " 12%|█████████████▋                                                                                                        | 232/2000 [09:52<1:12:06,  2.45s/it]"
     ]
    },
    {
     "name": "stdout",
     "output_type": "stream",
     "text": [
      "Epoch 231 | Train loss: 0.0396 | Valid loss: 0.4856\n",
      "Train ACC: 0.9643 | valid ACC: 0.8500 | test ACC: 0.7762\n",
      "Train f1: 0.9725 | valid f1: 0.8399 | test f1: 0.7801\n",
      "Train pre: 0.9902 | valid pre: 0.8551 | test pre: 0.8100\n"
     ]
    },
    {
     "name": "stderr",
     "output_type": "stream",
     "text": [
      "\r",
      " 12%|█████████████▋                                                                                                        | 233/2000 [09:55<1:16:14,  2.59s/it]"
     ]
    },
    {
     "name": "stdout",
     "output_type": "stream",
     "text": [
      "Epoch 232 | Train loss: 0.0363 | Valid loss: 0.4927\n",
      "Train ACC: 0.9871 | valid ACC: 0.8508 | test ACC: 0.7749\n",
      "Train f1: 0.9887 | valid f1: 0.8421 | test f1: 0.7779\n",
      "Train pre: 0.9905 | valid pre: 0.8907 | test pre: 0.8059\n"
     ]
    },
    {
     "name": "stderr",
     "output_type": "stream",
     "text": [
      "\r",
      " 12%|█████████████▊                                                                                                        | 234/2000 [09:56<1:08:59,  2.34s/it]"
     ]
    },
    {
     "name": "stdout",
     "output_type": "stream",
     "text": [
      "Epoch 233 | Train loss: 0.0395 | Valid loss: 0.4953\n",
      "Train ACC: 0.9865 | valid ACC: 0.8545 | test ACC: 0.7739\n",
      "Train f1: 0.9897 | valid f1: 0.8442 | test f1: 0.7762\n",
      "Train pre: 0.9933 | valid pre: 0.8594 | test pre: 0.8054\n"
     ]
    },
    {
     "name": "stderr",
     "output_type": "stream",
     "text": [
      "\r",
      " 12%|█████████████▊                                                                                                        | 235/2000 [09:59<1:12:34,  2.47s/it]"
     ]
    },
    {
     "name": "stdout",
     "output_type": "stream",
     "text": [
      "Epoch 234 | Train loss: 0.0442 | Valid loss: 0.4910\n",
      "Train ACC: 0.9607 | valid ACC: 0.8589 | test ACC: 0.7782\n",
      "Train f1: 0.9702 | valid f1: 0.8471 | test f1: 0.7792\n",
      "Train pre: 0.9892 | valid pre: 0.8608 | test pre: 0.8035\n"
     ]
    },
    {
     "name": "stderr",
     "output_type": "stream",
     "text": [
      "\r",
      " 12%|█████████████▉                                                                                                        | 236/2000 [10:02<1:16:48,  2.61s/it]"
     ]
    },
    {
     "name": "stdout",
     "output_type": "stream",
     "text": [
      "Epoch 235 | Train loss: 0.0360 | Valid loss: 0.4968\n",
      "Train ACC: 0.9857 | valid ACC: 0.8546 | test ACC: 0.7819\n",
      "Train f1: 0.9870 | valid f1: 0.8416 | test f1: 0.7800\n",
      "Train pre: 0.9890 | valid pre: 0.8445 | test pre: 0.7994\n"
     ]
    },
    {
     "name": "stderr",
     "output_type": "stream",
     "text": [
      "\r",
      " 12%|█████████████▉                                                                                                        | 237/2000 [10:05<1:18:31,  2.67s/it]"
     ]
    },
    {
     "name": "stdout",
     "output_type": "stream",
     "text": [
      "Epoch 236 | Train loss: 0.0414 | Valid loss: 0.4974\n",
      "Train ACC: 0.9630 | valid ACC: 0.8554 | test ACC: 0.7810\n",
      "Train f1: 0.9693 | valid f1: 0.8439 | test f1: 0.7783\n",
      "Train pre: 0.9852 | valid pre: 0.8421 | test pre: 0.7951\n"
     ]
    },
    {
     "name": "stderr",
     "output_type": "stream",
     "text": [
      "\r",
      " 12%|██████████████                                                                                                        | 238/2000 [10:07<1:09:39,  2.37s/it]"
     ]
    },
    {
     "name": "stdout",
     "output_type": "stream",
     "text": [
      "Epoch 237 | Train loss: 0.0409 | Valid loss: 0.4918\n",
      "Train ACC: 0.9911 | valid ACC: 0.8543 | test ACC: 0.7846\n",
      "Train f1: 0.9903 | valid f1: 0.8446 | test f1: 0.7837\n",
      "Train pre: 0.9895 | valid pre: 0.8475 | test pre: 0.8029\n"
     ]
    },
    {
     "name": "stderr",
     "output_type": "stream",
     "text": [
      "\r",
      " 12%|██████████████                                                                                                        | 239/2000 [10:08<1:02:52,  2.14s/it]"
     ]
    },
    {
     "name": "stdout",
     "output_type": "stream",
     "text": [
      "Epoch 238 | Train loss: 0.0379 | Valid loss: 0.4789\n",
      "Train ACC: 0.9732 | valid ACC: 0.8490 | test ACC: 0.7841\n",
      "Train f1: 0.9790 | valid f1: 0.8384 | test f1: 0.7872\n",
      "Train pre: 0.9885 | valid pre: 0.8390 | test pre: 0.8099\n"
     ]
    },
    {
     "name": "stderr",
     "output_type": "stream",
     "text": [
      "\r",
      " 12%|██████████████▏                                                                                                       | 240/2000 [10:11<1:05:34,  2.24s/it]"
     ]
    },
    {
     "name": "stdout",
     "output_type": "stream",
     "text": [
      "Epoch 239 | Train loss: 0.0414 | Valid loss: 0.4716\n",
      "Train ACC: 0.9920 | valid ACC: 0.8495 | test ACC: 0.7810\n",
      "Train f1: 0.9925 | valid f1: 0.8394 | test f1: 0.7877\n",
      "Train pre: 0.9931 | valid pre: 0.8405 | test pre: 0.8115\n"
     ]
    },
    {
     "name": "stderr",
     "output_type": "stream",
     "text": [
      "\r",
      " 12%|██████████████▏                                                                                                       | 241/2000 [10:13<1:03:44,  2.17s/it]"
     ]
    },
    {
     "name": "stdout",
     "output_type": "stream",
     "text": [
      "Epoch 240 | Train loss: 0.0348 | Valid loss: 0.4707\n",
      "Train ACC: 0.9891 | valid ACC: 0.8497 | test ACC: 0.7793\n",
      "Train f1: 0.9903 | valid f1: 0.8407 | test f1: 0.7876\n",
      "Train pre: 0.9917 | valid pre: 0.8434 | test pre: 0.8120\n"
     ]
    },
    {
     "name": "stderr",
     "output_type": "stream",
     "text": [
      "\r",
      " 12%|██████████████▎                                                                                                       | 242/2000 [10:15<1:00:38,  2.07s/it]"
     ]
    },
    {
     "name": "stdout",
     "output_type": "stream",
     "text": [
      "Epoch 241 | Train loss: 0.0347 | Valid loss: 0.4728\n",
      "Train ACC: 0.9922 | valid ACC: 0.8503 | test ACC: 0.7778\n",
      "Train f1: 0.9923 | valid f1: 0.8414 | test f1: 0.7862\n",
      "Train pre: 0.9924 | valid pre: 0.8485 | test pre: 0.8097\n"
     ]
    },
    {
     "name": "stderr",
     "output_type": "stream",
     "text": [
      "\r",
      " 12%|██████████████▌                                                                                                         | 243/2000 [10:16<58:59,  2.01s/it]"
     ]
    },
    {
     "name": "stdout",
     "output_type": "stream",
     "text": [
      "Epoch 242 | Train loss: 0.0363 | Valid loss: 0.4753\n",
      "Train ACC: 0.9907 | valid ACC: 0.8501 | test ACC: 0.7787\n",
      "Train f1: 0.9900 | valid f1: 0.8411 | test f1: 0.7857\n",
      "Train pre: 0.9895 | valid pre: 0.8478 | test pre: 0.8087\n"
     ]
    },
    {
     "name": "stderr",
     "output_type": "stream",
     "text": [
      "\r",
      " 12%|██████████████▍                                                                                                       | 244/2000 [10:19<1:02:12,  2.13s/it]"
     ]
    },
    {
     "name": "stdout",
     "output_type": "stream",
     "text": [
      "Epoch 243 | Train loss: 0.0322 | Valid loss: 0.4799\n",
      "Train ACC: 0.9902 | valid ACC: 0.8507 | test ACC: 0.7812\n",
      "Train f1: 0.9926 | valid f1: 0.8408 | test f1: 0.7863\n",
      "Train pre: 0.9951 | valid pre: 0.8464 | test pre: 0.8078\n"
     ]
    },
    {
     "name": "stderr",
     "output_type": "stream",
     "text": [
      "\r",
      " 12%|██████████████▍                                                                                                       | 245/2000 [10:21<1:02:21,  2.13s/it]"
     ]
    },
    {
     "name": "stdout",
     "output_type": "stream",
     "text": [
      "Epoch 244 | Train loss: 0.0394 | Valid loss: 0.4836\n",
      "Train ACC: 0.9644 | valid ACC: 0.8488 | test ACC: 0.7864\n",
      "Train f1: 0.9746 | valid f1: 0.8383 | test f1: 0.7888\n",
      "Train pre: 0.9942 | valid pre: 0.8386 | test pre: 0.8074\n"
     ]
    },
    {
     "name": "stderr",
     "output_type": "stream",
     "text": [
      "\r",
      " 12%|██████████████▌                                                                                                       | 246/2000 [10:24<1:09:17,  2.37s/it]"
     ]
    },
    {
     "name": "stdout",
     "output_type": "stream",
     "text": [
      "Epoch 245 | Train loss: 0.0330 | Valid loss: 0.4841\n",
      "Train ACC: 0.9902 | valid ACC: 0.8530 | test ACC: 0.7901\n",
      "Train f1: 0.9813 | valid f1: 0.8411 | test f1: 0.7898\n",
      "Train pre: 0.9764 | valid pre: 0.8404 | test pre: 0.8079\n"
     ]
    },
    {
     "name": "stderr",
     "output_type": "stream",
     "text": [
      "\r",
      " 12%|██████████████▌                                                                                                       | 247/2000 [10:26<1:03:09,  2.16s/it]"
     ]
    },
    {
     "name": "stdout",
     "output_type": "stream",
     "text": [
      "Epoch 246 | Train loss: 0.0362 | Valid loss: 0.4882\n",
      "Train ACC: 0.9863 | valid ACC: 0.8514 | test ACC: 0.7882\n",
      "Train f1: 0.9699 | valid f1: 0.8391 | test f1: 0.7862\n",
      "Train pre: 0.9629 | valid pre: 0.8357 | test pre: 0.8032\n"
     ]
    },
    {
     "name": "stderr",
     "output_type": "stream",
     "text": [
      "\r",
      " 12%|██████████████▋                                                                                                       | 248/2000 [10:27<1:01:05,  2.09s/it]"
     ]
    },
    {
     "name": "stdout",
     "output_type": "stream",
     "text": [
      "Epoch 247 | Train loss: 0.0388 | Valid loss: 0.4854\n",
      "Train ACC: 0.9910 | valid ACC: 0.8526 | test ACC: 0.7830\n",
      "Train f1: 0.9623 | valid f1: 0.8407 | test f1: 0.7807\n",
      "Train pre: 0.9522 | valid pre: 0.8375 | test pre: 0.7977\n"
     ]
    },
    {
     "name": "stderr",
     "output_type": "stream",
     "text": [
      "\r",
      " 12%|██████████████▋                                                                                                       | 249/2000 [10:30<1:06:29,  2.28s/it]"
     ]
    },
    {
     "name": "stdout",
     "output_type": "stream",
     "text": [
      "Epoch 248 | Train loss: 0.0340 | Valid loss: 0.4826\n",
      "Train ACC: 0.9925 | valid ACC: 0.8538 | test ACC: 0.7820\n",
      "Train f1: 0.9930 | valid f1: 0.8417 | test f1: 0.7813\n",
      "Train pre: 0.9935 | valid pre: 0.8406 | test pre: 0.7997\n"
     ]
    },
    {
     "name": "stderr",
     "output_type": "stream",
     "text": [
      "\r",
      " 12%|██████████████▊                                                                                                       | 250/2000 [10:32<1:00:51,  2.09s/it]"
     ]
    },
    {
     "name": "stdout",
     "output_type": "stream",
     "text": [
      "Epoch 249 | Train loss: 0.0369 | Valid loss: 0.4813\n",
      "Train ACC: 0.9946 | valid ACC: 0.8539 | test ACC: 0.7803\n",
      "Train f1: 0.9936 | valid f1: 0.8418 | test f1: 0.7814\n",
      "Train pre: 0.9926 | valid pre: 0.8404 | test pre: 0.8009\n"
     ]
    },
    {
     "name": "stderr",
     "output_type": "stream",
     "text": [
      "\r",
      " 13%|██████████████▊                                                                                                       | 251/2000 [10:35<1:08:20,  2.34s/it]"
     ]
    },
    {
     "name": "stdout",
     "output_type": "stream",
     "text": [
      "Epoch 250 | Train loss: 0.0327 | Valid loss: 0.4862\n",
      "Train ACC: 0.9541 | valid ACC: 0.8548 | test ACC: 0.7803\n",
      "Train f1: 0.9685 | valid f1: 0.8430 | test f1: 0.7816\n",
      "Train pre: 0.9904 | valid pre: 0.8464 | test pre: 0.8023\n"
     ]
    },
    {
     "name": "stderr",
     "output_type": "stream",
     "text": [
      "\r",
      " 13%|██████████████▊                                                                                                       | 252/2000 [10:37<1:04:49,  2.22s/it]"
     ]
    },
    {
     "name": "stdout",
     "output_type": "stream",
     "text": [
      "Epoch 251 | Train loss: 0.0358 | Valid loss: 0.4875\n",
      "Train ACC: 0.9943 | valid ACC: 0.8559 | test ACC: 0.7773\n",
      "Train f1: 0.9922 | valid f1: 0.8452 | test f1: 0.7792\n",
      "Train pre: 0.9904 | valid pre: 0.8593 | test pre: 0.8017\n"
     ]
    },
    {
     "name": "stderr",
     "output_type": "stream",
     "text": [
      "\r",
      " 13%|██████████████▉                                                                                                       | 253/2000 [10:39<1:09:28,  2.39s/it]"
     ]
    },
    {
     "name": "stdout",
     "output_type": "stream",
     "text": [
      "Epoch 252 | Train loss: 0.0291 | Valid loss: 0.4833\n",
      "Train ACC: 0.9913 | valid ACC: 0.8517 | test ACC: 0.7780\n",
      "Train f1: 0.9922 | valid f1: 0.8420 | test f1: 0.7806\n",
      "Train pre: 0.9932 | valid pre: 0.8574 | test pre: 0.8037\n"
     ]
    },
    {
     "name": "stderr",
     "output_type": "stream",
     "text": [
      "\r",
      " 13%|██████████████▉                                                                                                       | 254/2000 [10:42<1:14:10,  2.55s/it]"
     ]
    },
    {
     "name": "stdout",
     "output_type": "stream",
     "text": [
      "Epoch 253 | Train loss: 0.0303 | Valid loss: 0.4791\n",
      "Train ACC: 0.9909 | valid ACC: 0.8527 | test ACC: 0.7778\n",
      "Train f1: 0.9918 | valid f1: 0.8430 | test f1: 0.7804\n",
      "Train pre: 0.9929 | valid pre: 0.8585 | test pre: 0.8019\n"
     ]
    },
    {
     "name": "stderr",
     "output_type": "stream",
     "text": [
      "\r",
      " 13%|███████████████                                                                                                       | 255/2000 [10:45<1:17:43,  2.67s/it]"
     ]
    },
    {
     "name": "stdout",
     "output_type": "stream",
     "text": [
      "Epoch 254 | Train loss: 0.0339 | Valid loss: 0.4731\n",
      "Train ACC: 0.9655 | valid ACC: 0.8521 | test ACC: 0.7799\n",
      "Train f1: 0.9745 | valid f1: 0.8418 | test f1: 0.7839\n",
      "Train pre: 0.9928 | valid pre: 0.8567 | test pre: 0.8051\n"
     ]
    },
    {
     "name": "stderr",
     "output_type": "stream",
     "text": [
      "\r",
      " 13%|███████████████                                                                                                       | 256/2000 [10:48<1:19:03,  2.72s/it]"
     ]
    },
    {
     "name": "stdout",
     "output_type": "stream",
     "text": [
      "Epoch 255 | Train loss: 0.0328 | Valid loss: 0.4721\n",
      "Train ACC: 0.9920 | valid ACC: 0.8529 | test ACC: 0.7788\n",
      "Train f1: 0.9738 | valid f1: 0.8425 | test f1: 0.7834\n",
      "Train pre: 0.9649 | valid pre: 0.8575 | test pre: 0.8039\n"
     ]
    },
    {
     "name": "stderr",
     "output_type": "stream",
     "text": [
      "\r",
      " 13%|███████████████▏                                                                                                      | 257/2000 [10:50<1:09:29,  2.39s/it]"
     ]
    },
    {
     "name": "stdout",
     "output_type": "stream",
     "text": [
      "Epoch 256 | Train loss: 0.0234 | Valid loss: 0.4761\n",
      "Train ACC: 0.9944 | valid ACC: 0.8509 | test ACC: 0.7790\n",
      "Train f1: 0.9951 | valid f1: 0.8403 | test f1: 0.7832\n",
      "Train pre: 0.9958 | valid pre: 0.8451 | test pre: 0.8040\n"
     ]
    },
    {
     "name": "stderr",
     "output_type": "stream",
     "text": [
      "\r",
      " 13%|███████████████▏                                                                                                      | 258/2000 [10:53<1:11:52,  2.48s/it]"
     ]
    },
    {
     "name": "stdout",
     "output_type": "stream",
     "text": [
      "Epoch 257 | Train loss: 0.0421 | Valid loss: 0.4837\n",
      "Train ACC: 0.9878 | valid ACC: 0.8500 | test ACC: 0.7786\n",
      "Train f1: 0.9887 | valid f1: 0.8393 | test f1: 0.7815\n",
      "Train pre: 0.9895 | valid pre: 0.8394 | test pre: 0.8013\n"
     ]
    },
    {
     "name": "stderr",
     "output_type": "stream",
     "text": [
      "\r",
      " 13%|███████████████▎                                                                                                      | 259/2000 [10:54<1:04:37,  2.23s/it]"
     ]
    },
    {
     "name": "stdout",
     "output_type": "stream",
     "text": [
      "Epoch 258 | Train loss: 0.0331 | Valid loss: 0.4901\n",
      "Train ACC: 0.9864 | valid ACC: 0.8543 | test ACC: 0.7797\n",
      "Train f1: 0.9872 | valid f1: 0.8439 | test f1: 0.7821\n",
      "Train pre: 0.9880 | valid pre: 0.8440 | test pre: 0.8010\n"
     ]
    },
    {
     "name": "stderr",
     "output_type": "stream",
     "text": [
      "\r",
      " 13%|███████████████▎                                                                                                      | 260/2000 [10:57<1:09:52,  2.41s/it]"
     ]
    },
    {
     "name": "stdout",
     "output_type": "stream",
     "text": [
      "Epoch 259 | Train loss: 0.0351 | Valid loss: 0.4959\n",
      "Train ACC: 0.9824 | valid ACC: 0.8546 | test ACC: 0.7813\n",
      "Train f1: 0.9831 | valid f1: 0.8448 | test f1: 0.7842\n",
      "Train pre: 0.9847 | valid pre: 0.8458 | test pre: 0.8044\n"
     ]
    },
    {
     "name": "stderr",
     "output_type": "stream",
     "text": [
      "\r",
      " 13%|███████████████▍                                                                                                      | 261/2000 [10:59<1:08:23,  2.36s/it]"
     ]
    },
    {
     "name": "stdout",
     "output_type": "stream",
     "text": [
      "Epoch 260 | Train loss: 0.0428 | Valid loss: 0.4963\n",
      "Train ACC: 0.9861 | valid ACC: 0.8528 | test ACC: 0.7826\n",
      "Train f1: 0.9863 | valid f1: 0.8429 | test f1: 0.7864\n",
      "Train pre: 0.9867 | valid pre: 0.8441 | test pre: 0.8057\n"
     ]
    },
    {
     "name": "stderr",
     "output_type": "stream",
     "text": [
      "\r",
      " 13%|███████████████▍                                                                                                      | 262/2000 [11:01<1:07:12,  2.32s/it]"
     ]
    },
    {
     "name": "stdout",
     "output_type": "stream",
     "text": [
      "Epoch 261 | Train loss: 0.0333 | Valid loss: 0.4960\n",
      "Train ACC: 0.9941 | valid ACC: 0.8533 | test ACC: 0.7844\n",
      "Train f1: 0.9934 | valid f1: 0.8441 | test f1: 0.7893\n",
      "Train pre: 0.9927 | valid pre: 0.8609 | test pre: 0.8133\n"
     ]
    },
    {
     "name": "stderr",
     "output_type": "stream",
     "text": [
      "\r",
      " 13%|███████████████▌                                                                                                      | 263/2000 [11:03<1:00:52,  2.10s/it]"
     ]
    },
    {
     "name": "stdout",
     "output_type": "stream",
     "text": [
      "Epoch 262 | Train loss: 0.0340 | Valid loss: 0.4987\n",
      "Train ACC: 0.9925 | valid ACC: 0.8561 | test ACC: 0.7840\n",
      "Train f1: 0.9910 | valid f1: 0.8462 | test f1: 0.7898\n",
      "Train pre: 0.9897 | valid pre: 0.8621 | test pre: 0.8165\n"
     ]
    },
    {
     "name": "stderr",
     "output_type": "stream",
     "text": [
      "\r",
      " 13%|███████████████▌                                                                                                      | 264/2000 [11:06<1:05:40,  2.27s/it]"
     ]
    },
    {
     "name": "stdout",
     "output_type": "stream",
     "text": [
      "Epoch 263 | Train loss: 0.0334 | Valid loss: 0.5043\n",
      "Train ACC: 0.9917 | valid ACC: 0.8569 | test ACC: 0.7858\n",
      "Train f1: 0.9916 | valid f1: 0.8459 | test f1: 0.7916\n",
      "Train pre: 0.9915 | valid pre: 0.8603 | test pre: 0.8200\n"
     ]
    },
    {
     "name": "stderr",
     "output_type": "stream",
     "text": [
      "\r",
      " 13%|███████████████▋                                                                                                      | 265/2000 [11:09<1:11:06,  2.46s/it]"
     ]
    },
    {
     "name": "stdout",
     "output_type": "stream",
     "text": [
      "Epoch 264 | Train loss: 0.0292 | Valid loss: 0.5054\n",
      "Train ACC: 0.9912 | valid ACC: 0.8572 | test ACC: 0.7875\n",
      "Train f1: 0.9836 | valid f1: 0.8460 | test f1: 0.7930\n",
      "Train pre: 0.9781 | valid pre: 0.8600 | test pre: 0.8264\n"
     ]
    },
    {
     "name": "stderr",
     "output_type": "stream",
     "text": [
      "\r",
      " 13%|███████████████▋                                                                                                      | 266/2000 [11:12<1:15:11,  2.60s/it]"
     ]
    },
    {
     "name": "stdout",
     "output_type": "stream",
     "text": [
      "Epoch 265 | Train loss: 0.0351 | Valid loss: 0.5042\n",
      "Train ACC: 0.9934 | valid ACC: 0.8560 | test ACC: 0.7874\n",
      "Train f1: 0.9937 | valid f1: 0.8440 | test f1: 0.7924\n",
      "Train pre: 0.9940 | valid pre: 0.8571 | test pre: 0.8289\n"
     ]
    },
    {
     "name": "stderr",
     "output_type": "stream",
     "text": [
      "\r",
      " 13%|███████████████▊                                                                                                      | 267/2000 [11:14<1:15:04,  2.60s/it]"
     ]
    },
    {
     "name": "stdout",
     "output_type": "stream",
     "text": [
      "Epoch 266 | Train loss: 0.0331 | Valid loss: 0.5051\n",
      "Train ACC: 0.9905 | valid ACC: 0.8544 | test ACC: 0.7839\n",
      "Train f1: 0.9907 | valid f1: 0.8419 | test f1: 0.7874\n",
      "Train pre: 0.9911 | valid pre: 0.8546 | test pre: 0.8207\n"
     ]
    },
    {
     "name": "stderr",
     "output_type": "stream",
     "text": [
      "\r",
      " 13%|███████████████▊                                                                                                      | 268/2000 [11:16<1:08:09,  2.36s/it]"
     ]
    },
    {
     "name": "stdout",
     "output_type": "stream",
     "text": [
      "Epoch 267 | Train loss: 0.0405 | Valid loss: 0.4869\n",
      "Train ACC: 0.9293 | valid ACC: 0.8537 | test ACC: 0.7849\n",
      "Train f1: 0.9311 | valid f1: 0.8411 | test f1: 0.7892\n",
      "Train pre: 0.9332 | valid pre: 0.8538 | test pre: 0.8211\n"
     ]
    },
    {
     "name": "stderr",
     "output_type": "stream",
     "text": [
      "\r",
      " 13%|███████████████▊                                                                                                      | 269/2000 [11:19<1:12:44,  2.52s/it]"
     ]
    },
    {
     "name": "stdout",
     "output_type": "stream",
     "text": [
      "Epoch 268 | Train loss: 0.0297 | Valid loss: 0.4736\n",
      "Train ACC: 0.9897 | valid ACC: 0.8549 | test ACC: 0.7864\n",
      "Train f1: 0.9907 | valid f1: 0.8423 | test f1: 0.7910\n",
      "Train pre: 0.9918 | valid pre: 0.8553 | test pre: 0.8238\n"
     ]
    },
    {
     "name": "stderr",
     "output_type": "stream",
     "text": [
      "\r",
      " 14%|███████████████▉                                                                                                      | 270/2000 [11:22<1:15:47,  2.63s/it]"
     ]
    },
    {
     "name": "stdout",
     "output_type": "stream",
     "text": [
      "Epoch 269 | Train loss: 0.0341 | Valid loss: 0.4689\n",
      "Train ACC: 0.9906 | valid ACC: 0.8558 | test ACC: 0.7839\n",
      "Train f1: 0.9910 | valid f1: 0.8449 | test f1: 0.7880\n",
      "Train pre: 0.9915 | valid pre: 0.8592 | test pre: 0.8251\n"
     ]
    },
    {
     "name": "stderr",
     "output_type": "stream",
     "text": [
      "\r",
      " 14%|███████████████▉                                                                                                      | 271/2000 [11:24<1:16:20,  2.65s/it]"
     ]
    },
    {
     "name": "stdout",
     "output_type": "stream",
     "text": [
      "Epoch 270 | Train loss: 0.0326 | Valid loss: 0.4712\n",
      "Train ACC: 0.9918 | valid ACC: 0.8546 | test ACC: 0.7815\n",
      "Train f1: 0.9926 | valid f1: 0.8457 | test f1: 0.7839\n",
      "Train pre: 0.9935 | valid pre: 0.8615 | test pre: 0.8160\n"
     ]
    },
    {
     "name": "stderr",
     "output_type": "stream",
     "text": [
      "\r",
      " 14%|████████████████                                                                                                      | 272/2000 [11:26<1:07:20,  2.34s/it]"
     ]
    },
    {
     "name": "stdout",
     "output_type": "stream",
     "text": [
      "Epoch 271 | Train loss: 0.0373 | Valid loss: 0.4703\n",
      "Train ACC: 0.9886 | valid ACC: 0.8550 | test ACC: 0.7826\n",
      "Train f1: 0.9913 | valid f1: 0.8448 | test f1: 0.7840\n",
      "Train pre: 0.9941 | valid pre: 0.8598 | test pre: 0.8156\n"
     ]
    },
    {
     "name": "stderr",
     "output_type": "stream",
     "text": [
      "\r",
      " 14%|████████████████                                                                                                      | 273/2000 [11:29<1:11:21,  2.48s/it]"
     ]
    },
    {
     "name": "stdout",
     "output_type": "stream",
     "text": [
      "Epoch 272 | Train loss: 0.0307 | Valid loss: 0.4679\n",
      "Train ACC: 0.9360 | valid ACC: 0.8564 | test ACC: 0.7847\n",
      "Train f1: 0.9360 | valid f1: 0.8452 | test f1: 0.7851\n",
      "Train pre: 0.9362 | valid pre: 0.8594 | test pre: 0.8129\n"
     ]
    },
    {
     "name": "stderr",
     "output_type": "stream",
     "text": [
      "\r",
      " 14%|████████████████▏                                                                                                     | 274/2000 [11:32<1:15:34,  2.63s/it]"
     ]
    },
    {
     "name": "stdout",
     "output_type": "stream",
     "text": [
      "Epoch 273 | Train loss: 0.0258 | Valid loss: 0.4674\n",
      "Train ACC: 0.9935 | valid ACC: 0.8544 | test ACC: 0.7836\n",
      "Train f1: 0.9930 | valid f1: 0.8426 | test f1: 0.7844\n",
      "Train pre: 0.9927 | valid pre: 0.8419 | test pre: 0.8116\n"
     ]
    },
    {
     "name": "stderr",
     "output_type": "stream",
     "text": [
      "\r",
      " 14%|████████████████▏                                                                                                     | 275/2000 [11:34<1:15:12,  2.62s/it]"
     ]
    },
    {
     "name": "stdout",
     "output_type": "stream",
     "text": [
      "Epoch 274 | Train loss: 0.0333 | Valid loss: 0.4739\n",
      "Train ACC: 0.9868 | valid ACC: 0.8536 | test ACC: 0.7857\n",
      "Train f1: 0.9873 | valid f1: 0.8418 | test f1: 0.7862\n",
      "Train pre: 0.9881 | valid pre: 0.8416 | test pre: 0.8131\n"
     ]
    },
    {
     "name": "stderr",
     "output_type": "stream",
     "text": [
      "\r",
      " 14%|████████████████▎                                                                                                     | 276/2000 [11:36<1:07:39,  2.35s/it]"
     ]
    },
    {
     "name": "stdout",
     "output_type": "stream",
     "text": [
      "Epoch 275 | Train loss: 0.0302 | Valid loss: 0.4913\n",
      "Train ACC: 0.9924 | valid ACC: 0.8540 | test ACC: 0.7855\n",
      "Train f1: 0.9916 | valid f1: 0.8423 | test f1: 0.7852\n",
      "Train pre: 0.9910 | valid pre: 0.8396 | test pre: 0.8147\n"
     ]
    },
    {
     "name": "stderr",
     "output_type": "stream",
     "text": [
      "\r",
      " 14%|████████████████▎                                                                                                     | 277/2000 [11:39<1:11:42,  2.50s/it]"
     ]
    },
    {
     "name": "stdout",
     "output_type": "stream",
     "text": [
      "Epoch 276 | Train loss: 0.0296 | Valid loss: 0.5089\n",
      "Train ACC: 0.9924 | valid ACC: 0.8545 | test ACC: 0.7861\n",
      "Train f1: 0.9913 | valid f1: 0.8431 | test f1: 0.7852\n",
      "Train pre: 0.9904 | valid pre: 0.8404 | test pre: 0.8155\n"
     ]
    },
    {
     "name": "stderr",
     "output_type": "stream",
     "text": [
      "\r",
      " 14%|████████████████▍                                                                                                     | 278/2000 [11:42<1:12:21,  2.52s/it]"
     ]
    },
    {
     "name": "stdout",
     "output_type": "stream",
     "text": [
      "Epoch 277 | Train loss: 0.0278 | Valid loss: 0.5228\n",
      "Train ACC: 0.9958 | valid ACC: 0.8567 | test ACC: 0.7858\n",
      "Train f1: 0.9953 | valid f1: 0.8449 | test f1: 0.7859\n",
      "Train pre: 0.9948 | valid pre: 0.8438 | test pre: 0.8174\n"
     ]
    },
    {
     "name": "stderr",
     "output_type": "stream",
     "text": [
      "\r",
      " 14%|████████████████▍                                                                                                     | 279/2000 [11:43<1:06:05,  2.30s/it]"
     ]
    },
    {
     "name": "stdout",
     "output_type": "stream",
     "text": [
      "Epoch 278 | Train loss: 0.0312 | Valid loss: 0.5274\n",
      "Train ACC: 0.9930 | valid ACC: 0.8556 | test ACC: 0.7822\n",
      "Train f1: 0.9918 | valid f1: 0.8445 | test f1: 0.7838\n",
      "Train pre: 0.9907 | valid pre: 0.8439 | test pre: 0.8199\n"
     ]
    },
    {
     "name": "stderr",
     "output_type": "stream",
     "text": [
      "\r",
      " 14%|████████████████▌                                                                                                     | 280/2000 [11:46<1:10:49,  2.47s/it]"
     ]
    },
    {
     "name": "stdout",
     "output_type": "stream",
     "text": [
      "Epoch 279 | Train loss: 0.0277 | Valid loss: 0.5242\n",
      "Train ACC: 0.9642 | valid ACC: 0.8563 | test ACC: 0.7806\n",
      "Train f1: 0.9732 | valid f1: 0.8450 | test f1: 0.7839\n",
      "Train pre: 0.9915 | valid pre: 0.8486 | test pre: 0.8230\n"
     ]
    },
    {
     "name": "stderr",
     "output_type": "stream",
     "text": [
      "\r",
      " 14%|████████████████▌                                                                                                     | 281/2000 [11:49<1:15:02,  2.62s/it]"
     ]
    },
    {
     "name": "stdout",
     "output_type": "stream",
     "text": [
      "Epoch 280 | Train loss: 0.0304 | Valid loss: 0.5200\n",
      "Train ACC: 0.9342 | valid ACC: 0.8550 | test ACC: 0.7798\n",
      "Train f1: 0.9290 | valid f1: 0.8454 | test f1: 0.7847\n",
      "Train pre: 0.9251 | valid pre: 0.8465 | test pre: 0.8248\n"
     ]
    },
    {
     "name": "stderr",
     "output_type": "stream",
     "text": [
      "\r",
      " 14%|████████████████▋                                                                                                     | 282/2000 [11:52<1:16:46,  2.68s/it]"
     ]
    },
    {
     "name": "stdout",
     "output_type": "stream",
     "text": [
      "Epoch 281 | Train loss: 0.0310 | Valid loss: 0.5191\n",
      "Train ACC: 0.9932 | valid ACC: 0.8534 | test ACC: 0.7789\n",
      "Train f1: 0.9933 | valid f1: 0.8436 | test f1: 0.7852\n",
      "Train pre: 0.9935 | valid pre: 0.8492 | test pre: 0.8238\n"
     ]
    },
    {
     "name": "stderr",
     "output_type": "stream",
     "text": [
      "\r",
      " 14%|████████████████▋                                                                                                     | 283/2000 [11:55<1:18:48,  2.75s/it]"
     ]
    },
    {
     "name": "stdout",
     "output_type": "stream",
     "text": [
      "Epoch 282 | Train loss: 0.0261 | Valid loss: 0.5242\n",
      "Train ACC: 0.9671 | valid ACC: 0.8526 | test ACC: 0.7767\n",
      "Train f1: 0.9763 | valid f1: 0.8429 | test f1: 0.7839\n",
      "Train pre: 0.9949 | valid pre: 0.8444 | test pre: 0.8185\n"
     ]
    },
    {
     "name": "stderr",
     "output_type": "stream",
     "text": [
      "\r",
      " 14%|████████████████▊                                                                                                     | 284/2000 [11:58<1:20:16,  2.81s/it]"
     ]
    },
    {
     "name": "stdout",
     "output_type": "stream",
     "text": [
      "Epoch 283 | Train loss: 0.0306 | Valid loss: 0.5279\n",
      "Train ACC: 0.9928 | valid ACC: 0.8531 | test ACC: 0.7766\n",
      "Train f1: 0.9937 | valid f1: 0.8434 | test f1: 0.7835\n",
      "Train pre: 0.9946 | valid pre: 0.8448 | test pre: 0.8166\n"
     ]
    },
    {
     "name": "stderr",
     "output_type": "stream",
     "text": [
      "\r",
      " 14%|████████████████▊                                                                                                     | 285/2000 [12:01<1:21:06,  2.84s/it]"
     ]
    },
    {
     "name": "stdout",
     "output_type": "stream",
     "text": [
      "Epoch 284 | Train loss: 0.0329 | Valid loss: 0.5298\n",
      "Train ACC: 0.9911 | valid ACC: 0.8520 | test ACC: 0.7760\n",
      "Train f1: 0.9923 | valid f1: 0.8416 | test f1: 0.7803\n",
      "Train pre: 0.9935 | valid pre: 0.8421 | test pre: 0.8102\n"
     ]
    },
    {
     "name": "stderr",
     "output_type": "stream",
     "text": [
      "\r",
      " 14%|████████████████▊                                                                                                     | 286/2000 [12:04<1:21:55,  2.87s/it]"
     ]
    },
    {
     "name": "stdout",
     "output_type": "stream",
     "text": [
      "Epoch 285 | Train loss: 0.0301 | Valid loss: 0.5292\n",
      "Train ACC: 0.9909 | valid ACC: 0.8554 | test ACC: 0.7779\n",
      "Train f1: 0.9925 | valid f1: 0.8448 | test f1: 0.7804\n",
      "Train pre: 0.9943 | valid pre: 0.8449 | test pre: 0.8078\n"
     ]
    },
    {
     "name": "stderr",
     "output_type": "stream",
     "text": [
      "\r",
      " 14%|████████████████▉                                                                                                     | 287/2000 [12:07<1:22:07,  2.88s/it]"
     ]
    },
    {
     "name": "stdout",
     "output_type": "stream",
     "text": [
      "Epoch 286 | Train loss: 0.0233 | Valid loss: 0.5295\n",
      "Train ACC: 0.9921 | valid ACC: 0.8560 | test ACC: 0.7794\n",
      "Train f1: 0.9932 | valid f1: 0.8446 | test f1: 0.7802\n",
      "Train pre: 0.9944 | valid pre: 0.8436 | test pre: 0.8039\n"
     ]
    },
    {
     "name": "stderr",
     "output_type": "stream",
     "text": [
      "\r",
      " 14%|████████████████▉                                                                                                     | 288/2000 [12:10<1:22:19,  2.89s/it]"
     ]
    },
    {
     "name": "stdout",
     "output_type": "stream",
     "text": [
      "Epoch 287 | Train loss: 0.0343 | Valid loss: 0.5197\n",
      "Train ACC: 0.9880 | valid ACC: 0.8523 | test ACC: 0.7792\n",
      "Train f1: 0.9893 | valid f1: 0.8400 | test f1: 0.7819\n",
      "Train pre: 0.9908 | valid pre: 0.8362 | test pre: 0.8035\n"
     ]
    },
    {
     "name": "stderr",
     "output_type": "stream",
     "text": [
      "\r",
      " 14%|█████████████████                                                                                                     | 289/2000 [12:12<1:22:23,  2.89s/it]"
     ]
    },
    {
     "name": "stdout",
     "output_type": "stream",
     "text": [
      "Epoch 288 | Train loss: 0.0263 | Valid loss: 0.5151\n",
      "Train ACC: 0.9955 | valid ACC: 0.8531 | test ACC: 0.7822\n",
      "Train f1: 0.9941 | valid f1: 0.8392 | test f1: 0.7858\n",
      "Train pre: 0.9929 | valid pre: 0.8363 | test pre: 0.8081\n"
     ]
    },
    {
     "name": "stderr",
     "output_type": "stream",
     "text": [
      "\r",
      " 14%|█████████████████                                                                                                     | 290/2000 [12:15<1:22:10,  2.88s/it]"
     ]
    },
    {
     "name": "stdout",
     "output_type": "stream",
     "text": [
      "Epoch 289 | Train loss: 0.0303 | Valid loss: 0.5112\n",
      "Train ACC: 0.9942 | valid ACC: 0.8527 | test ACC: 0.7824\n",
      "Train f1: 0.9930 | valid f1: 0.8388 | test f1: 0.7864\n",
      "Train pre: 0.9919 | valid pre: 0.8359 | test pre: 0.8080\n"
     ]
    },
    {
     "name": "stderr",
     "output_type": "stream",
     "text": [
      "\r",
      " 15%|█████████████████▏                                                                                                    | 291/2000 [12:18<1:21:47,  2.87s/it]"
     ]
    },
    {
     "name": "stdout",
     "output_type": "stream",
     "text": [
      "Epoch 290 | Train loss: 0.0352 | Valid loss: 0.5101\n",
      "Train ACC: 0.9925 | valid ACC: 0.8534 | test ACC: 0.7811\n",
      "Train f1: 0.9803 | valid f1: 0.8412 | test f1: 0.7858\n",
      "Train pre: 0.9719 | valid pre: 0.8375 | test pre: 0.8062\n"
     ]
    },
    {
     "name": "stderr",
     "output_type": "stream",
     "text": [
      "\r",
      " 15%|█████████████████▏                                                                                                    | 292/2000 [12:21<1:22:10,  2.89s/it]"
     ]
    },
    {
     "name": "stdout",
     "output_type": "stream",
     "text": [
      "Epoch 291 | Train loss: 0.0363 | Valid loss: 0.5135\n",
      "Train ACC: 0.9925 | valid ACC: 0.8559 | test ACC: 0.7832\n",
      "Train f1: 0.9914 | valid f1: 0.8447 | test f1: 0.7881\n",
      "Train pre: 0.9903 | valid pre: 0.8441 | test pre: 0.8083\n"
     ]
    },
    {
     "name": "stderr",
     "output_type": "stream",
     "text": [
      "\r",
      " 15%|█████████████████▎                                                                                                    | 293/2000 [12:24<1:22:38,  2.90s/it]"
     ]
    },
    {
     "name": "stdout",
     "output_type": "stream",
     "text": [
      "Epoch 292 | Train loss: 0.0306 | Valid loss: 0.5207\n",
      "Train ACC: 0.9744 | valid ACC: 0.8519 | test ACC: 0.7805\n",
      "Train f1: 0.9804 | valid f1: 0.8428 | test f1: 0.7844\n",
      "Train pre: 0.9900 | valid pre: 0.8486 | test pre: 0.8041\n"
     ]
    },
    {
     "name": "stderr",
     "output_type": "stream",
     "text": [
      "\r",
      " 15%|█████████████████▎                                                                                                    | 294/2000 [12:27<1:22:02,  2.89s/it]"
     ]
    },
    {
     "name": "stdout",
     "output_type": "stream",
     "text": [
      "Epoch 293 | Train loss: 0.0286 | Valid loss: 0.5192\n",
      "Train ACC: 0.9703 | valid ACC: 0.8517 | test ACC: 0.7797\n",
      "Train f1: 0.9794 | valid f1: 0.8422 | test f1: 0.7848\n",
      "Train pre: 0.9924 | valid pre: 0.8475 | test pre: 0.8058\n"
     ]
    },
    {
     "name": "stderr",
     "output_type": "stream",
     "text": [
      "\r",
      " 15%|█████████████████▍                                                                                                    | 295/2000 [12:30<1:20:55,  2.85s/it]"
     ]
    },
    {
     "name": "stdout",
     "output_type": "stream",
     "text": [
      "Epoch 294 | Train loss: 0.0343 | Valid loss: 0.5058\n",
      "Train ACC: 0.9889 | valid ACC: 0.8507 | test ACC: 0.7829\n",
      "Train f1: 0.9908 | valid f1: 0.8402 | test f1: 0.7894\n",
      "Train pre: 0.9929 | valid pre: 0.8400 | test pre: 0.8107\n"
     ]
    },
    {
     "name": "stderr",
     "output_type": "stream",
     "text": [
      "\r",
      " 15%|█████████████████▍                                                                                                    | 296/2000 [12:31<1:10:21,  2.48s/it]"
     ]
    },
    {
     "name": "stdout",
     "output_type": "stream",
     "text": [
      "Epoch 295 | Train loss: 0.0377 | Valid loss: 0.4941\n",
      "Train ACC: 0.9885 | valid ACC: 0.8506 | test ACC: 0.7831\n",
      "Train f1: 0.9713 | valid f1: 0.8375 | test f1: 0.7893\n",
      "Train pre: 0.9633 | valid pre: 0.8351 | test pre: 0.8066\n"
     ]
    },
    {
     "name": "stderr",
     "output_type": "stream",
     "text": [
      "\r",
      " 15%|█████████████████▌                                                                                                    | 297/2000 [12:34<1:13:35,  2.59s/it]"
     ]
    },
    {
     "name": "stdout",
     "output_type": "stream",
     "text": [
      "Epoch 296 | Train loss: 0.0229 | Valid loss: 0.4842\n",
      "Train ACC: 0.9953 | valid ACC: 0.8583 | test ACC: 0.7835\n",
      "Train f1: 0.9948 | valid f1: 0.8469 | test f1: 0.7897\n",
      "Train pre: 0.9942 | valid pre: 0.8474 | test pre: 0.8063\n"
     ]
    },
    {
     "name": "stderr",
     "output_type": "stream",
     "text": [
      "\r",
      " 15%|█████████████████▌                                                                                                    | 298/2000 [12:37<1:16:01,  2.68s/it]"
     ]
    },
    {
     "name": "stdout",
     "output_type": "stream",
     "text": [
      "Epoch 297 | Train loss: 0.0336 | Valid loss: 0.4742\n",
      "Train ACC: 0.9731 | valid ACC: 0.8554 | test ACC: 0.7858\n",
      "Train f1: 0.9681 | valid f1: 0.8460 | test f1: 0.7897\n",
      "Train pre: 0.9705 | valid pre: 0.8531 | test pre: 0.8055\n"
     ]
    },
    {
     "name": "stderr",
     "output_type": "stream",
     "text": [
      "\r",
      " 15%|█████████████████▋                                                                                                    | 299/2000 [12:39<1:08:40,  2.42s/it]"
     ]
    },
    {
     "name": "stdout",
     "output_type": "stream",
     "text": [
      "Epoch 298 | Train loss: 0.0260 | Valid loss: 0.4740\n",
      "Train ACC: 0.9961 | valid ACC: 0.8567 | test ACC: 0.7868\n",
      "Train f1: 0.9957 | valid f1: 0.8484 | test f1: 0.7891\n",
      "Train pre: 0.9954 | valid pre: 0.8563 | test pre: 0.8051\n"
     ]
    },
    {
     "name": "stderr",
     "output_type": "stream",
     "text": [
      "\r",
      " 15%|█████████████████▋                                                                                                    | 300/2000 [12:41<1:10:33,  2.49s/it]"
     ]
    },
    {
     "name": "stdout",
     "output_type": "stream",
     "text": [
      "Epoch 299 | Train loss: 0.0290 | Valid loss: 0.4705\n",
      "Train ACC: 0.9936 | valid ACC: 0.8566 | test ACC: 0.7872\n",
      "Train f1: 0.9947 | valid f1: 0.8483 | test f1: 0.7893\n",
      "Train pre: 0.9959 | valid pre: 0.8563 | test pre: 0.8054\n"
     ]
    },
    {
     "name": "stderr",
     "output_type": "stream",
     "text": [
      "\r",
      " 15%|█████████████████▊                                                                                                    | 301/2000 [12:44<1:13:41,  2.60s/it]"
     ]
    },
    {
     "name": "stdout",
     "output_type": "stream",
     "text": [
      "Epoch 300 | Train loss: 0.0281 | Valid loss: 0.4663\n",
      "Train ACC: 0.9758 | valid ACC: 0.8584 | test ACC: 0.7852\n",
      "Train f1: 0.9821 | valid f1: 0.8500 | test f1: 0.7881\n",
      "Train pre: 0.9923 | valid pre: 0.8580 | test pre: 0.8046\n"
     ]
    },
    {
     "name": "stderr",
     "output_type": "stream",
     "text": [
      "\r",
      " 15%|█████████████████▊                                                                                                    | 302/2000 [12:47<1:16:07,  2.69s/it]"
     ]
    },
    {
     "name": "stdout",
     "output_type": "stream",
     "text": [
      "Epoch 301 | Train loss: 0.0263 | Valid loss: 0.4621\n",
      "Train ACC: 0.9929 | valid ACC: 0.8584 | test ACC: 0.7843\n",
      "Train f1: 0.9831 | valid f1: 0.8492 | test f1: 0.7894\n",
      "Train pre: 0.9771 | valid pre: 0.8567 | test pre: 0.8091\n"
     ]
    },
    {
     "name": "stderr",
     "output_type": "stream",
     "text": [
      "\r",
      " 15%|█████████████████▉                                                                                                    | 303/2000 [12:50<1:16:58,  2.72s/it]"
     ]
    },
    {
     "name": "stdout",
     "output_type": "stream",
     "text": [
      "Epoch 302 | Train loss: 0.0304 | Valid loss: 0.4589\n",
      "Train ACC: 0.9954 | valid ACC: 0.8573 | test ACC: 0.7838\n",
      "Train f1: 0.9956 | valid f1: 0.8481 | test f1: 0.7906\n",
      "Train pre: 0.9959 | valid pre: 0.8561 | test pre: 0.8124\n"
     ]
    },
    {
     "name": "stderr",
     "output_type": "stream",
     "text": [
      "\r",
      " 15%|█████████████████▉                                                                                                    | 304/2000 [12:53<1:18:47,  2.79s/it]"
     ]
    },
    {
     "name": "stdout",
     "output_type": "stream",
     "text": [
      "Epoch 303 | Train loss: 0.0297 | Valid loss: 0.4619\n",
      "Train ACC: 0.9956 | valid ACC: 0.8573 | test ACC: 0.7824\n",
      "Train f1: 0.9954 | valid f1: 0.8479 | test f1: 0.7894\n",
      "Train pre: 0.9951 | valid pre: 0.8560 | test pre: 0.8146\n"
     ]
    },
    {
     "name": "stderr",
     "output_type": "stream",
     "text": [
      "\r",
      " 15%|█████████████████▉                                                                                                    | 305/2000 [12:56<1:19:15,  2.81s/it]"
     ]
    },
    {
     "name": "stdout",
     "output_type": "stream",
     "text": [
      "Epoch 304 | Train loss: 0.0303 | Valid loss: 0.4722\n",
      "Train ACC: 0.9931 | valid ACC: 0.8611 | test ACC: 0.7841\n",
      "Train f1: 0.9923 | valid f1: 0.8515 | test f1: 0.7887\n",
      "Train pre: 0.9917 | valid pre: 0.8589 | test pre: 0.8158\n"
     ]
    },
    {
     "name": "stderr",
     "output_type": "stream",
     "text": [
      "\r",
      " 15%|██████████████████                                                                                                    | 306/2000 [12:59<1:19:29,  2.82s/it]"
     ]
    },
    {
     "name": "stdout",
     "output_type": "stream",
     "text": [
      "Epoch 305 | Train loss: 0.0274 | Valid loss: 0.4903\n",
      "Train ACC: 0.9940 | valid ACC: 0.8660 | test ACC: 0.7876\n",
      "Train f1: 0.9951 | valid f1: 0.8563 | test f1: 0.7887\n",
      "Train pre: 0.9961 | valid pre: 0.8723 | test pre: 0.8175\n"
     ]
    },
    {
     "name": "stderr",
     "output_type": "stream",
     "text": [
      "\r",
      " 15%|██████████████████                                                                                                    | 307/2000 [13:02<1:20:35,  2.86s/it]"
     ]
    },
    {
     "name": "stdout",
     "output_type": "stream",
     "text": [
      "Epoch 306 | Train loss: 0.0280 | Valid loss: 0.5044\n",
      "Train ACC: 0.9954 | valid ACC: 0.8583 | test ACC: 0.7883\n",
      "Train f1: 0.9952 | valid f1: 0.8457 | test f1: 0.7879\n",
      "Train pre: 0.9951 | valid pre: 0.8479 | test pre: 0.8212\n"
     ]
    },
    {
     "name": "stderr",
     "output_type": "stream",
     "text": [
      "\r",
      " 15%|██████████████████▏                                                                                                   | 308/2000 [13:04<1:21:04,  2.88s/it]"
     ]
    },
    {
     "name": "stdout",
     "output_type": "stream",
     "text": [
      "Epoch 307 | Train loss: 0.0268 | Valid loss: 0.5131\n",
      "Train ACC: 0.9932 | valid ACC: 0.8571 | test ACC: 0.7872\n",
      "Train f1: 0.9940 | valid f1: 0.8434 | test f1: 0.7862\n",
      "Train pre: 0.9948 | valid pre: 0.8446 | test pre: 0.8195\n"
     ]
    },
    {
     "name": "stderr",
     "output_type": "stream",
     "text": [
      "\r",
      " 15%|██████████████████▏                                                                                                   | 309/2000 [13:07<1:20:48,  2.87s/it]"
     ]
    },
    {
     "name": "stdout",
     "output_type": "stream",
     "text": [
      "Epoch 308 | Train loss: 0.0361 | Valid loss: 0.5079\n",
      "Train ACC: 0.9721 | valid ACC: 0.8583 | test ACC: 0.7834\n",
      "Train f1: 0.9725 | valid f1: 0.8432 | test f1: 0.7844\n",
      "Train pre: 0.9787 | valid pre: 0.8436 | test pre: 0.8174\n"
     ]
    },
    {
     "name": "stderr",
     "output_type": "stream",
     "text": [
      "\r",
      " 16%|██████████████████▎                                                                                                   | 310/2000 [13:10<1:19:45,  2.83s/it]"
     ]
    },
    {
     "name": "stdout",
     "output_type": "stream",
     "text": [
      "Epoch 309 | Train loss: 0.0228 | Valid loss: 0.5089\n",
      "Train ACC: 0.9954 | valid ACC: 0.8577 | test ACC: 0.7801\n",
      "Train f1: 0.9960 | valid f1: 0.8424 | test f1: 0.7834\n",
      "Train pre: 0.9967 | valid pre: 0.8426 | test pre: 0.8151\n"
     ]
    },
    {
     "name": "stderr",
     "output_type": "stream",
     "text": [
      "\r",
      " 16%|██████████████████▎                                                                                                   | 311/2000 [13:12<1:09:40,  2.48s/it]"
     ]
    },
    {
     "name": "stdout",
     "output_type": "stream",
     "text": [
      "Epoch 310 | Train loss: 0.0313 | Valid loss: 0.5079\n",
      "Train ACC: 0.9926 | valid ACC: 0.8577 | test ACC: 0.7791\n",
      "Train f1: 0.9922 | valid f1: 0.8427 | test f1: 0.7850\n",
      "Train pre: 0.9919 | valid pre: 0.8435 | test pre: 0.8134\n"
     ]
    },
    {
     "name": "stderr",
     "output_type": "stream",
     "text": [
      "\r",
      " 16%|██████████████████▍                                                                                                   | 312/2000 [13:15<1:12:47,  2.59s/it]"
     ]
    },
    {
     "name": "stdout",
     "output_type": "stream",
     "text": [
      "Epoch 311 | Train loss: 0.0303 | Valid loss: 0.5141\n",
      "Train ACC: 0.9940 | valid ACC: 0.8595 | test ACC: 0.7749\n",
      "Train f1: 0.9937 | valid f1: 0.8457 | test f1: 0.7815\n",
      "Train pre: 0.9935 | valid pre: 0.8430 | test pre: 0.8093\n"
     ]
    },
    {
     "name": "stderr",
     "output_type": "stream",
     "text": [
      "\r",
      " 16%|██████████████████▍                                                                                                   | 313/2000 [13:17<1:11:20,  2.54s/it]"
     ]
    },
    {
     "name": "stdout",
     "output_type": "stream",
     "text": [
      "Epoch 312 | Train loss: 0.0225 | Valid loss: 0.5186\n",
      "Train ACC: 0.9930 | valid ACC: 0.8554 | test ACC: 0.7748\n",
      "Train f1: 0.9935 | valid f1: 0.8445 | test f1: 0.7810\n",
      "Train pre: 0.9940 | valid pre: 0.8591 | test pre: 0.8104\n"
     ]
    },
    {
     "name": "stderr",
     "output_type": "stream",
     "text": [
      "\r",
      " 16%|██████████████████▌                                                                                                   | 314/2000 [13:19<1:06:50,  2.38s/it]"
     ]
    },
    {
     "name": "stdout",
     "output_type": "stream",
     "text": [
      "Epoch 313 | Train loss: 0.0264 | Valid loss: 0.5193\n",
      "Train ACC: 0.9959 | valid ACC: 0.8535 | test ACC: 0.7733\n",
      "Train f1: 0.9948 | valid f1: 0.8444 | test f1: 0.7785\n",
      "Train pre: 0.9939 | valid pre: 0.8608 | test pre: 0.8072\n"
     ]
    },
    {
     "name": "stderr",
     "output_type": "stream",
     "text": [
      "\r",
      " 16%|██████████████████▌                                                                                                   | 315/2000 [13:22<1:11:25,  2.54s/it]"
     ]
    },
    {
     "name": "stdout",
     "output_type": "stream",
     "text": [
      "Epoch 314 | Train loss: 0.0334 | Valid loss: 0.5128\n",
      "Train ACC: 0.9911 | valid ACC: 0.8529 | test ACC: 0.7704\n",
      "Train f1: 0.9914 | valid f1: 0.8372 | test f1: 0.7751\n",
      "Train pre: 0.9917 | valid pre: 0.8795 | test pre: 0.8031\n"
     ]
    },
    {
     "name": "stderr",
     "output_type": "stream",
     "text": [
      "\r",
      " 16%|██████████████████▋                                                                                                   | 316/2000 [13:25<1:14:49,  2.67s/it]"
     ]
    },
    {
     "name": "stdout",
     "output_type": "stream",
     "text": [
      "Epoch 315 | Train loss: 0.0329 | Valid loss: 0.5092\n",
      "Train ACC: 0.9896 | valid ACC: 0.8521 | test ACC: 0.7677\n",
      "Train f1: 0.9898 | valid f1: 0.8356 | test f1: 0.7727\n",
      "Train pre: 0.9900 | valid pre: 0.8447 | test pre: 0.7983\n"
     ]
    },
    {
     "name": "stderr",
     "output_type": "stream",
     "text": [
      "\r",
      " 16%|██████████████████▋                                                                                                   | 317/2000 [13:26<1:05:32,  2.34s/it]"
     ]
    },
    {
     "name": "stdout",
     "output_type": "stream",
     "text": [
      "Epoch 316 | Train loss: 0.0210 | Valid loss: 0.5064\n",
      "Train ACC: 0.9951 | valid ACC: 0.8535 | test ACC: 0.7678\n",
      "Train f1: 0.9951 | valid f1: 0.8421 | test f1: 0.7734\n",
      "Train pre: 0.9951 | valid pre: 0.8554 | test pre: 0.7999\n"
     ]
    },
    {
     "name": "stderr",
     "output_type": "stream",
     "text": [
      "\r",
      " 16%|██████████████████▊                                                                                                   | 318/2000 [13:29<1:09:30,  2.48s/it]"
     ]
    },
    {
     "name": "stdout",
     "output_type": "stream",
     "text": [
      "Epoch 317 | Train loss: 0.0306 | Valid loss: 0.5031\n",
      "Train ACC: 0.9942 | valid ACC: 0.8507 | test ACC: 0.7653\n",
      "Train f1: 0.9939 | valid f1: 0.8388 | test f1: 0.7719\n",
      "Train pre: 0.9937 | valid pre: 0.8518 | test pre: 0.7978\n"
     ]
    },
    {
     "name": "stderr",
     "output_type": "stream",
     "text": [
      "\r",
      " 16%|██████████████████▊                                                                                                   | 319/2000 [13:32<1:13:02,  2.61s/it]"
     ]
    },
    {
     "name": "stdout",
     "output_type": "stream",
     "text": [
      "Epoch 318 | Train loss: 0.0288 | Valid loss: 0.5055\n",
      "Train ACC: 0.9733 | valid ACC: 0.8523 | test ACC: 0.7654\n",
      "Train f1: 0.9819 | valid f1: 0.8415 | test f1: 0.7717\n",
      "Train pre: 0.9943 | valid pre: 0.8882 | test pre: 0.7959\n"
     ]
    },
    {
     "name": "stderr",
     "output_type": "stream",
     "text": [
      "\r",
      " 16%|██████████████████▉                                                                                                   | 320/2000 [13:35<1:15:02,  2.68s/it]"
     ]
    },
    {
     "name": "stdout",
     "output_type": "stream",
     "text": [
      "Epoch 319 | Train loss: 0.0282 | Valid loss: 0.5116\n",
      "Train ACC: 0.9903 | valid ACC: 0.8509 | test ACC: 0.7648\n",
      "Train f1: 0.9921 | valid f1: 0.8405 | test f1: 0.7714\n",
      "Train pre: 0.9941 | valid pre: 0.8877 | test pre: 0.7958\n"
     ]
    },
    {
     "name": "stderr",
     "output_type": "stream",
     "text": [
      "\r",
      " 16%|██████████████████▉                                                                                                   | 321/2000 [13:38<1:15:24,  2.69s/it]"
     ]
    },
    {
     "name": "stdout",
     "output_type": "stream",
     "text": [
      "Epoch 320 | Train loss: 0.0226 | Valid loss: 0.5190\n",
      "Train ACC: 0.9956 | valid ACC: 0.8509 | test ACC: 0.7659\n",
      "Train f1: 0.9956 | valid f1: 0.8402 | test f1: 0.7717\n",
      "Train pre: 0.9956 | valid pre: 0.8549 | test pre: 0.7951\n"
     ]
    },
    {
     "name": "stderr",
     "output_type": "stream",
     "text": [
      "\r",
      " 16%|██████████████████▉                                                                                                   | 322/2000 [13:39<1:06:43,  2.39s/it]"
     ]
    },
    {
     "name": "stdout",
     "output_type": "stream",
     "text": [
      "Epoch 321 | Train loss: 0.0261 | Valid loss: 0.5269\n",
      "Train ACC: 0.9928 | valid ACC: 0.8500 | test ACC: 0.7662\n",
      "Train f1: 0.9932 | valid f1: 0.8402 | test f1: 0.7720\n",
      "Train pre: 0.9937 | valid pre: 0.8559 | test pre: 0.7943\n"
     ]
    },
    {
     "name": "stderr",
     "output_type": "stream",
     "text": [
      "\r",
      " 16%|███████████████████                                                                                                   | 323/2000 [13:42<1:10:16,  2.51s/it]"
     ]
    },
    {
     "name": "stdout",
     "output_type": "stream",
     "text": [
      "Epoch 322 | Train loss: 0.0241 | Valid loss: 0.5357\n",
      "Train ACC: 0.9943 | valid ACC: 0.8515 | test ACC: 0.7681\n",
      "Train f1: 0.9948 | valid f1: 0.8414 | test f1: 0.7747\n",
      "Train pre: 0.9953 | valid pre: 0.8463 | test pre: 0.7976\n"
     ]
    },
    {
     "name": "stderr",
     "output_type": "stream",
     "text": [
      "\r",
      " 16%|███████████████████                                                                                                   | 324/2000 [13:45<1:12:41,  2.60s/it]"
     ]
    },
    {
     "name": "stdout",
     "output_type": "stream",
     "text": [
      "Epoch 323 | Train loss: 0.0265 | Valid loss: 0.5382\n",
      "Train ACC: 0.9934 | valid ACC: 0.8538 | test ACC: 0.7690\n",
      "Train f1: 0.9827 | valid f1: 0.8442 | test f1: 0.7757\n",
      "Train pre: 0.9757 | valid pre: 0.8595 | test pre: 0.7967\n"
     ]
    },
    {
     "name": "stderr",
     "output_type": "stream",
     "text": [
      "\r",
      " 16%|███████████████████▏                                                                                                  | 325/2000 [13:48<1:15:09,  2.69s/it]"
     ]
    },
    {
     "name": "stdout",
     "output_type": "stream",
     "text": [
      "Epoch 324 | Train loss: 0.0276 | Valid loss: 0.5311\n",
      "Train ACC: 0.9920 | valid ACC: 0.8534 | test ACC: 0.7734\n",
      "Train f1: 0.9938 | valid f1: 0.8429 | test f1: 0.7807\n",
      "Train pre: 0.9956 | valid pre: 0.8475 | test pre: 0.8002\n"
     ]
    },
    {
     "name": "stderr",
     "output_type": "stream",
     "text": [
      "\r",
      " 16%|███████████████████▏                                                                                                  | 326/2000 [13:51<1:15:05,  2.69s/it]"
     ]
    },
    {
     "name": "stdout",
     "output_type": "stream",
     "text": [
      "Epoch 325 | Train loss: 0.0222 | Valid loss: 0.5280\n",
      "Train ACC: 0.9952 | valid ACC: 0.8558 | test ACC: 0.7757\n",
      "Train f1: 0.9950 | valid f1: 0.8449 | test f1: 0.7833\n",
      "Train pre: 0.9948 | valid pre: 0.8491 | test pre: 0.8037\n"
     ]
    },
    {
     "name": "stderr",
     "output_type": "stream",
     "text": [
      "\r",
      " 16%|███████████████████▎                                                                                                  | 327/2000 [13:52<1:06:21,  2.38s/it]"
     ]
    },
    {
     "name": "stdout",
     "output_type": "stream",
     "text": [
      "Epoch 326 | Train loss: 0.0244 | Valid loss: 0.5256\n",
      "Train ACC: 0.9959 | valid ACC: 0.8533 | test ACC: 0.7773\n",
      "Train f1: 0.9945 | valid f1: 0.8421 | test f1: 0.7847\n",
      "Train pre: 0.9931 | valid pre: 0.8463 | test pre: 0.8055\n"
     ]
    },
    {
     "name": "stderr",
     "output_type": "stream",
     "text": [
      "\r",
      " 16%|███████████████████▎                                                                                                  | 328/2000 [13:55<1:10:05,  2.52s/it]"
     ]
    },
    {
     "name": "stdout",
     "output_type": "stream",
     "text": [
      "Epoch 327 | Train loss: 0.0257 | Valid loss: 0.5272\n",
      "Train ACC: 0.9949 | valid ACC: 0.8533 | test ACC: 0.7799\n",
      "Train f1: 0.9949 | valid f1: 0.8421 | test f1: 0.7862\n",
      "Train pre: 0.9948 | valid pre: 0.8463 | test pre: 0.8069\n"
     ]
    },
    {
     "name": "stderr",
     "output_type": "stream",
     "text": [
      "\r",
      " 16%|███████████████████▍                                                                                                  | 329/2000 [13:58<1:13:40,  2.65s/it]"
     ]
    },
    {
     "name": "stdout",
     "output_type": "stream",
     "text": [
      "Epoch 328 | Train loss: 0.0229 | Valid loss: 0.5270\n",
      "Train ACC: 0.9947 | valid ACC: 0.8536 | test ACC: 0.7833\n",
      "Train f1: 0.9945 | valid f1: 0.8424 | test f1: 0.7895\n",
      "Train pre: 0.9942 | valid pre: 0.8465 | test pre: 0.8103\n"
     ]
    },
    {
     "name": "stderr",
     "output_type": "stream",
     "text": [
      "\r",
      " 16%|███████████████████▍                                                                                                  | 330/2000 [14:01<1:15:53,  2.73s/it]"
     ]
    },
    {
     "name": "stdout",
     "output_type": "stream",
     "text": [
      "Epoch 329 | Train loss: 0.0234 | Valid loss: 0.5277\n",
      "Train ACC: 0.9937 | valid ACC: 0.8525 | test ACC: 0.7839\n",
      "Train f1: 0.9939 | valid f1: 0.8414 | test f1: 0.7896\n",
      "Train pre: 0.9941 | valid pre: 0.8457 | test pre: 0.8114\n"
     ]
    },
    {
     "name": "stderr",
     "output_type": "stream",
     "text": [
      "\r",
      " 17%|███████████████████▌                                                                                                  | 331/2000 [14:04<1:17:14,  2.78s/it]"
     ]
    },
    {
     "name": "stdout",
     "output_type": "stream",
     "text": [
      "Epoch 330 | Train loss: 0.0205 | Valid loss: 0.5294\n",
      "Train ACC: 0.9959 | valid ACC: 0.8553 | test ACC: 0.7832\n",
      "Train f1: 0.9954 | valid f1: 0.8435 | test f1: 0.7880\n",
      "Train pre: 0.9948 | valid pre: 0.8472 | test pre: 0.8105\n"
     ]
    },
    {
     "name": "stderr",
     "output_type": "stream",
     "text": [
      "\r",
      " 17%|███████████████████▌                                                                                                  | 332/2000 [14:06<1:11:01,  2.55s/it]"
     ]
    },
    {
     "name": "stdout",
     "output_type": "stream",
     "text": [
      "Epoch 331 | Train loss: 0.0172 | Valid loss: 0.5311\n",
      "Train ACC: 0.9954 | valid ACC: 0.8556 | test ACC: 0.7837\n",
      "Train f1: 0.9953 | valid f1: 0.8442 | test f1: 0.7884\n",
      "Train pre: 0.9953 | valid pre: 0.8482 | test pre: 0.8129\n"
     ]
    },
    {
     "name": "stderr",
     "output_type": "stream",
     "text": [
      "\r",
      " 17%|███████████████████▋                                                                                                  | 333/2000 [14:08<1:10:08,  2.52s/it]"
     ]
    },
    {
     "name": "stdout",
     "output_type": "stream",
     "text": [
      "Epoch 332 | Train loss: 0.0273 | Valid loss: 0.5311\n",
      "Train ACC: 0.9938 | valid ACC: 0.8536 | test ACC: 0.7834\n",
      "Train f1: 0.9941 | valid f1: 0.8425 | test f1: 0.7888\n",
      "Train pre: 0.9944 | valid pre: 0.8463 | test pre: 0.8131\n"
     ]
    },
    {
     "name": "stderr",
     "output_type": "stream",
     "text": [
      "\r",
      " 17%|███████████████████▋                                                                                                  | 334/2000 [14:11<1:13:21,  2.64s/it]"
     ]
    },
    {
     "name": "stdout",
     "output_type": "stream",
     "text": [
      "Epoch 333 | Train loss: 0.0256 | Valid loss: 0.5306\n",
      "Train ACC: 0.9942 | valid ACC: 0.8537 | test ACC: 0.7819\n",
      "Train f1: 0.9955 | valid f1: 0.8417 | test f1: 0.7872\n",
      "Train pre: 0.9969 | valid pre: 0.8400 | test pre: 0.8108\n"
     ]
    },
    {
     "name": "stderr",
     "output_type": "stream",
     "text": [
      "\r",
      " 17%|███████████████████▊                                                                                                  | 335/2000 [14:14<1:15:24,  2.72s/it]"
     ]
    },
    {
     "name": "stdout",
     "output_type": "stream",
     "text": [
      "Epoch 334 | Train loss: 0.0280 | Valid loss: 0.5269\n",
      "Train ACC: 0.9941 | valid ACC: 0.8536 | test ACC: 0.7825\n",
      "Train f1: 0.9936 | valid f1: 0.8416 | test f1: 0.7879\n",
      "Train pre: 0.9930 | valid pre: 0.8398 | test pre: 0.8114\n"
     ]
    },
    {
     "name": "stderr",
     "output_type": "stream",
     "text": [
      "\r",
      " 17%|███████████████████▊                                                                                                  | 336/2000 [14:17<1:16:57,  2.78s/it]"
     ]
    },
    {
     "name": "stdout",
     "output_type": "stream",
     "text": [
      "Epoch 335 | Train loss: 0.0216 | Valid loss: 0.5245\n",
      "Train ACC: 0.9954 | valid ACC: 0.8537 | test ACC: 0.7816\n",
      "Train f1: 0.9955 | valid f1: 0.8419 | test f1: 0.7869\n",
      "Train pre: 0.9957 | valid pre: 0.8404 | test pre: 0.8099\n"
     ]
    },
    {
     "name": "stderr",
     "output_type": "stream",
     "text": [
      "\r",
      " 17%|███████████████████▉                                                                                                  | 337/2000 [14:20<1:18:02,  2.82s/it]"
     ]
    },
    {
     "name": "stdout",
     "output_type": "stream",
     "text": [
      "Epoch 336 | Train loss: 0.0276 | Valid loss: 0.5221\n",
      "Train ACC: 0.9749 | valid ACC: 0.8511 | test ACC: 0.7830\n",
      "Train f1: 0.9822 | valid f1: 0.8401 | test f1: 0.7882\n",
      "Train pre: 0.9932 | valid pre: 0.8370 | test pre: 0.8112\n"
     ]
    },
    {
     "name": "stderr",
     "output_type": "stream",
     "text": [
      "\r",
      " 17%|███████████████████▉                                                                                                  | 338/2000 [14:23<1:18:30,  2.83s/it]"
     ]
    },
    {
     "name": "stdout",
     "output_type": "stream",
     "text": [
      "Epoch 337 | Train loss: 0.0288 | Valid loss: 0.5234\n",
      "Train ACC: 0.9933 | valid ACC: 0.8465 | test ACC: 0.7839\n",
      "Train f1: 0.9928 | valid f1: 0.8374 | test f1: 0.7883\n",
      "Train pre: 0.9923 | valid pre: 0.8367 | test pre: 0.8114\n"
     ]
    },
    {
     "name": "stderr",
     "output_type": "stream",
     "text": [
      "\r",
      " 17%|████████████████████                                                                                                  | 339/2000 [14:26<1:18:31,  2.84s/it]"
     ]
    },
    {
     "name": "stdout",
     "output_type": "stream",
     "text": [
      "Epoch 338 | Train loss: 0.0260 | Valid loss: 0.5210\n",
      "Train ACC: 0.9724 | valid ACC: 0.8474 | test ACC: 0.7830\n",
      "Train f1: 0.9779 | valid f1: 0.8385 | test f1: 0.7872\n",
      "Train pre: 0.9872 | valid pre: 0.8403 | test pre: 0.8104\n"
     ]
    },
    {
     "name": "stderr",
     "output_type": "stream",
     "text": [
      "\r",
      " 17%|████████████████████                                                                                                  | 340/2000 [14:29<1:19:36,  2.88s/it]"
     ]
    },
    {
     "name": "stdout",
     "output_type": "stream",
     "text": [
      "Epoch 339 | Train loss: 0.0252 | Valid loss: 0.5167\n",
      "Train ACC: 0.9946 | valid ACC: 0.8480 | test ACC: 0.7801\n",
      "Train f1: 0.9943 | valid f1: 0.8386 | test f1: 0.7848\n",
      "Train pre: 0.9940 | valid pre: 0.8400 | test pre: 0.8089\n"
     ]
    },
    {
     "name": "stderr",
     "output_type": "stream",
     "text": [
      "\r",
      " 17%|████████████████████                                                                                                  | 341/2000 [14:32<1:19:23,  2.87s/it]"
     ]
    },
    {
     "name": "stdout",
     "output_type": "stream",
     "text": [
      "Epoch 340 | Train loss: 0.0347 | Valid loss: 0.5090\n",
      "Train ACC: 0.9871 | valid ACC: 0.8468 | test ACC: 0.7778\n",
      "Train f1: 0.9884 | valid f1: 0.8365 | test f1: 0.7835\n",
      "Train pre: 0.9898 | valid pre: 0.8374 | test pre: 0.8084\n"
     ]
    },
    {
     "name": "stderr",
     "output_type": "stream",
     "text": [
      "\r",
      " 17%|████████████████████▏                                                                                                 | 342/2000 [14:33<1:09:15,  2.51s/it]"
     ]
    },
    {
     "name": "stdout",
     "output_type": "stream",
     "text": [
      "Epoch 341 | Train loss: 0.0213 | Valid loss: 0.5050\n",
      "Train ACC: 0.9938 | valid ACC: 0.8438 | test ACC: 0.7753\n",
      "Train f1: 0.9945 | valid f1: 0.8327 | test f1: 0.7810\n",
      "Train pre: 0.9952 | valid pre: 0.8330 | test pre: 0.8043\n"
     ]
    },
    {
     "name": "stderr",
     "output_type": "stream",
     "text": [
      "\r",
      " 17%|████████████████████▏                                                                                                 | 343/2000 [14:36<1:09:54,  2.53s/it]"
     ]
    },
    {
     "name": "stdout",
     "output_type": "stream",
     "text": [
      "Epoch 342 | Train loss: 0.0312 | Valid loss: 0.5005\n",
      "Train ACC: 0.9743 | valid ACC: 0.8530 | test ACC: 0.7761\n",
      "Train f1: 0.9813 | valid f1: 0.8404 | test f1: 0.7810\n",
      "Train pre: 0.9922 | valid pre: 0.8391 | test pre: 0.8034\n"
     ]
    },
    {
     "name": "stderr",
     "output_type": "stream",
     "text": [
      "\r",
      " 17%|████████████████████▎                                                                                                 | 344/2000 [14:38<1:04:34,  2.34s/it]"
     ]
    },
    {
     "name": "stdout",
     "output_type": "stream",
     "text": [
      "Epoch 343 | Train loss: 0.0275 | Valid loss: 0.5016\n",
      "Train ACC: 0.9900 | valid ACC: 0.8551 | test ACC: 0.7724\n",
      "Train f1: 0.9915 | valid f1: 0.8426 | test f1: 0.7748\n",
      "Train pre: 0.9931 | valid pre: 0.8411 | test pre: 0.7938\n"
     ]
    },
    {
     "name": "stderr",
     "output_type": "stream",
     "text": [
      "\r",
      " 17%|████████████████████▎                                                                                                 | 345/2000 [14:41<1:09:33,  2.52s/it]"
     ]
    },
    {
     "name": "stdout",
     "output_type": "stream",
     "text": [
      "Epoch 344 | Train loss: 0.0234 | Valid loss: 0.5081\n",
      "Train ACC: 0.9934 | valid ACC: 0.8560 | test ACC: 0.7732\n",
      "Train f1: 0.9932 | valid f1: 0.8433 | test f1: 0.7738\n",
      "Train pre: 0.9931 | valid pre: 0.8409 | test pre: 0.7926\n"
     ]
    },
    {
     "name": "stderr",
     "output_type": "stream",
     "text": [
      "\r",
      " 17%|████████████████████▍                                                                                                 | 346/2000 [14:44<1:12:32,  2.63s/it]"
     ]
    },
    {
     "name": "stdout",
     "output_type": "stream",
     "text": [
      "Epoch 345 | Train loss: 0.0258 | Valid loss: 0.5156\n",
      "Train ACC: 0.9952 | valid ACC: 0.8568 | test ACC: 0.7744\n",
      "Train f1: 0.9934 | valid f1: 0.8444 | test f1: 0.7754\n",
      "Train pre: 0.9916 | valid pre: 0.8420 | test pre: 0.7967\n"
     ]
    },
    {
     "name": "stderr",
     "output_type": "stream",
     "text": [
      "\r",
      " 17%|████████████████████▍                                                                                                 | 347/2000 [14:46<1:14:58,  2.72s/it]"
     ]
    },
    {
     "name": "stdout",
     "output_type": "stream",
     "text": [
      "Epoch 346 | Train loss: 0.0313 | Valid loss: 0.5146\n",
      "Train ACC: 0.9924 | valid ACC: 0.8577 | test ACC: 0.7760\n",
      "Train f1: 0.9939 | valid f1: 0.8457 | test f1: 0.7778\n",
      "Train pre: 0.9955 | valid pre: 0.8484 | test pre: 0.7997\n"
     ]
    },
    {
     "name": "stderr",
     "output_type": "stream",
     "text": [
      "\r",
      " 17%|████████████████████▌                                                                                                 | 348/2000 [14:49<1:16:30,  2.78s/it]"
     ]
    },
    {
     "name": "stdout",
     "output_type": "stream",
     "text": [
      "Epoch 347 | Train loss: 0.0207 | Valid loss: 0.5168\n",
      "Train ACC: 0.9961 | valid ACC: 0.8559 | test ACC: 0.7752\n",
      "Train f1: 0.9954 | valid f1: 0.8436 | test f1: 0.7786\n",
      "Train pre: 0.9947 | valid pre: 0.8464 | test pre: 0.8033\n"
     ]
    },
    {
     "name": "stderr",
     "output_type": "stream",
     "text": [
      "\r",
      " 17%|████████████████████▌                                                                                                 | 349/2000 [14:52<1:19:00,  2.87s/it]"
     ]
    },
    {
     "name": "stdout",
     "output_type": "stream",
     "text": [
      "Epoch 348 | Train loss: 0.0238 | Valid loss: 0.5118\n",
      "Train ACC: 0.9910 | valid ACC: 0.8559 | test ACC: 0.7731\n",
      "Train f1: 0.9922 | valid f1: 0.8434 | test f1: 0.7765\n",
      "Train pre: 0.9935 | valid pre: 0.8461 | test pre: 0.7979\n"
     ]
    },
    {
     "name": "stderr",
     "output_type": "stream",
     "text": [
      "\r",
      " 18%|████████████████████▋                                                                                                 | 350/2000 [14:55<1:19:50,  2.90s/it]"
     ]
    },
    {
     "name": "stdout",
     "output_type": "stream",
     "text": [
      "Epoch 349 | Train loss: 0.0245 | Valid loss: 0.5083\n",
      "Train ACC: 0.9925 | valid ACC: 0.8579 | test ACC: 0.7741\n",
      "Train f1: 0.9943 | valid f1: 0.8453 | test f1: 0.7777\n",
      "Train pre: 0.9962 | valid pre: 0.8476 | test pre: 0.7985\n"
     ]
    },
    {
     "name": "stderr",
     "output_type": "stream",
     "text": [
      "\r",
      " 18%|████████████████████▋                                                                                                 | 351/2000 [14:58<1:19:46,  2.90s/it]"
     ]
    },
    {
     "name": "stdout",
     "output_type": "stream",
     "text": [
      "Epoch 350 | Train loss: 0.0184 | Valid loss: 0.5095\n",
      "Train ACC: 0.9923 | valid ACC: 0.8572 | test ACC: 0.7741\n",
      "Train f1: 0.9929 | valid f1: 0.8445 | test f1: 0.7770\n",
      "Train pre: 0.9937 | valid pre: 0.8466 | test pre: 0.7981\n"
     ]
    },
    {
     "name": "stderr",
     "output_type": "stream",
     "text": [
      "\r",
      " 18%|████████████████████▊                                                                                                 | 352/2000 [15:00<1:11:06,  2.59s/it]"
     ]
    },
    {
     "name": "stdout",
     "output_type": "stream",
     "text": [
      "Epoch 351 | Train loss: 0.0202 | Valid loss: 0.5155\n",
      "Train ACC: 0.9956 | valid ACC: 0.8541 | test ACC: 0.7758\n",
      "Train f1: 0.9944 | valid f1: 0.8425 | test f1: 0.7784\n",
      "Train pre: 0.9932 | valid pre: 0.8455 | test pre: 0.8008\n"
     ]
    },
    {
     "name": "stderr",
     "output_type": "stream",
     "text": [
      "\r",
      " 18%|████████████████████▊                                                                                                 | 353/2000 [15:03<1:12:07,  2.63s/it]"
     ]
    },
    {
     "name": "stdout",
     "output_type": "stream",
     "text": [
      "Epoch 352 | Train loss: 0.0245 | Valid loss: 0.5261\n",
      "Train ACC: 0.9929 | valid ACC: 0.8535 | test ACC: 0.7768\n",
      "Train f1: 0.9937 | valid f1: 0.8419 | test f1: 0.7790\n",
      "Train pre: 0.9945 | valid pre: 0.8449 | test pre: 0.8022\n"
     ]
    },
    {
     "name": "stderr",
     "output_type": "stream",
     "text": [
      "\r",
      " 18%|████████████████████▉                                                                                                 | 354/2000 [15:06<1:14:24,  2.71s/it]"
     ]
    },
    {
     "name": "stdout",
     "output_type": "stream",
     "text": [
      "Epoch 353 | Train loss: 0.0269 | Valid loss: 0.5348\n",
      "Train ACC: 0.9901 | valid ACC: 0.8541 | test ACC: 0.7765\n",
      "Train f1: 0.9915 | valid f1: 0.8428 | test f1: 0.7779\n",
      "Train pre: 0.9930 | valid pre: 0.8460 | test pre: 0.7998\n"
     ]
    },
    {
     "name": "stderr",
     "output_type": "stream",
     "text": [
      "\r",
      " 18%|████████████████████▉                                                                                                 | 355/2000 [15:09<1:14:44,  2.73s/it]"
     ]
    },
    {
     "name": "stdout",
     "output_type": "stream",
     "text": [
      "Epoch 354 | Train loss: 0.0251 | Valid loss: 0.5405\n",
      "Train ACC: 0.9918 | valid ACC: 0.8536 | test ACC: 0.7764\n",
      "Train f1: 0.9924 | valid f1: 0.8428 | test f1: 0.7788\n",
      "Train pre: 0.9931 | valid pre: 0.8465 | test pre: 0.7993\n"
     ]
    },
    {
     "name": "stderr",
     "output_type": "stream",
     "text": [
      "\r",
      " 18%|█████████████████████                                                                                                 | 356/2000 [15:10<1:06:15,  2.42s/it]"
     ]
    },
    {
     "name": "stdout",
     "output_type": "stream",
     "text": [
      "Epoch 355 | Train loss: 0.0221 | Valid loss: 0.5453\n",
      "Train ACC: 0.9938 | valid ACC: 0.8546 | test ACC: 0.7743\n",
      "Train f1: 0.9946 | valid f1: 0.8436 | test f1: 0.7783\n",
      "Train pre: 0.9954 | valid pre: 0.8475 | test pre: 0.8000\n"
     ]
    },
    {
     "name": "stderr",
     "output_type": "stream",
     "text": [
      "\r",
      " 18%|█████████████████████                                                                                                 | 357/2000 [15:13<1:08:24,  2.50s/it]"
     ]
    },
    {
     "name": "stdout",
     "output_type": "stream",
     "text": [
      "Epoch 356 | Train loss: 0.0212 | Valid loss: 0.5429\n",
      "Train ACC: 0.9932 | valid ACC: 0.8526 | test ACC: 0.7741\n",
      "Train f1: 0.9835 | valid f1: 0.8417 | test f1: 0.7801\n",
      "Train pre: 0.9777 | valid pre: 0.8460 | test pre: 0.8036\n"
     ]
    },
    {
     "name": "stderr",
     "output_type": "stream",
     "text": [
      "\r",
      " 18%|█████████████████████                                                                                                 | 358/2000 [15:15<1:02:33,  2.29s/it]"
     ]
    },
    {
     "name": "stdout",
     "output_type": "stream",
     "text": [
      "Epoch 357 | Train loss: 0.0238 | Valid loss: 0.5376\n",
      "Train ACC: 0.9949 | valid ACC: 0.8518 | test ACC: 0.7746\n",
      "Train f1: 0.9947 | valid f1: 0.8398 | test f1: 0.7812\n",
      "Train pre: 0.9944 | valid pre: 0.8390 | test pre: 0.8057\n"
     ]
    },
    {
     "name": "stderr",
     "output_type": "stream",
     "text": [
      "\r",
      " 18%|█████████████████████▏                                                                                                | 359/2000 [15:18<1:06:55,  2.45s/it]"
     ]
    },
    {
     "name": "stdout",
     "output_type": "stream",
     "text": [
      "Epoch 358 | Train loss: 0.0264 | Valid loss: 0.5353\n",
      "Train ACC: 0.9959 | valid ACC: 0.8515 | test ACC: 0.7762\n",
      "Train f1: 0.9939 | valid f1: 0.8404 | test f1: 0.7819\n",
      "Train pre: 0.9920 | valid pre: 0.8400 | test pre: 0.8059\n"
     ]
    },
    {
     "name": "stderr",
     "output_type": "stream",
     "text": [
      "\r",
      " 18%|█████████████████████▏                                                                                                | 360/2000 [15:20<1:10:32,  2.58s/it]"
     ]
    },
    {
     "name": "stdout",
     "output_type": "stream",
     "text": [
      "Epoch 359 | Train loss: 0.0217 | Valid loss: 0.5409\n",
      "Train ACC: 0.9944 | valid ACC: 0.8567 | test ACC: 0.7784\n",
      "Train f1: 0.9944 | valid f1: 0.8438 | test f1: 0.7820\n",
      "Train pre: 0.9946 | valid pre: 0.8394 | test pre: 0.8052\n"
     ]
    },
    {
     "name": "stderr",
     "output_type": "stream",
     "text": [
      "\r",
      " 18%|█████████████████████▎                                                                                                | 361/2000 [15:23<1:12:37,  2.66s/it]"
     ]
    },
    {
     "name": "stdout",
     "output_type": "stream",
     "text": [
      "Epoch 360 | Train loss: 0.0243 | Valid loss: 0.5491\n",
      "Train ACC: 0.9931 | valid ACC: 0.8563 | test ACC: 0.7783\n",
      "Train f1: 0.9930 | valid f1: 0.8430 | test f1: 0.7806\n",
      "Train pre: 0.9931 | valid pre: 0.8379 | test pre: 0.8037\n"
     ]
    },
    {
     "name": "stderr",
     "output_type": "stream",
     "text": [
      "\r",
      " 18%|█████████████████████▎                                                                                                | 362/2000 [15:25<1:05:24,  2.40s/it]"
     ]
    },
    {
     "name": "stdout",
     "output_type": "stream",
     "text": [
      "Epoch 361 | Train loss: 0.0217 | Valid loss: 0.5595\n",
      "Train ACC: 0.9951 | valid ACC: 0.8558 | test ACC: 0.7799\n",
      "Train f1: 0.9944 | valid f1: 0.8421 | test f1: 0.7795\n",
      "Train pre: 0.9938 | valid pre: 0.8365 | test pre: 0.8012\n"
     ]
    },
    {
     "name": "stderr",
     "output_type": "stream",
     "text": [
      "\r",
      " 18%|█████████████████████▍                                                                                                | 363/2000 [15:28<1:08:28,  2.51s/it]"
     ]
    },
    {
     "name": "stdout",
     "output_type": "stream",
     "text": [
      "Epoch 362 | Train loss: 0.0301 | Valid loss: 0.5625\n",
      "Train ACC: 0.9940 | valid ACC: 0.8559 | test ACC: 0.7783\n",
      "Train f1: 0.9934 | valid f1: 0.8427 | test f1: 0.7781\n",
      "Train pre: 0.9928 | valid pre: 0.8375 | test pre: 0.8011\n"
     ]
    },
    {
     "name": "stderr",
     "output_type": "stream",
     "text": [
      "\r",
      " 18%|█████████████████████▍                                                                                                | 364/2000 [15:31<1:09:51,  2.56s/it]"
     ]
    },
    {
     "name": "stdout",
     "output_type": "stream",
     "text": [
      "Epoch 363 | Train loss: 0.0234 | Valid loss: 0.5656\n",
      "Train ACC: 0.9953 | valid ACC: 0.8544 | test ACC: 0.7736\n",
      "Train f1: 0.9952 | valid f1: 0.8399 | test f1: 0.7737\n",
      "Train pre: 0.9951 | valid pre: 0.8339 | test pre: 0.7962\n"
     ]
    },
    {
     "name": "stderr",
     "output_type": "stream",
     "text": [
      "\r",
      " 18%|█████████████████████▌                                                                                                | 365/2000 [15:32<1:02:01,  2.28s/it]"
     ]
    },
    {
     "name": "stdout",
     "output_type": "stream",
     "text": [
      "Epoch 364 | Train loss: 0.0254 | Valid loss: 0.5613\n",
      "Train ACC: 0.9945 | valid ACC: 0.8522 | test ACC: 0.7716\n",
      "Train f1: 0.9938 | valid f1: 0.8391 | test f1: 0.7753\n",
      "Train pre: 0.9931 | valid pre: 0.8364 | test pre: 0.8012\n"
     ]
    },
    {
     "name": "stderr",
     "output_type": "stream",
     "text": [
      "\r",
      " 18%|█████████████████████▌                                                                                                | 366/2000 [15:35<1:05:18,  2.40s/it]"
     ]
    },
    {
     "name": "stdout",
     "output_type": "stream",
     "text": [
      "Epoch 365 | Train loss: 0.0235 | Valid loss: 0.5558\n",
      "Train ACC: 0.9940 | valid ACC: 0.8530 | test ACC: 0.7719\n",
      "Train f1: 0.9945 | valid f1: 0.8407 | test f1: 0.7785\n",
      "Train pre: 0.9951 | valid pre: 0.8392 | test pre: 0.8080\n"
     ]
    },
    {
     "name": "stderr",
     "output_type": "stream",
     "text": [
      "\r",
      " 18%|█████████████████████▋                                                                                                | 367/2000 [15:38<1:10:09,  2.58s/it]"
     ]
    },
    {
     "name": "stdout",
     "output_type": "stream",
     "text": [
      "Epoch 366 | Train loss: 0.0286 | Valid loss: 0.5408\n",
      "Train ACC: 0.9919 | valid ACC: 0.8507 | test ACC: 0.7722\n",
      "Train f1: 0.9923 | valid f1: 0.8395 | test f1: 0.7788\n",
      "Train pre: 0.9928 | valid pre: 0.8434 | test pre: 0.8063\n"
     ]
    },
    {
     "name": "stderr",
     "output_type": "stream",
     "text": [
      "\r",
      " 18%|█████████████████████▋                                                                                                | 368/2000 [15:41<1:12:17,  2.66s/it]"
     ]
    },
    {
     "name": "stdout",
     "output_type": "stream",
     "text": [
      "Epoch 367 | Train loss: 0.0275 | Valid loss: 0.5327\n",
      "Train ACC: 0.9921 | valid ACC: 0.8561 | test ACC: 0.7744\n",
      "Train f1: 0.9941 | valid f1: 0.8445 | test f1: 0.7778\n",
      "Train pre: 0.9963 | valid pre: 0.8482 | test pre: 0.8026\n"
     ]
    },
    {
     "name": "stderr",
     "output_type": "stream",
     "text": [
      "\r",
      " 18%|█████████████████████▊                                                                                                | 369/2000 [15:44<1:14:11,  2.73s/it]"
     ]
    },
    {
     "name": "stdout",
     "output_type": "stream",
     "text": [
      "Epoch 368 | Train loss: 0.0192 | Valid loss: 0.5280\n",
      "Train ACC: 0.9953 | valid ACC: 0.8514 | test ACC: 0.7742\n",
      "Train f1: 0.9948 | valid f1: 0.8410 | test f1: 0.7775\n",
      "Train pre: 0.9944 | valid pre: 0.8560 | test pre: 0.8057\n"
     ]
    },
    {
     "name": "stderr",
     "output_type": "stream",
     "text": [
      "\r",
      " 18%|█████████████████████▊                                                                                                | 370/2000 [15:46<1:15:49,  2.79s/it]"
     ]
    },
    {
     "name": "stdout",
     "output_type": "stream",
     "text": [
      "Epoch 369 | Train loss: 0.0288 | Valid loss: 0.5239\n",
      "Train ACC: 0.9912 | valid ACC: 0.8537 | test ACC: 0.7744\n",
      "Train f1: 0.9929 | valid f1: 0.8430 | test f1: 0.7770\n",
      "Train pre: 0.9947 | valid pre: 0.8573 | test pre: 0.8053\n"
     ]
    },
    {
     "name": "stderr",
     "output_type": "stream",
     "text": [
      "\r",
      " 19%|█████████████████████▉                                                                                                | 371/2000 [15:49<1:16:26,  2.82s/it]"
     ]
    },
    {
     "name": "stdout",
     "output_type": "stream",
     "text": [
      "Epoch 370 | Train loss: 0.0277 | Valid loss: 0.5120\n",
      "Train ACC: 0.9960 | valid ACC: 0.8519 | test ACC: 0.7744\n",
      "Train f1: 0.9959 | valid f1: 0.8348 | test f1: 0.7773\n",
      "Train pre: 0.9957 | valid pre: 0.8336 | test pre: 0.8029\n"
     ]
    },
    {
     "name": "stderr",
     "output_type": "stream",
     "text": [
      "\r",
      " 19%|█████████████████████▉                                                                                                | 372/2000 [15:52<1:18:07,  2.88s/it]"
     ]
    },
    {
     "name": "stdout",
     "output_type": "stream",
     "text": [
      "Epoch 371 | Train loss: 0.0256 | Valid loss: 0.5055\n",
      "Train ACC: 0.9929 | valid ACC: 0.8535 | test ACC: 0.7770\n",
      "Train f1: 0.9936 | valid f1: 0.8363 | test f1: 0.7790\n",
      "Train pre: 0.9943 | valid pre: 0.8304 | test pre: 0.8015\n"
     ]
    },
    {
     "name": "stderr",
     "output_type": "stream",
     "text": [
      "\r",
      " 19%|██████████████████████                                                                                                | 373/2000 [15:55<1:18:43,  2.90s/it]"
     ]
    },
    {
     "name": "stdout",
     "output_type": "stream",
     "text": [
      "Epoch 372 | Train loss: 0.0264 | Valid loss: 0.5097\n",
      "Train ACC: 0.9940 | valid ACC: 0.8546 | test ACC: 0.7774\n",
      "Train f1: 0.9940 | valid f1: 0.8367 | test f1: 0.7770\n",
      "Train pre: 0.9941 | valid pre: 0.8301 | test pre: 0.7975\n"
     ]
    },
    {
     "name": "stderr",
     "output_type": "stream",
     "text": [
      "\r",
      " 19%|██████████████████████                                                                                                | 374/2000 [15:57<1:09:26,  2.56s/it]"
     ]
    },
    {
     "name": "stdout",
     "output_type": "stream",
     "text": [
      "Epoch 373 | Train loss: 0.0283 | Valid loss: 0.5164\n",
      "Train ACC: 0.9676 | valid ACC: 0.8537 | test ACC: 0.7780\n",
      "Train f1: 0.9751 | valid f1: 0.8363 | test f1: 0.7757\n",
      "Train pre: 0.9919 | valid pre: 0.8345 | test pre: 0.7951\n"
     ]
    },
    {
     "name": "stderr",
     "output_type": "stream",
     "text": [
      "\r",
      " 19%|██████████████████████▏                                                                                               | 375/2000 [16:00<1:10:13,  2.59s/it]"
     ]
    },
    {
     "name": "stdout",
     "output_type": "stream",
     "text": [
      "Epoch 374 | Train loss: 0.0207 | Valid loss: 0.5210\n",
      "Train ACC: 0.9674 | valid ACC: 0.8607 | test ACC: 0.7819\n",
      "Train f1: 0.9768 | valid f1: 0.8510 | test f1: 0.7781\n",
      "Train pre: 0.9954 | valid pre: 0.8578 | test pre: 0.7958\n"
     ]
    },
    {
     "name": "stderr",
     "output_type": "stream",
     "text": [
      "\r",
      " 19%|██████████████████████▏                                                                                               | 376/2000 [16:03<1:12:53,  2.69s/it]"
     ]
    },
    {
     "name": "stdout",
     "output_type": "stream",
     "text": [
      "Epoch 375 | Train loss: 0.0205 | Valid loss: 0.5158\n",
      "Train ACC: 0.9946 | valid ACC: 0.8576 | test ACC: 0.7847\n",
      "Train f1: 0.9952 | valid f1: 0.8449 | test f1: 0.7823\n",
      "Train pre: 0.9958 | valid pre: 0.8471 | test pre: 0.8022\n"
     ]
    },
    {
     "name": "stderr",
     "output_type": "stream",
     "text": [
      "\r",
      " 19%|██████████████████████▏                                                                                               | 377/2000 [16:06<1:14:00,  2.74s/it]"
     ]
    },
    {
     "name": "stdout",
     "output_type": "stream",
     "text": [
      "Epoch 376 | Train loss: 0.0193 | Valid loss: 0.5122\n",
      "Train ACC: 0.9762 | valid ACC: 0.8580 | test ACC: 0.7852\n",
      "Train f1: 0.9836 | valid f1: 0.8451 | test f1: 0.7838\n",
      "Train pre: 0.9946 | valid pre: 0.8472 | test pre: 0.8043\n"
     ]
    },
    {
     "name": "stderr",
     "output_type": "stream",
     "text": [
      "\r",
      " 19%|██████████████████████▎                                                                                               | 378/2000 [16:08<1:15:33,  2.80s/it]"
     ]
    },
    {
     "name": "stdout",
     "output_type": "stream",
     "text": [
      "Epoch 377 | Train loss: 0.0281 | Valid loss: 0.5076\n",
      "Train ACC: 0.9940 | valid ACC: 0.8575 | test ACC: 0.7845\n",
      "Train f1: 0.9936 | valid f1: 0.8438 | test f1: 0.7854\n",
      "Train pre: 0.9931 | valid pre: 0.8454 | test pre: 0.8061\n"
     ]
    },
    {
     "name": "stderr",
     "output_type": "stream",
     "text": [
      "\r",
      " 19%|██████████████████████▎                                                                                               | 379/2000 [16:11<1:16:24,  2.83s/it]"
     ]
    },
    {
     "name": "stdout",
     "output_type": "stream",
     "text": [
      "Epoch 378 | Train loss: 0.0238 | Valid loss: 0.5057\n",
      "Train ACC: 0.9956 | valid ACC: 0.8583 | test ACC: 0.7810\n",
      "Train f1: 0.9931 | valid f1: 0.8446 | test f1: 0.7841\n",
      "Train pre: 0.9907 | valid pre: 0.8462 | test pre: 0.8077\n"
     ]
    },
    {
     "name": "stderr",
     "output_type": "stream",
     "text": [
      "\r",
      " 19%|██████████████████████▍                                                                                               | 380/2000 [16:14<1:15:58,  2.81s/it]"
     ]
    },
    {
     "name": "stdout",
     "output_type": "stream",
     "text": [
      "Epoch 379 | Train loss: 0.0189 | Valid loss: 0.5097\n",
      "Train ACC: 0.9952 | valid ACC: 0.8583 | test ACC: 0.7815\n",
      "Train f1: 0.9953 | valid f1: 0.8456 | test f1: 0.7860\n",
      "Train pre: 0.9954 | valid pre: 0.8582 | test pre: 0.8111\n"
     ]
    },
    {
     "name": "stderr",
     "output_type": "stream",
     "text": [
      "\r",
      " 19%|██████████████████████▍                                                                                               | 381/2000 [16:16<1:07:03,  2.49s/it]"
     ]
    },
    {
     "name": "stdout",
     "output_type": "stream",
     "text": [
      "Epoch 380 | Train loss: 0.0195 | Valid loss: 0.5225\n",
      "Train ACC: 0.9961 | valid ACC: 0.8548 | test ACC: 0.7790\n",
      "Train f1: 0.9956 | valid f1: 0.8436 | test f1: 0.7846\n",
      "Train pre: 0.9952 | valid pre: 0.8575 | test pre: 0.8114\n"
     ]
    },
    {
     "name": "stderr",
     "output_type": "stream",
     "text": [
      "\r",
      " 19%|██████████████████████▌                                                                                               | 382/2000 [16:19<1:09:46,  2.59s/it]"
     ]
    },
    {
     "name": "stdout",
     "output_type": "stream",
     "text": [
      "Epoch 381 | Train loss: 0.0148 | Valid loss: 0.5388\n",
      "Train ACC: 0.9956 | valid ACC: 0.8524 | test ACC: 0.7764\n",
      "Train f1: 0.9963 | valid f1: 0.8423 | test f1: 0.7826\n",
      "Train pre: 0.9971 | valid pre: 0.8571 | test pre: 0.8099\n"
     ]
    },
    {
     "name": "stderr",
     "output_type": "stream",
     "text": [
      "\r",
      " 19%|██████████████████████▌                                                                                               | 383/2000 [16:22<1:12:51,  2.70s/it]"
     ]
    },
    {
     "name": "stdout",
     "output_type": "stream",
     "text": [
      "Epoch 382 | Train loss: 0.0195 | Valid loss: 0.5480\n",
      "Train ACC: 0.9759 | valid ACC: 0.8496 | test ACC: 0.7756\n",
      "Train f1: 0.9839 | valid f1: 0.8402 | test f1: 0.7825\n",
      "Train pre: 0.9956 | valid pre: 0.8556 | test pre: 0.8111\n"
     ]
    },
    {
     "name": "stderr",
     "output_type": "stream",
     "text": [
      "\r",
      " 19%|██████████████████████▋                                                                                               | 384/2000 [16:25<1:14:33,  2.77s/it]"
     ]
    },
    {
     "name": "stdout",
     "output_type": "stream",
     "text": [
      "Epoch 383 | Train loss: 0.0236 | Valid loss: 0.5433\n",
      "Train ACC: 0.9920 | valid ACC: 0.8495 | test ACC: 0.7753\n",
      "Train f1: 0.9940 | valid f1: 0.8405 | test f1: 0.7828\n",
      "Train pre: 0.9962 | valid pre: 0.8560 | test pre: 0.8096\n"
     ]
    },
    {
     "name": "stderr",
     "output_type": "stream",
     "text": [
      "\r",
      " 19%|██████████████████████▋                                                                                               | 385/2000 [16:26<1:06:08,  2.46s/it]"
     ]
    },
    {
     "name": "stdout",
     "output_type": "stream",
     "text": [
      "Epoch 384 | Train loss: 0.0227 | Valid loss: 0.5376\n",
      "Train ACC: 0.9933 | valid ACC: 0.8501 | test ACC: 0.7734\n",
      "Train f1: 0.9949 | valid f1: 0.8406 | test f1: 0.7812\n",
      "Train pre: 0.9965 | valid pre: 0.8557 | test pre: 0.8068\n"
     ]
    },
    {
     "name": "stderr",
     "output_type": "stream",
     "text": [
      "\r",
      " 19%|██████████████████████▊                                                                                               | 386/2000 [16:29<1:08:28,  2.55s/it]"
     ]
    },
    {
     "name": "stdout",
     "output_type": "stream",
     "text": [
      "Epoch 385 | Train loss: 0.0205 | Valid loss: 0.5371\n",
      "Train ACC: 0.9940 | valid ACC: 0.8517 | test ACC: 0.7745\n",
      "Train f1: 0.9942 | valid f1: 0.8417 | test f1: 0.7816\n",
      "Train pre: 0.9945 | valid pre: 0.8565 | test pre: 0.8049\n"
     ]
    },
    {
     "name": "stderr",
     "output_type": "stream",
     "text": [
      "\r",
      " 19%|██████████████████████▊                                                                                               | 387/2000 [16:32<1:11:43,  2.67s/it]"
     ]
    },
    {
     "name": "stdout",
     "output_type": "stream",
     "text": [
      "Epoch 386 | Train loss: 0.0272 | Valid loss: 0.5399\n",
      "Train ACC: 0.9946 | valid ACC: 0.8491 | test ACC: 0.7790\n",
      "Train f1: 0.9956 | valid f1: 0.8379 | test f1: 0.7848\n",
      "Train pre: 0.9966 | valid pre: 0.8370 | test pre: 0.8061\n"
     ]
    },
    {
     "name": "stderr",
     "output_type": "stream",
     "text": [
      "\r",
      " 19%|██████████████████████▉                                                                                               | 388/2000 [16:35<1:14:11,  2.76s/it]"
     ]
    },
    {
     "name": "stdout",
     "output_type": "stream",
     "text": [
      "Epoch 387 | Train loss: 0.0226 | Valid loss: 0.5473\n",
      "Train ACC: 0.9950 | valid ACC: 0.8529 | test ACC: 0.7797\n",
      "Train f1: 0.9957 | valid f1: 0.8406 | test f1: 0.7834\n",
      "Train pre: 0.9966 | valid pre: 0.8386 | test pre: 0.8021\n"
     ]
    },
    {
     "name": "stderr",
     "output_type": "stream",
     "text": [
      "\r",
      " 19%|██████████████████████▉                                                                                               | 389/2000 [16:38<1:16:02,  2.83s/it]"
     ]
    },
    {
     "name": "stdout",
     "output_type": "stream",
     "text": [
      "Epoch 388 | Train loss: 0.0223 | Valid loss: 0.5540\n",
      "Train ACC: 0.9955 | valid ACC: 0.8569 | test ACC: 0.7797\n",
      "Train f1: 0.9950 | valid f1: 0.8384 | test f1: 0.7813\n",
      "Train pre: 0.9945 | valid pre: 0.8309 | test pre: 0.7983\n"
     ]
    },
    {
     "name": "stderr",
     "output_type": "stream",
     "text": [
      "\r",
      " 20%|███████████████████████                                                                                               | 390/2000 [16:41<1:16:50,  2.86s/it]"
     ]
    },
    {
     "name": "stdout",
     "output_type": "stream",
     "text": [
      "Epoch 389 | Train loss: 0.0174 | Valid loss: 0.5598\n",
      "Train ACC: 0.9969 | valid ACC: 0.8591 | test ACC: 0.7794\n",
      "Train f1: 0.9963 | valid f1: 0.8399 | test f1: 0.7799\n",
      "Train pre: 0.9959 | valid pre: 0.8319 | test pre: 0.7959\n"
     ]
    },
    {
     "name": "stderr",
     "output_type": "stream",
     "text": [
      "\r",
      " 20%|███████████████████████                                                                                               | 391/2000 [16:44<1:17:30,  2.89s/it]"
     ]
    },
    {
     "name": "stdout",
     "output_type": "stream",
     "text": [
      "Epoch 390 | Train loss: 0.0205 | Valid loss: 0.5655\n",
      "Train ACC: 0.9955 | valid ACC: 0.8618 | test ACC: 0.7795\n",
      "Train f1: 0.9939 | valid f1: 0.8431 | test f1: 0.7811\n",
      "Train pre: 0.9925 | valid pre: 0.8354 | test pre: 0.7996\n"
     ]
    },
    {
     "name": "stderr",
     "output_type": "stream",
     "text": [
      "\r",
      " 20%|███████████████████████▏                                                                                              | 392/2000 [16:46<1:09:19,  2.59s/it]"
     ]
    },
    {
     "name": "stdout",
     "output_type": "stream",
     "text": [
      "Epoch 391 | Train loss: 0.0161 | Valid loss: 0.5724\n",
      "Train ACC: 0.9964 | valid ACC: 0.8613 | test ACC: 0.7778\n",
      "Train f1: 0.9966 | valid f1: 0.8435 | test f1: 0.7796\n",
      "Train pre: 0.9969 | valid pre: 0.8515 | test pre: 0.7995\n"
     ]
    },
    {
     "name": "stderr",
     "output_type": "stream",
     "text": [
      "\r",
      " 20%|███████████████████████▏                                                                                              | 393/2000 [16:48<1:09:32,  2.60s/it]"
     ]
    },
    {
     "name": "stdout",
     "output_type": "stream",
     "text": [
      "Epoch 392 | Train loss: 0.0227 | Valid loss: 0.5715\n",
      "Train ACC: 0.9945 | valid ACC: 0.8598 | test ACC: 0.7754\n",
      "Train f1: 0.9951 | valid f1: 0.8417 | test f1: 0.7770\n",
      "Train pre: 0.9956 | valid pre: 0.8498 | test pre: 0.7995\n"
     ]
    },
    {
     "name": "stderr",
     "output_type": "stream",
     "text": [
      "\r",
      " 20%|███████████████████████▏                                                                                              | 394/2000 [16:51<1:12:37,  2.71s/it]"
     ]
    },
    {
     "name": "stdout",
     "output_type": "stream",
     "text": [
      "Epoch 393 | Train loss: 0.0185 | Valid loss: 0.5684\n",
      "Train ACC: 0.9966 | valid ACC: 0.8575 | test ACC: 0.7752\n",
      "Train f1: 0.9958 | valid f1: 0.8393 | test f1: 0.7766\n",
      "Train pre: 0.9951 | valid pre: 0.8477 | test pre: 0.8011\n"
     ]
    },
    {
     "name": "stderr",
     "output_type": "stream",
     "text": [
      "\r",
      " 20%|███████████████████████▎                                                                                              | 395/2000 [16:53<1:04:37,  2.42s/it]"
     ]
    },
    {
     "name": "stdout",
     "output_type": "stream",
     "text": [
      "Epoch 394 | Train loss: 0.0164 | Valid loss: 0.5644\n",
      "Train ACC: 0.9942 | valid ACC: 0.8573 | test ACC: 0.7777\n",
      "Train f1: 0.9960 | valid f1: 0.8393 | test f1: 0.7786\n",
      "Train pre: 0.9978 | valid pre: 0.8479 | test pre: 0.8029\n"
     ]
    },
    {
     "name": "stderr",
     "output_type": "stream",
     "text": [
      "\r",
      " 20%|███████████████████████▎                                                                                              | 396/2000 [16:56<1:07:33,  2.53s/it]"
     ]
    },
    {
     "name": "stdout",
     "output_type": "stream",
     "text": [
      "Epoch 395 | Train loss: 0.0191 | Valid loss: 0.5609\n",
      "Train ACC: 0.9947 | valid ACC: 0.8567 | test ACC: 0.7814\n",
      "Train f1: 0.9943 | valid f1: 0.8384 | test f1: 0.7813\n",
      "Train pre: 0.9940 | valid pre: 0.8365 | test pre: 0.8040\n"
     ]
    },
    {
     "name": "stderr",
     "output_type": "stream",
     "text": [
      "\r",
      " 20%|███████████████████████▍                                                                                              | 397/2000 [16:59<1:11:26,  2.67s/it]"
     ]
    },
    {
     "name": "stdout",
     "output_type": "stream",
     "text": [
      "Epoch 396 | Train loss: 0.0250 | Valid loss: 0.5584\n",
      "Train ACC: 0.9964 | valid ACC: 0.8576 | test ACC: 0.7821\n",
      "Train f1: 0.9961 | valid f1: 0.8394 | test f1: 0.7802\n",
      "Train pre: 0.9959 | valid pre: 0.8374 | test pre: 0.8039\n"
     ]
    },
    {
     "name": "stderr",
     "output_type": "stream",
     "text": [
      "\r",
      " 20%|███████████████████████▍                                                                                              | 398/2000 [17:02<1:13:48,  2.76s/it]"
     ]
    },
    {
     "name": "stdout",
     "output_type": "stream",
     "text": [
      "Epoch 397 | Train loss: 0.0212 | Valid loss: 0.5529\n",
      "Train ACC: 0.9925 | valid ACC: 0.8554 | test ACC: 0.7835\n",
      "Train f1: 0.9916 | valid f1: 0.8381 | test f1: 0.7822\n",
      "Train pre: 0.9908 | valid pre: 0.8367 | test pre: 0.8093\n"
     ]
    },
    {
     "name": "stderr",
     "output_type": "stream",
     "text": [
      "\r",
      " 20%|███████████████████████▌                                                                                              | 399/2000 [17:05<1:15:37,  2.83s/it]"
     ]
    },
    {
     "name": "stdout",
     "output_type": "stream",
     "text": [
      "Epoch 398 | Train loss: 0.0216 | Valid loss: 0.5562\n",
      "Train ACC: 0.9939 | valid ACC: 0.8550 | test ACC: 0.7856\n",
      "Train f1: 0.9945 | valid f1: 0.8436 | test f1: 0.7838\n",
      "Train pre: 0.9951 | valid pre: 0.8473 | test pre: 0.8167\n"
     ]
    },
    {
     "name": "stderr",
     "output_type": "stream",
     "text": [
      "\r",
      " 20%|███████████████████████▌                                                                                              | 400/2000 [17:08<1:16:21,  2.86s/it]"
     ]
    },
    {
     "name": "stdout",
     "output_type": "stream",
     "text": [
      "Epoch 399 | Train loss: 0.0198 | Valid loss: 0.5562\n",
      "Train ACC: 0.9405 | valid ACC: 0.8566 | test ACC: 0.7873\n",
      "Train f1: 0.9399 | valid f1: 0.8444 | test f1: 0.7862\n",
      "Train pre: 0.9392 | valid pre: 0.8469 | test pre: 0.8206\n"
     ]
    },
    {
     "name": "stderr",
     "output_type": "stream",
     "text": [
      "\r",
      " 20%|███████████████████████▋                                                                                              | 401/2000 [17:11<1:17:47,  2.92s/it]"
     ]
    },
    {
     "name": "stdout",
     "output_type": "stream",
     "text": [
      "Epoch 400 | Train loss: 0.0226 | Valid loss: 0.5531\n",
      "Train ACC: 0.9913 | valid ACC: 0.8555 | test ACC: 0.7860\n",
      "Train f1: 0.9932 | valid f1: 0.8445 | test f1: 0.7860\n",
      "Train pre: 0.9951 | valid pre: 0.8483 | test pre: 0.8235\n"
     ]
    },
    {
     "name": "stderr",
     "output_type": "stream",
     "text": [
      "\r",
      " 20%|███████████████████████▋                                                                                              | 402/2000 [17:14<1:17:58,  2.93s/it]"
     ]
    },
    {
     "name": "stdout",
     "output_type": "stream",
     "text": [
      "Epoch 401 | Train loss: 0.0176 | Valid loss: 0.5501\n",
      "Train ACC: 0.9969 | valid ACC: 0.8534 | test ACC: 0.7848\n",
      "Train f1: 0.9969 | valid f1: 0.8431 | test f1: 0.7877\n",
      "Train pre: 0.9969 | valid pre: 0.8473 | test pre: 0.8268\n"
     ]
    },
    {
     "name": "stderr",
     "output_type": "stream",
     "text": [
      "\r",
      " 20%|███████████████████████▊                                                                                              | 403/2000 [17:17<1:19:01,  2.97s/it]"
     ]
    },
    {
     "name": "stdout",
     "output_type": "stream",
     "text": [
      "Epoch 402 | Train loss: 0.0210 | Valid loss: 0.5475\n",
      "Train ACC: 0.9917 | valid ACC: 0.8516 | test ACC: 0.7840\n",
      "Train f1: 0.9919 | valid f1: 0.8422 | test f1: 0.7892\n",
      "Train pre: 0.9921 | valid pre: 0.8474 | test pre: 0.8252\n"
     ]
    },
    {
     "name": "stderr",
     "output_type": "stream",
     "text": [
      "\r",
      " 20%|███████████████████████▊                                                                                              | 404/2000 [17:20<1:19:23,  2.98s/it]"
     ]
    },
    {
     "name": "stdout",
     "output_type": "stream",
     "text": [
      "Epoch 403 | Train loss: 0.0165 | Valid loss: 0.5488\n",
      "Train ACC: 0.9960 | valid ACC: 0.8513 | test ACC: 0.7846\n",
      "Train f1: 0.9965 | valid f1: 0.8424 | test f1: 0.7917\n",
      "Train pre: 0.9970 | valid pre: 0.8439 | test pre: 0.8298\n"
     ]
    },
    {
     "name": "stderr",
     "output_type": "stream",
     "text": [
      "\r",
      " 20%|███████████████████████▉                                                                                              | 405/2000 [17:23<1:17:37,  2.92s/it]"
     ]
    },
    {
     "name": "stdout",
     "output_type": "stream",
     "text": [
      "Epoch 404 | Train loss: 0.0222 | Valid loss: 0.5477\n",
      "Train ACC: 0.9937 | valid ACC: 0.8505 | test ACC: 0.7867\n",
      "Train f1: 0.9950 | valid f1: 0.8416 | test f1: 0.7951\n",
      "Train pre: 0.9963 | valid pre: 0.8440 | test pre: 0.8331\n"
     ]
    },
    {
     "name": "stderr",
     "output_type": "stream",
     "text": [
      "\r",
      " 20%|███████████████████████▉                                                                                              | 406/2000 [17:24<1:08:17,  2.57s/it]"
     ]
    },
    {
     "name": "stdout",
     "output_type": "stream",
     "text": [
      "Epoch 405 | Train loss: 0.0208 | Valid loss: 0.5404\n",
      "Train ACC: 0.9920 | valid ACC: 0.8498 | test ACC: 0.7877\n",
      "Train f1: 0.9924 | valid f1: 0.8403 | test f1: 0.7960\n",
      "Train pre: 0.9929 | valid pre: 0.8396 | test pre: 0.8334\n"
     ]
    },
    {
     "name": "stderr",
     "output_type": "stream",
     "text": [
      "\r",
      " 20%|████████████████████████                                                                                              | 407/2000 [17:27<1:10:14,  2.65s/it]"
     ]
    },
    {
     "name": "stdout",
     "output_type": "stream",
     "text": [
      "Epoch 406 | Train loss: 0.0246 | Valid loss: 0.5354\n",
      "Train ACC: 0.9940 | valid ACC: 0.8510 | test ACC: 0.7882\n",
      "Train f1: 0.9934 | valid f1: 0.8401 | test f1: 0.7962\n",
      "Train pre: 0.9929 | valid pre: 0.8401 | test pre: 0.8389\n"
     ]
    },
    {
     "name": "stderr",
     "output_type": "stream",
     "text": [
      "\r",
      " 20%|████████████████████████                                                                                              | 408/2000 [17:29<1:02:38,  2.36s/it]"
     ]
    },
    {
     "name": "stdout",
     "output_type": "stream",
     "text": [
      "Epoch 407 | Train loss: 0.0163 | Valid loss: 0.5384\n",
      "Train ACC: 0.9964 | valid ACC: 0.8544 | test ACC: 0.7893\n",
      "Train f1: 0.9959 | valid f1: 0.8424 | test f1: 0.7949\n",
      "Train pre: 0.9955 | valid pre: 0.8409 | test pre: 0.8329\n"
     ]
    },
    {
     "name": "stderr",
     "output_type": "stream",
     "text": [
      "\r",
      " 20%|████████████████████████▏                                                                                             | 409/2000 [17:31<1:01:12,  2.31s/it]"
     ]
    },
    {
     "name": "stdout",
     "output_type": "stream",
     "text": [
      "Epoch 408 | Train loss: 0.0181 | Valid loss: 0.5453\n",
      "Train ACC: 0.9956 | valid ACC: 0.8577 | test ACC: 0.7896\n",
      "Train f1: 0.9957 | valid f1: 0.8450 | test f1: 0.7941\n",
      "Train pre: 0.9959 | valid pre: 0.8428 | test pre: 0.8331\n"
     ]
    },
    {
     "name": "stderr",
     "output_type": "stream",
     "text": [
      "\r",
      " 20%|████████████████████████▏                                                                                             | 410/2000 [17:34<1:01:49,  2.33s/it]"
     ]
    },
    {
     "name": "stdout",
     "output_type": "stream",
     "text": [
      "Epoch 409 | Train loss: 0.0169 | Valid loss: 0.5487\n",
      "Train ACC: 0.9947 | valid ACC: 0.8582 | test ACC: 0.7916\n",
      "Train f1: 0.9953 | valid f1: 0.8451 | test f1: 0.7973\n",
      "Train pre: 0.9959 | valid pre: 0.8427 | test pre: 0.8363\n"
     ]
    },
    {
     "name": "stderr",
     "output_type": "stream",
     "text": [
      "\r",
      " 21%|████████████████████████▋                                                                                               | 411/2000 [17:35<58:29,  2.21s/it]"
     ]
    },
    {
     "name": "stdout",
     "output_type": "stream",
     "text": [
      "Epoch 410 | Train loss: 0.0236 | Valid loss: 0.5481\n",
      "Train ACC: 0.9944 | valid ACC: 0.8564 | test ACC: 0.7909\n",
      "Train f1: 0.9946 | valid f1: 0.8430 | test f1: 0.7954\n",
      "Train pre: 0.9949 | valid pre: 0.8403 | test pre: 0.8248\n"
     ]
    },
    {
     "name": "stderr",
     "output_type": "stream",
     "text": [
      "\r",
      " 21%|████████████████████████▎                                                                                             | 412/2000 [17:38<1:03:41,  2.41s/it]"
     ]
    },
    {
     "name": "stdout",
     "output_type": "stream",
     "text": [
      "Epoch 411 | Train loss: 0.0185 | Valid loss: 0.5498\n",
      "Train ACC: 0.9945 | valid ACC: 0.8565 | test ACC: 0.7904\n",
      "Train f1: 0.9954 | valid f1: 0.8426 | test f1: 0.7949\n",
      "Train pre: 0.9963 | valid pre: 0.8369 | test pre: 0.8208\n"
     ]
    },
    {
     "name": "stderr",
     "output_type": "stream",
     "text": [
      "\r",
      " 21%|████████████████████████▎                                                                                             | 413/2000 [17:41<1:08:10,  2.58s/it]"
     ]
    },
    {
     "name": "stdout",
     "output_type": "stream",
     "text": [
      "Epoch 412 | Train loss: 0.0156 | Valid loss: 0.5573\n",
      "Train ACC: 0.9949 | valid ACC: 0.8547 | test ACC: 0.7934\n",
      "Train f1: 0.9956 | valid f1: 0.8405 | test f1: 0.7968\n",
      "Train pre: 0.9964 | valid pre: 0.8345 | test pre: 0.8193\n"
     ]
    },
    {
     "name": "stderr",
     "output_type": "stream",
     "text": [
      "\r",
      " 21%|████████████████████████▍                                                                                             | 414/2000 [17:43<1:02:30,  2.36s/it]"
     ]
    },
    {
     "name": "stdout",
     "output_type": "stream",
     "text": [
      "Epoch 413 | Train loss: 0.0190 | Valid loss: 0.5687\n",
      "Train ACC: 0.9956 | valid ACC: 0.8538 | test ACC: 0.7933\n",
      "Train f1: 0.9960 | valid f1: 0.8403 | test f1: 0.7946\n",
      "Train pre: 0.9964 | valid pre: 0.8377 | test pre: 0.8126\n"
     ]
    },
    {
     "name": "stderr",
     "output_type": "stream",
     "text": [
      "\r",
      " 21%|████████████████████████▍                                                                                             | 415/2000 [17:46<1:04:52,  2.46s/it]"
     ]
    },
    {
     "name": "stdout",
     "output_type": "stream",
     "text": [
      "Epoch 414 | Train loss: 0.0210 | Valid loss: 0.5795\n",
      "Train ACC: 0.9945 | valid ACC: 0.8545 | test ACC: 0.7935\n",
      "Train f1: 0.9955 | valid f1: 0.8413 | test f1: 0.7922\n",
      "Train pre: 0.9965 | valid pre: 0.8362 | test pre: 0.8083\n"
     ]
    },
    {
     "name": "stderr",
     "output_type": "stream",
     "text": [
      "\r",
      " 21%|████████████████████████▌                                                                                             | 416/2000 [17:49<1:08:46,  2.61s/it]"
     ]
    },
    {
     "name": "stdout",
     "output_type": "stream",
     "text": [
      "Epoch 415 | Train loss: 0.0157 | Valid loss: 0.5749\n",
      "Train ACC: 0.9941 | valid ACC: 0.8543 | test ACC: 0.7919\n",
      "Train f1: 0.9941 | valid f1: 0.8351 | test f1: 0.7907\n",
      "Train pre: 0.9941 | valid pre: 0.8237 | test pre: 0.8067\n"
     ]
    },
    {
     "name": "stderr",
     "output_type": "stream",
     "text": [
      "\r",
      " 21%|████████████████████████▌                                                                                             | 417/2000 [17:51<1:02:29,  2.37s/it]"
     ]
    },
    {
     "name": "stdout",
     "output_type": "stream",
     "text": [
      "Epoch 416 | Train loss: 0.0155 | Valid loss: 0.5651\n",
      "Train ACC: 0.9961 | valid ACC: 0.8550 | test ACC: 0.7921\n",
      "Train f1: 0.9953 | valid f1: 0.8357 | test f1: 0.7923\n",
      "Train pre: 0.9947 | valid pre: 0.8242 | test pre: 0.8071\n"
     ]
    },
    {
     "name": "stderr",
     "output_type": "stream",
     "text": [
      "\r",
      " 21%|████████████████████████▋                                                                                             | 418/2000 [17:53<1:04:31,  2.45s/it]"
     ]
    },
    {
     "name": "stdout",
     "output_type": "stream",
     "text": [
      "Epoch 417 | Train loss: 0.0215 | Valid loss: 0.5552\n",
      "Train ACC: 0.9925 | valid ACC: 0.8582 | test ACC: 0.7884\n",
      "Train f1: 0.9922 | valid f1: 0.8392 | test f1: 0.7902\n",
      "Train pre: 0.9919 | valid pre: 0.8294 | test pre: 0.8064\n"
     ]
    },
    {
     "name": "stderr",
     "output_type": "stream",
     "text": [
      "\r",
      " 21%|████████████████████████▋                                                                                             | 419/2000 [17:56<1:07:49,  2.57s/it]"
     ]
    },
    {
     "name": "stdout",
     "output_type": "stream",
     "text": [
      "Epoch 418 | Train loss: 0.0236 | Valid loss: 0.5466\n",
      "Train ACC: 0.9941 | valid ACC: 0.8545 | test ACC: 0.7868\n",
      "Train f1: 0.9933 | valid f1: 0.8360 | test f1: 0.7903\n",
      "Train pre: 0.9925 | valid pre: 0.8266 | test pre: 0.8081\n"
     ]
    },
    {
     "name": "stderr",
     "output_type": "stream",
     "text": [
      "\r",
      " 21%|████████████████████████▊                                                                                             | 420/2000 [17:58<1:00:15,  2.29s/it]"
     ]
    },
    {
     "name": "stdout",
     "output_type": "stream",
     "text": [
      "Epoch 419 | Train loss: 0.0225 | Valid loss: 0.5429\n",
      "Train ACC: 0.9673 | valid ACC: 0.8563 | test ACC: 0.7832\n",
      "Train f1: 0.9767 | valid f1: 0.8375 | test f1: 0.7882\n",
      "Train pre: 0.9953 | valid pre: 0.8275 | test pre: 0.8065\n"
     ]
    },
    {
     "name": "stderr",
     "output_type": "stream",
     "text": [
      "\r",
      " 21%|████████████████████████▊                                                                                             | 421/2000 [18:01<1:04:49,  2.46s/it]"
     ]
    },
    {
     "name": "stdout",
     "output_type": "stream",
     "text": [
      "Epoch 420 | Train loss: 0.0206 | Valid loss: 0.5419\n",
      "Train ACC: 0.9970 | valid ACC: 0.8542 | test ACC: 0.7810\n",
      "Train f1: 0.9968 | valid f1: 0.8365 | test f1: 0.7863\n",
      "Train pre: 0.9965 | valid pre: 0.8275 | test pre: 0.8040\n"
     ]
    },
    {
     "name": "stderr",
     "output_type": "stream",
     "text": [
      "\r",
      " 21%|████████████████████████▉                                                                                             | 422/2000 [18:03<1:07:11,  2.55s/it]"
     ]
    },
    {
     "name": "stdout",
     "output_type": "stream",
     "text": [
      "Epoch 421 | Train loss: 0.0197 | Valid loss: 0.5409\n",
      "Train ACC: 0.9971 | valid ACC: 0.8551 | test ACC: 0.7797\n",
      "Train f1: 0.9967 | valid f1: 0.8385 | test f1: 0.7856\n",
      "Train pre: 0.9964 | valid pre: 0.8331 | test pre: 0.8032\n"
     ]
    },
    {
     "name": "stderr",
     "output_type": "stream",
     "text": [
      "\r",
      " 21%|█████████████████████████▍                                                                                              | 423/2000 [18:05<59:46,  2.27s/it]"
     ]
    },
    {
     "name": "stdout",
     "output_type": "stream",
     "text": [
      "Epoch 422 | Train loss: 0.0185 | Valid loss: 0.5399\n",
      "Train ACC: 0.9963 | valid ACC: 0.8508 | test ACC: 0.7779\n",
      "Train f1: 0.9970 | valid f1: 0.8409 | test f1: 0.7849\n",
      "Train pre: 0.9976 | valid pre: 0.8414 | test pre: 0.8023\n"
     ]
    },
    {
     "name": "stderr",
     "output_type": "stream",
     "text": [
      "\r",
      " 21%|█████████████████████████                                                                                             | 424/2000 [18:07<1:00:34,  2.31s/it]"
     ]
    },
    {
     "name": "stdout",
     "output_type": "stream",
     "text": [
      "Epoch 423 | Train loss: 0.0209 | Valid loss: 0.5400\n",
      "Train ACC: 0.9934 | valid ACC: 0.8465 | test ACC: 0.7777\n",
      "Train f1: 0.9945 | valid f1: 0.8366 | test f1: 0.7842\n",
      "Train pre: 0.9956 | valid pre: 0.8343 | test pre: 0.8011\n"
     ]
    },
    {
     "name": "stderr",
     "output_type": "stream",
     "text": [
      "\r",
      " 21%|█████████████████████████                                                                                             | 425/2000 [18:10<1:00:28,  2.30s/it]"
     ]
    },
    {
     "name": "stdout",
     "output_type": "stream",
     "text": [
      "Epoch 424 | Train loss: 0.0240 | Valid loss: 0.5393\n",
      "Train ACC: 0.9947 | valid ACC: 0.8516 | test ACC: 0.7757\n",
      "Train f1: 0.9958 | valid f1: 0.8402 | test f1: 0.7818\n",
      "Train pre: 0.9968 | valid pre: 0.8367 | test pre: 0.7987\n"
     ]
    },
    {
     "name": "stderr",
     "output_type": "stream",
     "text": [
      "\r",
      " 21%|█████████████████████████▏                                                                                            | 426/2000 [18:13<1:05:12,  2.49s/it]"
     ]
    },
    {
     "name": "stdout",
     "output_type": "stream",
     "text": [
      "Epoch 425 | Train loss: 0.0243 | Valid loss: 0.5361\n",
      "Train ACC: 0.9666 | valid ACC: 0.8559 | test ACC: 0.7772\n",
      "Train f1: 0.9653 | valid f1: 0.8426 | test f1: 0.7830\n",
      "Train pre: 0.9769 | valid pre: 0.8383 | test pre: 0.7994\n"
     ]
    },
    {
     "name": "stderr",
     "output_type": "stream",
     "text": [
      "\r",
      " 21%|█████████████████████████▏                                                                                            | 427/2000 [18:15<1:08:37,  2.62s/it]"
     ]
    },
    {
     "name": "stdout",
     "output_type": "stream",
     "text": [
      "Epoch 426 | Train loss: 0.0166 | Valid loss: 0.5328\n",
      "Train ACC: 0.9974 | valid ACC: 0.8585 | test ACC: 0.7802\n",
      "Train f1: 0.9976 | valid f1: 0.8452 | test f1: 0.7852\n",
      "Train pre: 0.9978 | valid pre: 0.8400 | test pre: 0.8015\n"
     ]
    },
    {
     "name": "stderr",
     "output_type": "stream",
     "text": [
      "\r",
      " 21%|█████████████████████████▎                                                                                            | 428/2000 [18:18<1:11:37,  2.73s/it]"
     ]
    },
    {
     "name": "stdout",
     "output_type": "stream",
     "text": [
      "Epoch 427 | Train loss: 0.0194 | Valid loss: 0.5314\n",
      "Train ACC: 0.9961 | valid ACC: 0.8591 | test ACC: 0.7827\n",
      "Train f1: 0.9951 | valid f1: 0.8463 | test f1: 0.7873\n",
      "Train pre: 0.9941 | valid pre: 0.8415 | test pre: 0.8054\n"
     ]
    },
    {
     "name": "stderr",
     "output_type": "stream",
     "text": [
      "\r",
      " 21%|█████████████████████████▎                                                                                            | 429/2000 [18:22<1:13:49,  2.82s/it]"
     ]
    },
    {
     "name": "stdout",
     "output_type": "stream",
     "text": [
      "Epoch 428 | Train loss: 0.0177 | Valid loss: 0.5298\n",
      "Train ACC: 0.9964 | valid ACC: 0.8599 | test ACC: 0.7810\n",
      "Train f1: 0.9963 | valid f1: 0.8468 | test f1: 0.7854\n",
      "Train pre: 0.9962 | valid pre: 0.8440 | test pre: 0.8037\n"
     ]
    },
    {
     "name": "stderr",
     "output_type": "stream",
     "text": [
      "\r",
      " 22%|█████████████████████████▎                                                                                            | 430/2000 [18:25<1:15:14,  2.88s/it]"
     ]
    },
    {
     "name": "stdout",
     "output_type": "stream",
     "text": [
      "Epoch 429 | Train loss: 0.0230 | Valid loss: 0.5277\n",
      "Train ACC: 0.9964 | valid ACC: 0.8601 | test ACC: 0.7823\n",
      "Train f1: 0.9960 | valid f1: 0.8464 | test f1: 0.7873\n",
      "Train pre: 0.9956 | valid pre: 0.8407 | test pre: 0.8060\n"
     ]
    },
    {
     "name": "stderr",
     "output_type": "stream",
     "text": [
      "\r",
      " 22%|█████████████████████████▍                                                                                            | 431/2000 [18:28<1:16:48,  2.94s/it]"
     ]
    },
    {
     "name": "stdout",
     "output_type": "stream",
     "text": [
      "Epoch 430 | Train loss: 0.0133 | Valid loss: 0.5260\n",
      "Train ACC: 0.9946 | valid ACC: 0.8591 | test ACC: 0.7832\n",
      "Train f1: 0.9954 | valid f1: 0.8453 | test f1: 0.7887\n",
      "Train pre: 0.9963 | valid pre: 0.8395 | test pre: 0.8079\n"
     ]
    },
    {
     "name": "stderr",
     "output_type": "stream",
     "text": [
      "\r",
      " 22%|█████████████████████████▍                                                                                            | 432/2000 [18:30<1:09:48,  2.67s/it]"
     ]
    },
    {
     "name": "stdout",
     "output_type": "stream",
     "text": [
      "Epoch 431 | Train loss: 0.0259 | Valid loss: 0.5232\n",
      "Train ACC: 0.9917 | valid ACC: 0.8583 | test ACC: 0.7841\n",
      "Train f1: 0.9904 | valid f1: 0.8441 | test f1: 0.7906\n",
      "Train pre: 0.9892 | valid pre: 0.8407 | test pre: 0.8107\n"
     ]
    },
    {
     "name": "stderr",
     "output_type": "stream",
     "text": [
      "\r",
      " 22%|█████████████████████████▌                                                                                            | 433/2000 [18:32<1:10:36,  2.70s/it]"
     ]
    },
    {
     "name": "stdout",
     "output_type": "stream",
     "text": [
      "Epoch 432 | Train loss: 0.0192 | Valid loss: 0.5252\n",
      "Train ACC: 0.9974 | valid ACC: 0.8584 | test ACC: 0.7831\n",
      "Train f1: 0.9968 | valid f1: 0.8437 | test f1: 0.7904\n",
      "Train pre: 0.9962 | valid pre: 0.8443 | test pre: 0.8151\n"
     ]
    },
    {
     "name": "stderr",
     "output_type": "stream",
     "text": [
      "\r",
      " 22%|█████████████████████████▌                                                                                            | 434/2000 [18:35<1:12:57,  2.80s/it]"
     ]
    },
    {
     "name": "stdout",
     "output_type": "stream",
     "text": [
      "Epoch 433 | Train loss: 0.0186 | Valid loss: 0.5271\n",
      "Train ACC: 0.9952 | valid ACC: 0.8568 | test ACC: 0.7818\n",
      "Train f1: 0.9956 | valid f1: 0.8427 | test f1: 0.7890\n",
      "Train pre: 0.9960 | valid pre: 0.8543 | test pre: 0.8166\n"
     ]
    },
    {
     "name": "stderr",
     "output_type": "stream",
     "text": [
      "\r",
      " 22%|█████████████████████████▋                                                                                            | 435/2000 [18:38<1:14:11,  2.84s/it]"
     ]
    },
    {
     "name": "stdout",
     "output_type": "stream",
     "text": [
      "Epoch 434 | Train loss: 0.0147 | Valid loss: 0.5313\n",
      "Train ACC: 0.9978 | valid ACC: 0.8519 | test ACC: 0.7817\n",
      "Train f1: 0.9980 | valid f1: 0.8392 | test f1: 0.7884\n",
      "Train pre: 0.9983 | valid pre: 0.8523 | test pre: 0.8160\n"
     ]
    },
    {
     "name": "stderr",
     "output_type": "stream",
     "text": [
      "\r",
      " 22%|█████████████████████████▋                                                                                            | 436/2000 [18:41<1:15:39,  2.90s/it]"
     ]
    },
    {
     "name": "stdout",
     "output_type": "stream",
     "text": [
      "Epoch 435 | Train loss: 0.0181 | Valid loss: 0.5366\n",
      "Train ACC: 0.9950 | valid ACC: 0.8516 | test ACC: 0.7837\n",
      "Train f1: 0.9961 | valid f1: 0.8394 | test f1: 0.7888\n",
      "Train pre: 0.9972 | valid pre: 0.8530 | test pre: 0.8138\n"
     ]
    },
    {
     "name": "stderr",
     "output_type": "stream",
     "text": [
      "\r",
      " 22%|█████████████████████████▊                                                                                            | 437/2000 [18:45<1:17:34,  2.98s/it]"
     ]
    },
    {
     "name": "stdout",
     "output_type": "stream",
     "text": [
      "Epoch 436 | Train loss: 0.0282 | Valid loss: 0.5365\n",
      "Train ACC: 0.9933 | valid ACC: 0.8549 | test ACC: 0.7878\n",
      "Train f1: 0.9943 | valid f1: 0.8434 | test f1: 0.7931\n",
      "Train pre: 0.9953 | valid pre: 0.8425 | test pre: 0.8163\n"
     ]
    },
    {
     "name": "stderr",
     "output_type": "stream",
     "text": [
      "\r",
      " 22%|█████████████████████████▊                                                                                            | 438/2000 [18:47<1:16:39,  2.94s/it]"
     ]
    },
    {
     "name": "stdout",
     "output_type": "stream",
     "text": [
      "Epoch 437 | Train loss: 0.0189 | Valid loss: 0.5362\n",
      "Train ACC: 0.9906 | valid ACC: 0.8554 | test ACC: 0.7889\n",
      "Train f1: 0.9851 | valid f1: 0.8431 | test f1: 0.7945\n",
      "Train pre: 0.9818 | valid pre: 0.8382 | test pre: 0.8189\n"
     ]
    },
    {
     "name": "stderr",
     "output_type": "stream",
     "text": [
      "\r",
      " 22%|█████████████████████████▉                                                                                            | 439/2000 [18:50<1:16:01,  2.92s/it]"
     ]
    },
    {
     "name": "stdout",
     "output_type": "stream",
     "text": [
      "Epoch 438 | Train loss: 0.0249 | Valid loss: 0.5346\n",
      "Train ACC: 0.9912 | valid ACC: 0.8580 | test ACC: 0.7848\n",
      "Train f1: 0.9816 | valid f1: 0.8450 | test f1: 0.7915\n",
      "Train pre: 0.9757 | valid pre: 0.8422 | test pre: 0.8170\n"
     ]
    },
    {
     "name": "stderr",
     "output_type": "stream",
     "text": [
      "\r",
      " 22%|█████████████████████████▉                                                                                            | 440/2000 [18:53<1:15:39,  2.91s/it]"
     ]
    },
    {
     "name": "stdout",
     "output_type": "stream",
     "text": [
      "Epoch 439 | Train loss: 0.0187 | Valid loss: 0.5365\n",
      "Train ACC: 0.9953 | valid ACC: 0.8546 | test ACC: 0.7824\n",
      "Train f1: 0.9953 | valid f1: 0.8419 | test f1: 0.7892\n",
      "Train pre: 0.9954 | valid pre: 0.8399 | test pre: 0.8166\n"
     ]
    },
    {
     "name": "stderr",
     "output_type": "stream",
     "text": [
      "\r",
      " 22%|██████████████████████████                                                                                            | 441/2000 [18:56<1:15:39,  2.91s/it]"
     ]
    },
    {
     "name": "stdout",
     "output_type": "stream",
     "text": [
      "Epoch 440 | Train loss: 0.0153 | Valid loss: 0.5414\n",
      "Train ACC: 0.9970 | valid ACC: 0.8540 | test ACC: 0.7789\n",
      "Train f1: 0.9969 | valid f1: 0.8413 | test f1: 0.7846\n",
      "Train pre: 0.9968 | valid pre: 0.8393 | test pre: 0.8117\n"
     ]
    },
    {
     "name": "stderr",
     "output_type": "stream",
     "text": [
      "\r",
      " 22%|██████████████████████████                                                                                            | 442/2000 [18:58<1:06:26,  2.56s/it]"
     ]
    },
    {
     "name": "stdout",
     "output_type": "stream",
     "text": [
      "Epoch 441 | Train loss: 0.0248 | Valid loss: 0.5428\n",
      "Train ACC: 0.9959 | valid ACC: 0.8541 | test ACC: 0.7778\n",
      "Train f1: 0.9951 | valid f1: 0.8415 | test f1: 0.7818\n",
      "Train pre: 0.9943 | valid pre: 0.8356 | test pre: 0.8070\n"
     ]
    },
    {
     "name": "stderr",
     "output_type": "stream",
     "text": [
      "\r",
      " 22%|██████████████████████████▏                                                                                           | 443/2000 [19:01<1:07:37,  2.61s/it]"
     ]
    },
    {
     "name": "stdout",
     "output_type": "stream",
     "text": [
      "Epoch 442 | Train loss: 0.0171 | Valid loss: 0.5444\n",
      "Train ACC: 0.9942 | valid ACC: 0.8526 | test ACC: 0.7778\n",
      "Train f1: 0.9936 | valid f1: 0.8403 | test f1: 0.7811\n",
      "Train pre: 0.9931 | valid pre: 0.8348 | test pre: 0.8078\n"
     ]
    },
    {
     "name": "stderr",
     "output_type": "stream",
     "text": [
      "\r",
      " 22%|██████████████████████████▏                                                                                           | 444/2000 [19:03<1:09:47,  2.69s/it]"
     ]
    },
    {
     "name": "stdout",
     "output_type": "stream",
     "text": [
      "Epoch 443 | Train loss: 0.0197 | Valid loss: 0.5465\n",
      "Train ACC: 0.9959 | valid ACC: 0.8521 | test ACC: 0.7794\n",
      "Train f1: 0.9955 | valid f1: 0.8396 | test f1: 0.7815\n",
      "Train pre: 0.9950 | valid pre: 0.8343 | test pre: 0.8036\n"
     ]
    },
    {
     "name": "stderr",
     "output_type": "stream",
     "text": [
      "\r",
      " 22%|██████████████████████████▎                                                                                           | 445/2000 [19:06<1:10:12,  2.71s/it]"
     ]
    },
    {
     "name": "stdout",
     "output_type": "stream",
     "text": [
      "Epoch 444 | Train loss: 0.0157 | Valid loss: 0.5467\n",
      "Train ACC: 0.9952 | valid ACC: 0.8489 | test ACC: 0.7784\n",
      "Train f1: 0.9944 | valid f1: 0.8375 | test f1: 0.7812\n",
      "Train pre: 0.9936 | valid pre: 0.8349 | test pre: 0.8040\n"
     ]
    },
    {
     "name": "stderr",
     "output_type": "stream",
     "text": [
      "\r",
      " 22%|██████████████████████████▎                                                                                           | 446/2000 [19:08<1:03:11,  2.44s/it]"
     ]
    },
    {
     "name": "stdout",
     "output_type": "stream",
     "text": [
      "Epoch 445 | Train loss: 0.0207 | Valid loss: 0.5478\n",
      "Train ACC: 0.9953 | valid ACC: 0.8490 | test ACC: 0.7771\n",
      "Train f1: 0.9946 | valid f1: 0.8371 | test f1: 0.7812\n",
      "Train pre: 0.9939 | valid pre: 0.8339 | test pre: 0.8044\n"
     ]
    },
    {
     "name": "stderr",
     "output_type": "stream",
     "text": [
      "\r",
      " 22%|██████████████████████████▎                                                                                           | 447/2000 [19:11<1:06:22,  2.56s/it]"
     ]
    },
    {
     "name": "stdout",
     "output_type": "stream",
     "text": [
      "Epoch 446 | Train loss: 0.0206 | Valid loss: 0.5488\n",
      "Train ACC: 0.9958 | valid ACC: 0.8531 | test ACC: 0.7755\n",
      "Train f1: 0.9960 | valid f1: 0.8406 | test f1: 0.7802\n",
      "Train pre: 0.9963 | valid pre: 0.8365 | test pre: 0.8041\n"
     ]
    },
    {
     "name": "stderr",
     "output_type": "stream",
     "text": [
      "\r",
      " 22%|██████████████████████████▍                                                                                           | 448/2000 [19:14<1:08:11,  2.64s/it]"
     ]
    },
    {
     "name": "stdout",
     "output_type": "stream",
     "text": [
      "Epoch 447 | Train loss: 0.0193 | Valid loss: 0.5553\n",
      "Train ACC: 0.9964 | valid ACC: 0.8522 | test ACC: 0.7735\n",
      "Train f1: 0.9970 | valid f1: 0.8393 | test f1: 0.7789\n",
      "Train pre: 0.9976 | valid pre: 0.8371 | test pre: 0.8071\n"
     ]
    },
    {
     "name": "stderr",
     "output_type": "stream",
     "text": [
      "\r",
      " 22%|██████████████████████████▍                                                                                           | 449/2000 [19:15<1:00:34,  2.34s/it]"
     ]
    },
    {
     "name": "stdout",
     "output_type": "stream",
     "text": [
      "Epoch 448 | Train loss: 0.0179 | Valid loss: 0.5633\n",
      "Train ACC: 0.9941 | valid ACC: 0.8540 | test ACC: 0.7727\n",
      "Train f1: 0.9940 | valid f1: 0.8357 | test f1: 0.7774\n",
      "Train pre: 0.9940 | valid pre: 0.8331 | test pre: 0.8065\n"
     ]
    },
    {
     "name": "stderr",
     "output_type": "stream",
     "text": [
      "\r",
      " 22%|███████████████████████████                                                                                             | 450/2000 [19:17<57:42,  2.23s/it]"
     ]
    },
    {
     "name": "stdout",
     "output_type": "stream",
     "text": [
      "Epoch 449 | Train loss: 0.0162 | Valid loss: 0.5683\n",
      "Train ACC: 0.9956 | valid ACC: 0.8545 | test ACC: 0.7751\n",
      "Train f1: 0.9962 | valid f1: 0.8369 | test f1: 0.7790\n",
      "Train pre: 0.9969 | valid pre: 0.8450 | test pre: 0.8086\n"
     ]
    },
    {
     "name": "stderr",
     "output_type": "stream",
     "text": [
      "\r",
      " 23%|██████████████████████████▌                                                                                           | 451/2000 [19:20<1:00:07,  2.33s/it]"
     ]
    },
    {
     "name": "stdout",
     "output_type": "stream",
     "text": [
      "Epoch 450 | Train loss: 0.0196 | Valid loss: 0.5664\n",
      "Train ACC: 0.9936 | valid ACC: 0.8551 | test ACC: 0.7764\n",
      "Train f1: 0.9954 | valid f1: 0.8373 | test f1: 0.7797\n",
      "Train pre: 0.9974 | valid pre: 0.8351 | test pre: 0.8076\n"
     ]
    },
    {
     "name": "stderr",
     "output_type": "stream",
     "text": [
      "\r",
      " 23%|██████████████████████████▋                                                                                           | 452/2000 [19:23<1:04:55,  2.52s/it]"
     ]
    },
    {
     "name": "stdout",
     "output_type": "stream",
     "text": [
      "Epoch 451 | Train loss: 0.0166 | Valid loss: 0.5612\n",
      "Train ACC: 0.9976 | valid ACC: 0.8576 | test ACC: 0.7782\n",
      "Train f1: 0.9979 | valid f1: 0.8447 | test f1: 0.7811\n",
      "Train pre: 0.9982 | valid pre: 0.8421 | test pre: 0.8068\n"
     ]
    },
    {
     "name": "stderr",
     "output_type": "stream",
     "text": [
      "\r",
      " 23%|███████████████████████████▏                                                                                            | 453/2000 [19:25<59:53,  2.32s/it]"
     ]
    },
    {
     "name": "stdout",
     "output_type": "stream",
     "text": [
      "Epoch 452 | Train loss: 0.0161 | Valid loss: 0.5587\n",
      "Train ACC: 0.9770 | valid ACC: 0.8566 | test ACC: 0.7811\n",
      "Train f1: 0.9745 | valid f1: 0.8439 | test f1: 0.7840\n",
      "Train pre: 0.9793 | valid pre: 0.8415 | test pre: 0.8067\n"
     ]
    },
    {
     "name": "stderr",
     "output_type": "stream",
     "text": [
      "\r",
      " 23%|██████████████████████████▊                                                                                           | 454/2000 [19:27<1:02:27,  2.42s/it]"
     ]
    },
    {
     "name": "stdout",
     "output_type": "stream",
     "text": [
      "Epoch 453 | Train loss: 0.0186 | Valid loss: 0.5584\n",
      "Train ACC: 0.9959 | valid ACC: 0.8553 | test ACC: 0.7804\n",
      "Train f1: 0.9961 | valid f1: 0.8420 | test f1: 0.7851\n",
      "Train pre: 0.9963 | valid pre: 0.8368 | test pre: 0.8051\n"
     ]
    },
    {
     "name": "stderr",
     "output_type": "stream",
     "text": [
      "\r",
      " 23%|███████████████████████████▎                                                                                            | 455/2000 [19:29<54:53,  2.13s/it]"
     ]
    },
    {
     "name": "stdout",
     "output_type": "stream",
     "text": [
      "Epoch 454 | Train loss: 0.0202 | Valid loss: 0.5616\n",
      "Train ACC: 0.9949 | valid ACC: 0.8543 | test ACC: 0.7784\n",
      "Train f1: 0.9955 | valid f1: 0.8411 | test f1: 0.7826\n",
      "Train pre: 0.9960 | valid pre: 0.8364 | test pre: 0.8001\n"
     ]
    },
    {
     "name": "stderr",
     "output_type": "stream",
     "text": [
      "\r",
      " 23%|██████████████████████████▉                                                                                           | 456/2000 [19:32<1:00:14,  2.34s/it]"
     ]
    },
    {
     "name": "stdout",
     "output_type": "stream",
     "text": [
      "Epoch 455 | Train loss: 0.0152 | Valid loss: 0.5682\n",
      "Train ACC: 0.9949 | valid ACC: 0.8551 | test ACC: 0.7761\n",
      "Train f1: 0.9953 | valid f1: 0.8422 | test f1: 0.7798\n",
      "Train pre: 0.9957 | valid pre: 0.8377 | test pre: 0.7954\n"
     ]
    },
    {
     "name": "stderr",
     "output_type": "stream",
     "text": [
      "\r",
      " 23%|██████████████████████████▉                                                                                           | 457/2000 [19:35<1:04:30,  2.51s/it]"
     ]
    },
    {
     "name": "stdout",
     "output_type": "stream",
     "text": [
      "Epoch 456 | Train loss: 0.0173 | Valid loss: 0.5768\n",
      "Train ACC: 0.9971 | valid ACC: 0.8560 | test ACC: 0.7727\n",
      "Train f1: 0.9953 | valid f1: 0.8432 | test f1: 0.7761\n",
      "Train pre: 0.9936 | valid pre: 0.8385 | test pre: 0.7914\n"
     ]
    },
    {
     "name": "stderr",
     "output_type": "stream",
     "text": [
      "\r",
      " 23%|███████████████████████████                                                                                           | 458/2000 [19:37<1:06:57,  2.61s/it]"
     ]
    },
    {
     "name": "stdout",
     "output_type": "stream",
     "text": [
      "Epoch 457 | Train loss: 0.0279 | Valid loss: 0.5754\n",
      "Train ACC: 0.9905 | valid ACC: 0.8566 | test ACC: 0.7742\n",
      "Train f1: 0.9907 | valid f1: 0.8438 | test f1: 0.7783\n",
      "Train pre: 0.9911 | valid pre: 0.8389 | test pre: 0.7944\n"
     ]
    },
    {
     "name": "stderr",
     "output_type": "stream",
     "text": [
      "\r",
      " 23%|███████████████████████████                                                                                           | 459/2000 [19:39<1:00:27,  2.35s/it]"
     ]
    },
    {
     "name": "stdout",
     "output_type": "stream",
     "text": [
      "Epoch 458 | Train loss: 0.0200 | Valid loss: 0.5707\n",
      "Train ACC: 0.9970 | valid ACC: 0.8566 | test ACC: 0.7710\n",
      "Train f1: 0.9968 | valid f1: 0.8438 | test f1: 0.7762\n",
      "Train pre: 0.9966 | valid pre: 0.8389 | test pre: 0.7952\n"
     ]
    },
    {
     "name": "stderr",
     "output_type": "stream",
     "text": [
      "\r",
      " 23%|███████████████████████████▏                                                                                          | 460/2000 [19:42<1:03:25,  2.47s/it]"
     ]
    },
    {
     "name": "stdout",
     "output_type": "stream",
     "text": [
      "Epoch 459 | Train loss: 0.0180 | Valid loss: 0.5630\n",
      "Train ACC: 0.9973 | valid ACC: 0.8563 | test ACC: 0.7684\n",
      "Train f1: 0.9976 | valid f1: 0.8432 | test f1: 0.7755\n",
      "Train pre: 0.9978 | valid pre: 0.8380 | test pre: 0.7987\n"
     ]
    },
    {
     "name": "stderr",
     "output_type": "stream",
     "text": [
      "\r",
      " 23%|███████████████████████████▏                                                                                          | 461/2000 [19:45<1:06:54,  2.61s/it]"
     ]
    },
    {
     "name": "stdout",
     "output_type": "stream",
     "text": [
      "Epoch 460 | Train loss: 0.0128 | Valid loss: 0.5568\n",
      "Train ACC: 0.9960 | valid ACC: 0.8560 | test ACC: 0.7671\n",
      "Train f1: 0.9956 | valid f1: 0.8427 | test f1: 0.7746\n",
      "Train pre: 0.9952 | valid pre: 0.8375 | test pre: 0.7979\n"
     ]
    },
    {
     "name": "stderr",
     "output_type": "stream",
     "text": [
      "\r",
      " 23%|███████████████████████████▎                                                                                          | 462/2000 [19:48<1:09:55,  2.73s/it]"
     ]
    },
    {
     "name": "stdout",
     "output_type": "stream",
     "text": [
      "Epoch 461 | Train loss: 0.0149 | Valid loss: 0.5506\n",
      "Train ACC: 0.9691 | valid ACC: 0.8560 | test ACC: 0.7717\n",
      "Train f1: 0.9705 | valid f1: 0.8424 | test f1: 0.7795\n",
      "Train pre: 0.9832 | valid pre: 0.8397 | test pre: 0.8041\n"
     ]
    },
    {
     "name": "stderr",
     "output_type": "stream",
     "text": [
      "\r",
      " 23%|███████████████████████████▎                                                                                          | 463/2000 [19:51<1:11:03,  2.77s/it]"
     ]
    },
    {
     "name": "stdout",
     "output_type": "stream",
     "text": [
      "Epoch 462 | Train loss: 0.0160 | Valid loss: 0.5474\n",
      "Train ACC: 0.9958 | valid ACC: 0.8563 | test ACC: 0.7749\n",
      "Train f1: 0.9959 | valid f1: 0.8429 | test f1: 0.7820\n",
      "Train pre: 0.9959 | valid pre: 0.8403 | test pre: 0.8061\n"
     ]
    },
    {
     "name": "stderr",
     "output_type": "stream",
     "text": [
      "\r",
      " 23%|███████████████████████████▍                                                                                          | 464/2000 [19:52<1:03:23,  2.48s/it]"
     ]
    },
    {
     "name": "stdout",
     "output_type": "stream",
     "text": [
      "Epoch 463 | Train loss: 0.0198 | Valid loss: 0.5499\n",
      "Train ACC: 0.9961 | valid ACC: 0.8555 | test ACC: 0.7777\n",
      "Train f1: 0.9963 | valid f1: 0.8434 | test f1: 0.7842\n",
      "Train pre: 0.9964 | valid pre: 0.8465 | test pre: 0.8092\n"
     ]
    },
    {
     "name": "stderr",
     "output_type": "stream",
     "text": [
      "\r",
      " 23%|███████████████████████████▍                                                                                          | 465/2000 [19:55<1:04:56,  2.54s/it]"
     ]
    },
    {
     "name": "stdout",
     "output_type": "stream",
     "text": [
      "Epoch 464 | Train loss: 0.0168 | Valid loss: 0.5577\n",
      "Train ACC: 0.9973 | valid ACC: 0.8543 | test ACC: 0.7781\n",
      "Train f1: 0.9968 | valid f1: 0.8439 | test f1: 0.7826\n",
      "Train pre: 0.9964 | valid pre: 0.8586 | test pre: 0.8085\n"
     ]
    },
    {
     "name": "stderr",
     "output_type": "stream",
     "text": [
      "\r",
      " 23%|███████████████████████████▍                                                                                          | 466/2000 [19:58<1:07:58,  2.66s/it]"
     ]
    },
    {
     "name": "stdout",
     "output_type": "stream",
     "text": [
      "Epoch 465 | Train loss: 0.0210 | Valid loss: 0.5671\n",
      "Train ACC: 0.9770 | valid ACC: 0.8556 | test ACC: 0.7801\n",
      "Train f1: 0.9840 | valid f1: 0.8452 | test f1: 0.7838\n",
      "Train pre: 0.9947 | valid pre: 0.8597 | test pre: 0.8120\n"
     ]
    },
    {
     "name": "stderr",
     "output_type": "stream",
     "text": [
      "\r",
      " 23%|███████████████████████████▌                                                                                          | 467/2000 [20:01<1:09:18,  2.71s/it]"
     ]
    },
    {
     "name": "stdout",
     "output_type": "stream",
     "text": [
      "Epoch 466 | Train loss: 0.0201 | Valid loss: 0.5721\n",
      "Train ACC: 0.9928 | valid ACC: 0.8602 | test ACC: 0.7800\n",
      "Train f1: 0.9948 | valid f1: 0.8484 | test f1: 0.7835\n",
      "Train pre: 0.9970 | valid pre: 0.8511 | test pre: 0.8134\n"
     ]
    },
    {
     "name": "stderr",
     "output_type": "stream",
     "text": [
      "\r",
      " 23%|███████████████████████████▌                                                                                          | 468/2000 [20:03<1:00:57,  2.39s/it]"
     ]
    },
    {
     "name": "stdout",
     "output_type": "stream",
     "text": [
      "Epoch 467 | Train loss: 0.0153 | Valid loss: 0.5797\n",
      "Train ACC: 0.9969 | valid ACC: 0.8608 | test ACC: 0.7812\n",
      "Train f1: 0.9972 | valid f1: 0.8489 | test f1: 0.7843\n",
      "Train pre: 0.9975 | valid pre: 0.8515 | test pre: 0.8184\n"
     ]
    },
    {
     "name": "stderr",
     "output_type": "stream",
     "text": [
      "\r",
      " 23%|███████████████████████████▋                                                                                          | 469/2000 [20:06<1:05:08,  2.55s/it]"
     ]
    },
    {
     "name": "stdout",
     "output_type": "stream",
     "text": [
      "Epoch 468 | Train loss: 0.0171 | Valid loss: 0.5809\n",
      "Train ACC: 0.9954 | valid ACC: 0.8611 | test ACC: 0.7812\n",
      "Train f1: 0.9963 | valid f1: 0.8481 | test f1: 0.7847\n",
      "Train pre: 0.9971 | valid pre: 0.8497 | test pre: 0.8200\n"
     ]
    },
    {
     "name": "stderr",
     "output_type": "stream",
     "text": [
      "\r",
      " 24%|███████████████████████████▋                                                                                          | 470/2000 [20:09<1:08:46,  2.70s/it]"
     ]
    },
    {
     "name": "stdout",
     "output_type": "stream",
     "text": [
      "Epoch 469 | Train loss: 0.0150 | Valid loss: 0.5764\n",
      "Train ACC: 0.9981 | valid ACC: 0.8603 | test ACC: 0.7798\n",
      "Train f1: 0.9979 | valid f1: 0.8466 | test f1: 0.7829\n",
      "Train pre: 0.9977 | valid pre: 0.8433 | test pre: 0.8174\n"
     ]
    },
    {
     "name": "stderr",
     "output_type": "stream",
     "text": [
      "\r",
      " 24%|███████████████████████████▊                                                                                          | 471/2000 [20:10<1:02:35,  2.46s/it]"
     ]
    },
    {
     "name": "stdout",
     "output_type": "stream",
     "text": [
      "Epoch 470 | Train loss: 0.0245 | Valid loss: 0.5651\n",
      "Train ACC: 0.9956 | valid ACC: 0.8569 | test ACC: 0.7780\n",
      "Train f1: 0.9953 | valid f1: 0.8424 | test f1: 0.7814\n",
      "Train pre: 0.9951 | valid pre: 0.8363 | test pre: 0.8170\n"
     ]
    },
    {
     "name": "stderr",
     "output_type": "stream",
     "text": [
      "\r",
      " 24%|███████████████████████████▊                                                                                          | 472/2000 [20:13<1:04:24,  2.53s/it]"
     ]
    },
    {
     "name": "stdout",
     "output_type": "stream",
     "text": [
      "Epoch 471 | Train loss: 0.0166 | Valid loss: 0.5614\n",
      "Train ACC: 0.9956 | valid ACC: 0.8573 | test ACC: 0.7798\n",
      "Train f1: 0.9960 | valid f1: 0.8440 | test f1: 0.7839\n",
      "Train pre: 0.9963 | valid pre: 0.8394 | test pre: 0.8234\n"
     ]
    },
    {
     "name": "stderr",
     "output_type": "stream",
     "text": [
      "\r",
      " 24%|████████████████████████████▍                                                                                           | 473/2000 [20:15<59:24,  2.33s/it]"
     ]
    },
    {
     "name": "stdout",
     "output_type": "stream",
     "text": [
      "Epoch 472 | Train loss: 0.0212 | Valid loss: 0.5641\n",
      "Train ACC: 0.9792 | valid ACC: 0.8574 | test ACC: 0.7812\n",
      "Train f1: 0.9784 | valid f1: 0.8445 | test f1: 0.7851\n",
      "Train pre: 0.9833 | valid pre: 0.8399 | test pre: 0.8206\n"
     ]
    },
    {
     "name": "stderr",
     "output_type": "stream",
     "text": [
      "\r",
      " 24%|███████████████████████████▉                                                                                          | 474/2000 [20:18<1:02:38,  2.46s/it]"
     ]
    },
    {
     "name": "stdout",
     "output_type": "stream",
     "text": [
      "Epoch 473 | Train loss: 0.0181 | Valid loss: 0.5671\n",
      "Train ACC: 0.9967 | valid ACC: 0.8543 | test ACC: 0.7826\n",
      "Train f1: 0.9961 | valid f1: 0.8424 | test f1: 0.7866\n",
      "Train pre: 0.9954 | valid pre: 0.8384 | test pre: 0.8223\n"
     ]
    },
    {
     "name": "stderr",
     "output_type": "stream",
     "text": [
      "\r",
      " 24%|████████████████████████████▌                                                                                           | 475/2000 [20:20<58:16,  2.29s/it]"
     ]
    },
    {
     "name": "stdout",
     "output_type": "stream",
     "text": [
      "Epoch 474 | Train loss: 0.0196 | Valid loss: 0.5713\n",
      "Train ACC: 0.9971 | valid ACC: 0.8551 | test ACC: 0.7831\n",
      "Train f1: 0.9974 | valid f1: 0.8427 | test f1: 0.7872\n",
      "Train pre: 0.9976 | valid pre: 0.8380 | test pre: 0.8213\n"
     ]
    },
    {
     "name": "stderr",
     "output_type": "stream",
     "text": [
      "\r",
      " 24%|████████████████████████████                                                                                          | 476/2000 [20:22<1:00:07,  2.37s/it]"
     ]
    },
    {
     "name": "stdout",
     "output_type": "stream",
     "text": [
      "Epoch 475 | Train loss: 0.0155 | Valid loss: 0.5749\n",
      "Train ACC: 0.9961 | valid ACC: 0.8567 | test ACC: 0.7810\n",
      "Train f1: 0.9965 | valid f1: 0.8447 | test f1: 0.7856\n",
      "Train pre: 0.9969 | valid pre: 0.8402 | test pre: 0.8222\n"
     ]
    },
    {
     "name": "stderr",
     "output_type": "stream",
     "text": [
      "\r",
      " 24%|████████████████████████████▏                                                                                         | 477/2000 [20:25<1:03:36,  2.51s/it]"
     ]
    },
    {
     "name": "stdout",
     "output_type": "stream",
     "text": [
      "Epoch 476 | Train loss: 0.0287 | Valid loss: 0.5767\n",
      "Train ACC: 0.9915 | valid ACC: 0.8571 | test ACC: 0.7784\n",
      "Train f1: 0.9923 | valid f1: 0.8449 | test f1: 0.7833\n",
      "Train pre: 0.9932 | valid pre: 0.8402 | test pre: 0.8205\n"
     ]
    },
    {
     "name": "stderr",
     "output_type": "stream",
     "text": [
      "\r",
      " 24%|████████████████████████████▏                                                                                         | 478/2000 [20:28<1:06:14,  2.61s/it]"
     ]
    },
    {
     "name": "stdout",
     "output_type": "stream",
     "text": [
      "Epoch 477 | Train loss: 0.0238 | Valid loss: 0.5727\n",
      "Train ACC: 0.9952 | valid ACC: 0.8515 | test ACC: 0.7778\n",
      "Train f1: 0.9947 | valid f1: 0.8405 | test f1: 0.7831\n",
      "Train pre: 0.9943 | valid pre: 0.8372 | test pre: 0.8207\n"
     ]
    },
    {
     "name": "stderr",
     "output_type": "stream",
     "text": [
      "\r",
      " 24%|████████████████████████████▎                                                                                         | 479/2000 [20:31<1:08:30,  2.70s/it]"
     ]
    },
    {
     "name": "stdout",
     "output_type": "stream",
     "text": [
      "Epoch 478 | Train loss: 0.0168 | Valid loss: 0.5619\n",
      "Train ACC: 0.9973 | valid ACC: 0.8527 | test ACC: 0.7775\n",
      "Train f1: 0.9972 | valid f1: 0.8418 | test f1: 0.7838\n",
      "Train pre: 0.9971 | valid pre: 0.8410 | test pre: 0.8211\n"
     ]
    },
    {
     "name": "stderr",
     "output_type": "stream",
     "text": [
      "\r",
      " 24%|████████████████████████████▎                                                                                         | 480/2000 [20:34<1:10:16,  2.77s/it]"
     ]
    },
    {
     "name": "stdout",
     "output_type": "stream",
     "text": [
      "Epoch 479 | Train loss: 0.0209 | Valid loss: 0.5469\n",
      "Train ACC: 0.9947 | valid ACC: 0.8521 | test ACC: 0.7756\n",
      "Train f1: 0.9959 | valid f1: 0.8409 | test f1: 0.7823\n",
      "Train pre: 0.9972 | valid pre: 0.8380 | test pre: 0.8174\n"
     ]
    },
    {
     "name": "stderr",
     "output_type": "stream",
     "text": [
      "\r",
      " 24%|████████████████████████████▍                                                                                         | 481/2000 [20:37<1:10:50,  2.80s/it]"
     ]
    },
    {
     "name": "stdout",
     "output_type": "stream",
     "text": [
      "Epoch 480 | Train loss: 0.0156 | Valid loss: 0.5367\n",
      "Train ACC: 0.9962 | valid ACC: 0.8516 | test ACC: 0.7751\n",
      "Train f1: 0.9964 | valid f1: 0.8405 | test f1: 0.7812\n",
      "Train pre: 0.9966 | valid pre: 0.8378 | test pre: 0.8139\n"
     ]
    },
    {
     "name": "stderr",
     "output_type": "stream",
     "text": [
      "\r",
      " 24%|████████████████████████████▍                                                                                         | 482/2000 [20:40<1:12:08,  2.85s/it]"
     ]
    },
    {
     "name": "stdout",
     "output_type": "stream",
     "text": [
      "Epoch 481 | Train loss: 0.0173 | Valid loss: 0.5294\n",
      "Train ACC: 0.9970 | valid ACC: 0.8488 | test ACC: 0.7765\n",
      "Train f1: 0.9970 | valid f1: 0.8372 | test f1: 0.7835\n",
      "Train pre: 0.9969 | valid pre: 0.8339 | test pre: 0.8157\n"
     ]
    },
    {
     "name": "stderr",
     "output_type": "stream",
     "text": [
      "\r",
      " 24%|████████████████████████████▍                                                                                         | 483/2000 [20:42<1:11:24,  2.82s/it]"
     ]
    },
    {
     "name": "stdout",
     "output_type": "stream",
     "text": [
      "Epoch 482 | Train loss: 0.0161 | Valid loss: 0.5264\n",
      "Train ACC: 0.9960 | valid ACC: 0.8488 | test ACC: 0.7758\n",
      "Train f1: 0.9969 | valid f1: 0.8372 | test f1: 0.7825\n",
      "Train pre: 0.9979 | valid pre: 0.8339 | test pre: 0.8085\n"
     ]
    },
    {
     "name": "stderr",
     "output_type": "stream",
     "text": [
      "\r",
      " 24%|████████████████████████████▌                                                                                         | 484/2000 [20:44<1:02:18,  2.47s/it]"
     ]
    },
    {
     "name": "stdout",
     "output_type": "stream",
     "text": [
      "Epoch 483 | Train loss: 0.0201 | Valid loss: 0.5273\n",
      "Train ACC: 0.9964 | valid ACC: 0.8516 | test ACC: 0.7766\n",
      "Train f1: 0.9967 | valid f1: 0.8393 | test f1: 0.7825\n",
      "Train pre: 0.9971 | valid pre: 0.8351 | test pre: 0.8078\n"
     ]
    },
    {
     "name": "stderr",
     "output_type": "stream",
     "text": [
      "\r",
      " 24%|█████████████████████████████                                                                                           | 485/2000 [20:46<56:41,  2.25s/it]"
     ]
    },
    {
     "name": "stdout",
     "output_type": "stream",
     "text": [
      "Epoch 484 | Train loss: 0.0211 | Valid loss: 0.5300\n",
      "Train ACC: 0.9963 | valid ACC: 0.8520 | test ACC: 0.7772\n",
      "Train f1: 0.9964 | valid f1: 0.8397 | test f1: 0.7826\n",
      "Train pre: 0.9966 | valid pre: 0.8353 | test pre: 0.8073\n"
     ]
    },
    {
     "name": "stderr",
     "output_type": "stream",
     "text": [
      "\r",
      " 24%|█████████████████████████████▏                                                                                          | 486/2000 [20:48<59:38,  2.36s/it]"
     ]
    },
    {
     "name": "stdout",
     "output_type": "stream",
     "text": [
      "Epoch 485 | Train loss: 0.0165 | Valid loss: 0.5330\n",
      "Train ACC: 0.9967 | valid ACC: 0.8538 | test ACC: 0.7766\n",
      "Train f1: 0.9969 | valid f1: 0.8417 | test f1: 0.7820\n",
      "Train pre: 0.9971 | valid pre: 0.8374 | test pre: 0.8070\n"
     ]
    },
    {
     "name": "stderr",
     "output_type": "stream",
     "text": [
      "\r",
      " 24%|████████████████████████████▋                                                                                         | 487/2000 [20:51<1:03:16,  2.51s/it]"
     ]
    },
    {
     "name": "stdout",
     "output_type": "stream",
     "text": [
      "Epoch 486 | Train loss: 0.0153 | Valid loss: 0.5379\n",
      "Train ACC: 0.9979 | valid ACC: 0.8540 | test ACC: 0.7753\n",
      "Train f1: 0.9972 | valid f1: 0.8420 | test f1: 0.7807\n",
      "Train pre: 0.9965 | valid pre: 0.8402 | test pre: 0.8057\n"
     ]
    },
    {
     "name": "stderr",
     "output_type": "stream",
     "text": [
      "\r",
      " 24%|████████████████████████████▊                                                                                         | 488/2000 [20:54<1:05:54,  2.62s/it]"
     ]
    },
    {
     "name": "stdout",
     "output_type": "stream",
     "text": [
      "Epoch 487 | Train loss: 0.0175 | Valid loss: 0.5424\n",
      "Train ACC: 0.9961 | valid ACC: 0.8533 | test ACC: 0.7761\n",
      "Train f1: 0.9964 | valid f1: 0.8413 | test f1: 0.7809\n",
      "Train pre: 0.9967 | valid pre: 0.8398 | test pre: 0.8075\n"
     ]
    },
    {
     "name": "stderr",
     "output_type": "stream",
     "text": [
      "\r",
      " 24%|████████████████████████████▊                                                                                         | 489/2000 [20:57<1:06:30,  2.64s/it]"
     ]
    },
    {
     "name": "stdout",
     "output_type": "stream",
     "text": [
      "Epoch 488 | Train loss: 0.0147 | Valid loss: 0.5432\n",
      "Train ACC: 0.9978 | valid ACC: 0.8533 | test ACC: 0.7767\n",
      "Train f1: 0.9975 | valid f1: 0.8413 | test f1: 0.7813\n",
      "Train pre: 0.9972 | valid pre: 0.8398 | test pre: 0.8077\n"
     ]
    },
    {
     "name": "stderr",
     "output_type": "stream",
     "text": [
      "\r",
      " 24%|█████████████████████████████▍                                                                                          | 490/2000 [20:59<59:53,  2.38s/it]"
     ]
    },
    {
     "name": "stdout",
     "output_type": "stream",
     "text": [
      "Epoch 489 | Train loss: 0.0169 | Valid loss: 0.5399\n",
      "Train ACC: 0.9977 | valid ACC: 0.8526 | test ACC: 0.7759\n",
      "Train f1: 0.9977 | valid f1: 0.8398 | test f1: 0.7814\n",
      "Train pre: 0.9977 | valid pre: 0.8352 | test pre: 0.8083\n"
     ]
    },
    {
     "name": "stderr",
     "output_type": "stream",
     "text": [
      "\r",
      " 25%|████████████████████████████▉                                                                                         | 491/2000 [21:01<1:01:33,  2.45s/it]"
     ]
    },
    {
     "name": "stdout",
     "output_type": "stream",
     "text": [
      "Epoch 490 | Train loss: 0.0182 | Valid loss: 0.5390\n",
      "Train ACC: 0.9790 | valid ACC: 0.8521 | test ACC: 0.7761\n",
      "Train f1: 0.9861 | valid f1: 0.8393 | test f1: 0.7817\n",
      "Train pre: 0.9970 | valid pre: 0.8350 | test pre: 0.8084\n"
     ]
    },
    {
     "name": "stderr",
     "output_type": "stream",
     "text": [
      "\r",
      " 25%|█████████████████████████████▌                                                                                          | 492/2000 [21:03<56:59,  2.27s/it]"
     ]
    },
    {
     "name": "stdout",
     "output_type": "stream",
     "text": [
      "Epoch 491 | Train loss: 0.0155 | Valid loss: 0.5403\n",
      "Train ACC: 0.9968 | valid ACC: 0.8519 | test ACC: 0.7757\n",
      "Train f1: 0.9966 | valid f1: 0.8389 | test f1: 0.7806\n",
      "Train pre: 0.9964 | valid pre: 0.8347 | test pre: 0.8050\n"
     ]
    },
    {
     "name": "stderr",
     "output_type": "stream",
     "text": [
      "\r",
      " 25%|█████████████████████████████                                                                                         | 493/2000 [21:06<1:00:57,  2.43s/it]"
     ]
    },
    {
     "name": "stdout",
     "output_type": "stream",
     "text": [
      "Epoch 492 | Train loss: 0.0195 | Valid loss: 0.5424\n",
      "Train ACC: 0.9785 | valid ACC: 0.8513 | test ACC: 0.7776\n",
      "Train f1: 0.9845 | valid f1: 0.8385 | test f1: 0.7826\n",
      "Train pre: 0.9942 | valid pre: 0.8344 | test pre: 0.8077\n"
     ]
    },
    {
     "name": "stderr",
     "output_type": "stream",
     "text": [
      "\r",
      " 25%|█████████████████████████████▋                                                                                          | 494/2000 [21:07<54:59,  2.19s/it]"
     ]
    },
    {
     "name": "stdout",
     "output_type": "stream",
     "text": [
      "Epoch 493 | Train loss: 0.0206 | Valid loss: 0.5435\n",
      "Train ACC: 0.9975 | valid ACC: 0.8511 | test ACC: 0.7777\n",
      "Train f1: 0.9977 | valid f1: 0.8384 | test f1: 0.7825\n",
      "Train pre: 0.9979 | valid pre: 0.8369 | test pre: 0.8070\n"
     ]
    },
    {
     "name": "stderr",
     "output_type": "stream",
     "text": [
      "\r",
      " 25%|█████████████████████████████▏                                                                                        | 495/2000 [21:10<1:00:06,  2.40s/it]"
     ]
    },
    {
     "name": "stdout",
     "output_type": "stream",
     "text": [
      "Epoch 494 | Train loss: 0.0123 | Valid loss: 0.5469\n",
      "Train ACC: 0.9798 | valid ACC: 0.8516 | test ACC: 0.7811\n",
      "Train f1: 0.9794 | valid f1: 0.8392 | test f1: 0.7860\n",
      "Train pre: 0.9847 | valid pre: 0.8375 | test pre: 0.8117\n"
     ]
    },
    {
     "name": "stderr",
     "output_type": "stream",
     "text": [
      "\r",
      " 25%|█████████████████████████████▊                                                                                          | 496/2000 [21:12<54:57,  2.19s/it]"
     ]
    },
    {
     "name": "stdout",
     "output_type": "stream",
     "text": [
      "Epoch 495 | Train loss: 0.0164 | Valid loss: 0.5504\n",
      "Train ACC: 0.9782 | valid ACC: 0.8542 | test ACC: 0.7804\n",
      "Train f1: 0.9852 | valid f1: 0.8427 | test f1: 0.7845\n",
      "Train pre: 0.9959 | valid pre: 0.8460 | test pre: 0.8087\n"
     ]
    },
    {
     "name": "stderr",
     "output_type": "stream",
     "text": [
      "\r",
      " 25%|█████████████████████████████▎                                                                                        | 497/2000 [21:15<1:00:24,  2.41s/it]"
     ]
    },
    {
     "name": "stdout",
     "output_type": "stream",
     "text": [
      "Epoch 496 | Train loss: 0.0140 | Valid loss: 0.5555\n",
      "Train ACC: 0.9951 | valid ACC: 0.8532 | test ACC: 0.7801\n",
      "Train f1: 0.9966 | valid f1: 0.8418 | test f1: 0.7838\n",
      "Train pre: 0.9981 | valid pre: 0.8455 | test pre: 0.8067\n"
     ]
    },
    {
     "name": "stderr",
     "output_type": "stream",
     "text": [
      "\r",
      " 25%|█████████████████████████████▍                                                                                        | 498/2000 [21:18<1:02:36,  2.50s/it]"
     ]
    },
    {
     "name": "stdout",
     "output_type": "stream",
     "text": [
      "Epoch 497 | Train loss: 0.0163 | Valid loss: 0.5598\n",
      "Train ACC: 0.9963 | valid ACC: 0.8561 | test ACC: 0.7795\n",
      "Train f1: 0.9970 | valid f1: 0.8437 | test f1: 0.7834\n",
      "Train pre: 0.9978 | valid pre: 0.8466 | test pre: 0.8058\n"
     ]
    },
    {
     "name": "stderr",
     "output_type": "stream",
     "text": [
      "\r",
      " 25%|█████████████████████████████▉                                                                                          | 499/2000 [21:19<57:13,  2.29s/it]"
     ]
    },
    {
     "name": "stdout",
     "output_type": "stream",
     "text": [
      "Epoch 498 | Train loss: 0.0174 | Valid loss: 0.5609\n",
      "Train ACC: 0.9949 | valid ACC: 0.8595 | test ACC: 0.7791\n",
      "Train f1: 0.9960 | valid f1: 0.8461 | test f1: 0.7832\n",
      "Train pre: 0.9972 | valid pre: 0.8484 | test pre: 0.8054\n"
     ]
    },
    {
     "name": "stderr",
     "output_type": "stream",
     "text": [
      "\r",
      " 25%|██████████████████████████████                                                                                          | 500/2000 [21:21<53:03,  2.12s/it]"
     ]
    },
    {
     "name": "stdout",
     "output_type": "stream",
     "text": [
      "Epoch 499 | Train loss: 0.0133 | Valid loss: 0.5630\n",
      "Train ACC: 0.9976 | valid ACC: 0.8603 | test ACC: 0.7809\n",
      "Train f1: 0.9856 | valid f1: 0.8471 | test f1: 0.7852\n",
      "Train pre: 0.9774 | valid pre: 0.8493 | test pre: 0.8072\n"
     ]
    },
    {
     "name": "stderr",
     "output_type": "stream",
     "text": [
      "\r",
      " 25%|██████████████████████████████                                                                                          | 501/2000 [21:24<57:00,  2.28s/it]"
     ]
    },
    {
     "name": "stdout",
     "output_type": "stream",
     "text": [
      "Epoch 500 | Train loss: 0.0165 | Valid loss: 0.5649\n",
      "Train ACC: 0.9969 | valid ACC: 0.8565 | test ACC: 0.7825\n",
      "Train f1: 0.9966 | valid f1: 0.8438 | test f1: 0.7873\n",
      "Train pre: 0.9963 | valid pre: 0.8418 | test pre: 0.8094\n"
     ]
    },
    {
     "name": "stderr",
     "output_type": "stream",
     "text": [
      "\r",
      " 25%|█████████████████████████████▌                                                                                        | 502/2000 [21:27<1:02:04,  2.49s/it]"
     ]
    },
    {
     "name": "stdout",
     "output_type": "stream",
     "text": [
      "Epoch 501 | Train loss: 0.0178 | Valid loss: 0.5658\n",
      "Train ACC: 0.9963 | valid ACC: 0.8524 | test ACC: 0.7837\n",
      "Train f1: 0.9966 | valid f1: 0.8404 | test f1: 0.7895\n",
      "Train pre: 0.9969 | valid pre: 0.8367 | test pre: 0.8117\n"
     ]
    },
    {
     "name": "stderr",
     "output_type": "stream",
     "text": [
      "\r",
      " 25%|█████████████████████████████▋                                                                                        | 503/2000 [21:30<1:05:06,  2.61s/it]"
     ]
    },
    {
     "name": "stdout",
     "output_type": "stream",
     "text": [
      "Epoch 502 | Train loss: 0.0148 | Valid loss: 0.5675\n",
      "Train ACC: 0.9959 | valid ACC: 0.8526 | test ACC: 0.7855\n",
      "Train f1: 0.9952 | valid f1: 0.8409 | test f1: 0.7912\n",
      "Train pre: 0.9944 | valid pre: 0.8375 | test pre: 0.8131\n"
     ]
    },
    {
     "name": "stderr",
     "output_type": "stream",
     "text": [
      "\r",
      " 25%|█████████████████████████████▋                                                                                        | 504/2000 [21:33<1:07:23,  2.70s/it]"
     ]
    },
    {
     "name": "stdout",
     "output_type": "stream",
     "text": [
      "Epoch 503 | Train loss: 0.0137 | Valid loss: 0.5722\n",
      "Train ACC: 0.9965 | valid ACC: 0.8533 | test ACC: 0.7873\n",
      "Train f1: 0.9967 | valid f1: 0.8420 | test f1: 0.7921\n",
      "Train pre: 0.9969 | valid pre: 0.8413 | test pre: 0.8134\n"
     ]
    },
    {
     "name": "stderr",
     "output_type": "stream",
     "text": [
      "\r",
      " 25%|█████████████████████████████▊                                                                                        | 505/2000 [21:35<1:06:42,  2.68s/it]"
     ]
    },
    {
     "name": "stdout",
     "output_type": "stream",
     "text": [
      "Epoch 504 | Train loss: 0.0189 | Valid loss: 0.5739\n",
      "Train ACC: 0.9939 | valid ACC: 0.8533 | test ACC: 0.7869\n",
      "Train f1: 0.9944 | valid f1: 0.8420 | test f1: 0.7916\n",
      "Train pre: 0.9949 | valid pre: 0.8413 | test pre: 0.8151\n"
     ]
    },
    {
     "name": "stderr",
     "output_type": "stream",
     "text": [
      "\r",
      " 25%|█████████████████████████████▊                                                                                        | 505/2000 [21:37<1:04:00,  2.57s/it]"
     ]
    },
    {
     "name": "stdout",
     "output_type": "stream",
     "text": [
      "Epoch 505 | Train loss: 0.0157 | Valid loss: 0.5744\n",
      "Train ACC: 0.9969 | valid ACC: 0.8493 | test ACC: 0.7847\n",
      "Train f1: 0.9973 | valid f1: 0.8380 | test f1: 0.7898\n",
      "Train pre: 0.9976 | valid pre: 0.8376 | test pre: 0.8126\n",
      "Early stopped.\n"
     ]
    },
    {
     "name": "stderr",
     "output_type": "stream",
     "text": [
      "\n"
     ]
    }
   ],
   "source": [
    "optim = torch.optim.AdamW([\n",
    "    {'params': list(model.embedder.parameters()), 'lr': config['lr']*0.1,\n",
    "     'weight_decay': 1e-10},\n",
    "    {'params': list(model.encoder.parameters()) + list(model.head.parameters()) + list(model.latent.parameters()), 'lr': config['lr'],\n",
    "     'weight_decay': config['wd']},\n",
    "])\n",
    "\n",
    "if config['scheduler'] == 'plat':\n",
    "    scheduler = ReduceLROnPlateau(optim, 'min', patience=config['patience'], factor=0.95)\n",
    "    \n",
    "    \n",
    "eval_dict = {}\n",
    "eval_dict['num_classes'] = len(np.unique(labels))\n",
    "train_loss = []\n",
    "valid_loss = []\n",
    "valid_metric = []\n",
    "test_metric = []\n",
    "final_test = -1\n",
    "final_epoch = -1\n",
    "\n",
    "for epoch in tqdm(range(config['epochs'])):\n",
    "    epoch_loss = []\n",
    "    train_scores = []\n",
    "    model.train()\n",
    "\n",
    "    if epoch<30 and config['scheduler'] != 'cos':\n",
    "        for param_group in optim.param_groups[1:]:\n",
    "            param_group['lr'] = config['lr'] * (epoch+1)/30\n",
    "\n",
    "    for i in range(len(seq_list)):\n",
    "        idx = torch.arange(batch_list[i].shape[0]).long()\n",
    "        input_dict = {\n",
    "            'coord': coord_list[i].to(device),#[cur].to(device),\n",
    "            'label': label_list[i].to(device),#[cur].to(device),\n",
    "            'loss_mask': train_idx[i].to(device).bool(),#[cur].to(device).bool(),\n",
    "        }\n",
    "        input_dict['x_seq'] = seq_list[i].to(device)\n",
    "        x_dict = XDict(input_dict)\n",
    "        out_dict, loss = model(x_dict, gene_list)\n",
    "        with torch.no_grad():\n",
    "            train_scores.append(downstream_eval('annotation', out_dict['pred'], out_dict['label'], **eval_dict))\n",
    "\n",
    "        optim.zero_grad()\n",
    "        loss.backward()\n",
    "        nn.utils.clip_grad_norm_(model.parameters(), 2.0)\n",
    "        optim.step()\n",
    "        epoch_loss.append(loss.item())\n",
    "\n",
    "        if config['scheduler'] == 'cos':\n",
    "            scheduler.step()\n",
    "\n",
    "        elif config['scheduler'] == 'plat':\n",
    "            scheduler.step(loss.item())\n",
    "    train_scores_new = {}\n",
    "    for k in train_scores[0].keys():\n",
    "        train_scores_new[k] = []\n",
    "        for t in train_scores:\n",
    "            train_scores_new[k].append(t[k])\n",
    "        train_scores_new[k] = sum(train_scores_new[k]) / len(train_scores_new[k])\n",
    "    train_scores = train_scores_new\n",
    "    train_loss.append(sum(epoch_loss) / len(epoch_loss))\n",
    "\n",
    "    with torch.no_grad():\n",
    "        model.eval()\n",
    "        epoch_loss = []\n",
    "        valid_epoch = []\n",
    "        valid_pred = []\n",
    "        valid_lb = []\n",
    "        test_pred = []\n",
    "        test_lb = []\n",
    "        for i in range(len(seq_list)):\n",
    "            input_dict = {\n",
    "                'coord': coord_list[i].to(device),#[cur].to(device),\n",
    "                'label': label_list[i].to(device),#[cur].to(device),\n",
    "                'loss_mask': torch.ones([label_list[i].shape[0]]).to(device).bool(),\n",
    "            }\n",
    "            input_dict['x_seq'] = seq_list[i].to(device)#.index_select(0, cur.to(device))\n",
    "            x_dict = XDict(input_dict)\n",
    "\n",
    "            out_dict, loss = model(x_dict, gene_list)\n",
    "            epoch_loss.append(loss.item())\n",
    "            valid_pred.append(out_dict['pred'][valid_idx[i]])\n",
    "            valid_lb.append(out_dict['label'][valid_idx[i]])\n",
    "            test_pred.append(out_dict['pred'][test_idx[i]])\n",
    "            test_lb.append(out_dict['label'][test_idx[i]])\n",
    "\n",
    "            valid_scores = downstream_eval('annotation', torch.cat(valid_pred), torch.cat(valid_lb), **eval_dict)\n",
    "            test_scores = downstream_eval('annotation', torch.cat(test_pred), torch.cat(test_lb), **eval_dict)\n",
    "            valid_epoch.append(valid_scores['f1_score'])\n",
    "    valid_loss.append(sum(epoch_loss) / len(epoch_loss))\n",
    "    valid_metric.append(sum(valid_epoch) / len(valid_epoch))\n",
    "    test_metric.append(test_scores['f1_score'])\n",
    "\n",
    "    print(f'Epoch {epoch} | Train loss: {train_loss[-1]:.4f} | Valid loss: {valid_loss[-1]:.4f}')\n",
    "    print(\n",
    "        f'Train ACC: {train_scores[\"acc\"]:.4f} | valid ACC: {valid_scores[\"acc\"]:.4f} | test ACC: {test_scores[\"acc\"]:.4f}')\n",
    "    print(\n",
    "        f'Train f1: {train_scores[\"f1_score\"]:.4f} | valid f1: {valid_scores[\"f1_score\"]:.4f} | test f1: {test_scores[\"f1_score\"]:.4f}')\n",
    "    print(\n",
    "        f'Train pre: {train_scores[\"precision\"]:.4f} | valid pre: {valid_scores[\"precision\"]:.4f} | test pre: {test_scores[\"precision\"]:.4f}')\n",
    "\n",
    "    if max(valid_metric) == valid_metric[-1]:\n",
    "        best_dict = deepcopy(model.state_dict())\n",
    "        final_test = test_scores[\"f1_score\"]\n",
    "        final_epoch = epoch\n",
    "\n",
    "    if max(valid_metric) != max(valid_metric[-config['es']:]):\n",
    "        print('Early stopped.')\n",
    "        break"
   ]
  },
  {
   "cell_type": "markdown",
   "id": "5c009d50",
   "metadata": {},
   "source": [
    "## Load best model and display final performance"
   ]
  },
  {
   "cell_type": "code",
   "execution_count": 8,
   "id": "f3cb5978",
   "metadata": {},
   "outputs": [
    {
     "name": "stdout",
     "output_type": "stream",
     "text": [
      "{'final_test_f1': 0.7886810302734375, 'final_epoch': 305, 'dataset': 'MS'}\n"
     ]
    }
   ],
   "source": [
    "model.load_state_dict(best_dict)\n",
    "print({'final_test_f1': final_test, 'final_epoch': final_epoch, 'dataset': DATASET})"
   ]
  },
  {
   "cell_type": "code",
   "execution_count": null,
   "id": "8f6da8ee",
   "metadata": {},
   "outputs": [],
   "source": []
  }
 ],
 "metadata": {
  "kernelspec": {
   "display_name": "cellplm",
   "language": "python",
   "name": "cellplm"
  },
  "language_info": {
   "codemirror_mode": {
    "name": "ipython",
    "version": 3
   },
   "file_extension": ".py",
   "mimetype": "text/x-python",
   "name": "python",
   "nbconvert_exporter": "python",
   "pygments_lexer": "ipython3",
   "version": "3.9.18"
  }
 },
 "nbformat": 4,
 "nbformat_minor": 5
}
